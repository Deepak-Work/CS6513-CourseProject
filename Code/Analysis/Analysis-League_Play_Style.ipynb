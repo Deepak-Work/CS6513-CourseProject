{
 "cells": [
  {
   "cell_type": "markdown",
   "id": "5c247bf9",
   "metadata": {},
   "source": [
    "# Config"
   ]
  },
  {
   "cell_type": "code",
   "execution_count": 1,
   "id": "0d5052da",
   "metadata": {},
   "outputs": [],
   "source": [
    "from __future__ import print_function\n",
    "from pyspark import SparkContext , SparkConf\n",
    "import sys\n",
    "from operator import add\n",
    "from csv import reader\n",
    "from pyspark.sql import SQLContext, SparkSession\n",
    "import numpy as np"
   ]
  },
  {
   "cell_type": "code",
   "execution_count": 2,
   "id": "f39190d6",
   "metadata": {},
   "outputs": [],
   "source": [
    "from pyspark.sql.functions import col, lit, when, signum, avg, count, sum, round, abs"
   ]
  },
  {
   "cell_type": "code",
   "execution_count": 3,
   "id": "47a1b8ce",
   "metadata": {},
   "outputs": [],
   "source": [
    "from matplotlib import pyplot as plt"
   ]
  },
  {
   "cell_type": "code",
   "execution_count": 22,
   "id": "4dd904b4",
   "metadata": {},
   "outputs": [],
   "source": [
    "from scipy.special import softmax\n",
    "import pandas as pd\n",
    "from sklearn.preprocessing import StandardScaler"
   ]
  },
  {
   "cell_type": "code",
   "execution_count": 5,
   "id": "23680583",
   "metadata": {},
   "outputs": [
    {
     "name": "stderr",
     "output_type": "stream",
     "text": [
      "Setting default log level to \"WARN\".\n",
      "To adjust logging level use sc.setLogLevel(newLevel). For SparkR, use setLogLevel(newLevel).\n",
      "23/12/11 22:16:39 INFO org.apache.spark.SparkEnv: Registering MapOutputTracker\n",
      "23/12/11 22:16:39 INFO org.apache.spark.SparkEnv: Registering BlockManagerMaster\n",
      "23/12/11 22:16:39 INFO org.apache.spark.SparkEnv: Registering BlockManagerMasterHeartbeat\n",
      "23/12/11 22:16:40 INFO org.apache.spark.SparkEnv: Registering OutputCommitCoordinator\n"
     ]
    }
   ],
   "source": [
    "cf = SparkConf()\n",
    "cf.set(\"spark.submit.deployMode\",\"client\")\n",
    "\n",
    "sc = SparkContext.getOrCreate(cf)\n",
    "\n",
    "spark = SparkSession.builder.appName(\"Analysis_RDS\").getOrCreate()"
   ]
  },
  {
   "cell_type": "markdown",
   "id": "0c61018d",
   "metadata": {},
   "source": [
    "# Top-5 league comparison 2015/16 season   "
   ]
  },
  {
   "cell_type": "code",
   "execution_count": 16,
   "id": "d34c0a9a",
   "metadata": {},
   "outputs": [],
   "source": [
    "#Data cohort for consideration\n",
    "leagues = ['La Liga','Premier League','Serie A','Ligue 1','1. Bundesliga']\n",
    "season = '2015/16'\n",
    "season_id = 27\n",
    "gender = 'male'"
   ]
  },
  {
   "cell_type": "code",
   "execution_count": 6,
   "id": "98c49ec4",
   "metadata": {
    "scrolled": true
   },
   "outputs": [
    {
     "name": "stderr",
     "output_type": "stream",
     "text": [
      "                                                                                \r"
     ]
    },
    {
     "name": "stdout",
     "output_type": "stream",
     "text": [
      "root\n",
      " |-- away_score: long (nullable = true)\n",
      " |-- away_team_away_team_gender: string (nullable = true)\n",
      " |-- away_team_away_team_group: string (nullable = true)\n",
      " |-- away_team_away_team_id: long (nullable = true)\n",
      " |-- away_team_away_team_name: string (nullable = true)\n",
      " |-- away_team_managers_country_id: long (nullable = true)\n",
      " |-- away_team_managers_country_name: string (nullable = true)\n",
      " |-- away_team_managers_name: string (nullable = true)\n",
      " |-- away_team_managers_dob: string (nullable = true)\n",
      " |-- away_team_managers_id: long (nullable = true)\n",
      " |-- away_team_managers_nickname: string (nullable = true)\n",
      " |-- competition_competition_id: long (nullable = true)\n",
      " |-- competition_competition_name: string (nullable = true)\n",
      " |-- competition_country_name: string (nullable = true)\n",
      " |-- competition_stage_id: long (nullable = true)\n",
      " |-- competition_stage_name: string (nullable = true)\n",
      " |-- home_score: long (nullable = true)\n",
      " |-- home_team_home_team_gender: string (nullable = true)\n",
      " |-- home_team_home_team_group: string (nullable = true)\n",
      " |-- home_team_home_team_id: long (nullable = true)\n",
      " |-- home_team_home_team_name: string (nullable = true)\n",
      " |-- home_team_managers_country_id: long (nullable = true)\n",
      " |-- home_team_managers_country_name: string (nullable = true)\n",
      " |-- home_team_managers_name: string (nullable = true)\n",
      " |-- home_team_managers_dob: string (nullable = true)\n",
      " |-- home_team_managers_id: long (nullable = true)\n",
      " |-- home_team_managers_nickname: string (nullable = true)\n",
      " |-- kick_off: string (nullable = true)\n",
      " |-- last_updated: string (nullable = true)\n",
      " |-- last_updated_360: string (nullable = true)\n",
      " |-- match_date: string (nullable = true)\n",
      " |-- match_id: long (nullable = true)\n",
      " |-- match_status: string (nullable = true)\n",
      " |-- match_status_360: string (nullable = true)\n",
      " |-- match_week: long (nullable = true)\n",
      " |-- referee_country_id: long (nullable = true)\n",
      " |-- referee_country_name: string (nullable = true)\n",
      " |-- referee_id: long (nullable = true)\n",
      " |-- referee_name: string (nullable = true)\n",
      " |-- season_season_id: long (nullable = true)\n",
      " |-- season_season_name: string (nullable = true)\n",
      " |-- stadium_country_id: long (nullable = true)\n",
      " |-- stadium_country_name: string (nullable = true)\n",
      " |-- stadium_id: long (nullable = true)\n",
      " |-- stadium_name: string (nullable = true)\n",
      "\n"
     ]
    }
   ],
   "source": [
    "filepath = 'Project/Data/Format_data/matches.parquet'\n",
    "df_matches_data = spark.read.parquet(filepath)\n",
    "df_matches_data.printSchema()"
   ]
  },
  {
   "cell_type": "code",
   "execution_count": 7,
   "id": "ba22da76",
   "metadata": {},
   "outputs": [
    {
     "name": "stdout",
     "output_type": "stream",
     "text": [
      "root\n",
      " |-- competition_gender: string (nullable = true)\n",
      " |-- competition_id: long (nullable = true)\n",
      " |-- competition_international: boolean (nullable = true)\n",
      " |-- competition_name: string (nullable = true)\n",
      " |-- competition_youth: boolean (nullable = true)\n",
      " |-- country_name: string (nullable = true)\n",
      " |-- match_available: string (nullable = true)\n",
      " |-- match_available_360: string (nullable = true)\n",
      " |-- match_updated: string (nullable = true)\n",
      " |-- match_updated_360: string (nullable = true)\n",
      " |-- season_id: long (nullable = true)\n",
      " |-- season_name: string (nullable = true)\n",
      "\n"
     ]
    }
   ],
   "source": [
    "filepath = 'Project/Data/Format_data/competitions.parquet'\n",
    "df_comp_data = spark.read.parquet(filepath)\n",
    "df_comp_data.printSchema()"
   ]
  },
  {
   "cell_type": "code",
   "execution_count": 13,
   "id": "17ecbd35",
   "metadata": {},
   "outputs": [],
   "source": [
    "new_data_dir = '/user/dc5415_nyu_edu/Project/Data/Format_data/'"
   ]
  },
  {
   "cell_type": "code",
   "execution_count": 17,
   "id": "23c00e25",
   "metadata": {},
   "outputs": [],
   "source": [
    "df_comp_focus = df_comp_data.filter((col('competition_name').isin(leagues)) &\n",
    "                   (col('season_id')==season_id))"
   ]
  },
  {
   "cell_type": "code",
   "execution_count": 18,
   "id": "ca3ccc86",
   "metadata": {},
   "outputs": [],
   "source": [
    "## Getting all matches based on the competition in focus\n",
    "\n",
    "condition = [(df_matches_data.competition_competition_id == df_comp_focus.competition_id) &\n",
    "             (df_matches_data.season_season_id == df_comp_focus.season_id)]\n",
    "df_match_focus = df_matches_data.join(df_comp_focus, on = condition,how= 'right')"
   ]
  },
  {
   "cell_type": "code",
   "execution_count": 19,
   "id": "76892c72",
   "metadata": {
    "scrolled": true
   },
   "outputs": [
    {
     "name": "stdout",
     "output_type": "stream",
     "text": [
      "root\n",
      " |-- away_score: long (nullable = true)\n",
      " |-- away_team_away_team_gender: string (nullable = true)\n",
      " |-- away_team_away_team_group: string (nullable = true)\n",
      " |-- away_team_away_team_id: long (nullable = true)\n",
      " |-- away_team_away_team_name: string (nullable = true)\n",
      " |-- away_team_managers_country_id: long (nullable = true)\n",
      " |-- away_team_managers_country_name: string (nullable = true)\n",
      " |-- away_team_managers_name: string (nullable = true)\n",
      " |-- away_team_managers_dob: string (nullable = true)\n",
      " |-- away_team_managers_id: long (nullable = true)\n",
      " |-- away_team_managers_nickname: string (nullable = true)\n",
      " |-- competition_competition_id: long (nullable = true)\n",
      " |-- competition_competition_name: string (nullable = true)\n",
      " |-- competition_country_name: string (nullable = true)\n",
      " |-- competition_stage_id: long (nullable = true)\n",
      " |-- competition_stage_name: string (nullable = true)\n",
      " |-- home_score: long (nullable = true)\n",
      " |-- home_team_home_team_gender: string (nullable = true)\n",
      " |-- home_team_home_team_group: string (nullable = true)\n",
      " |-- home_team_home_team_id: long (nullable = true)\n",
      " |-- home_team_home_team_name: string (nullable = true)\n",
      " |-- home_team_managers_country_id: long (nullable = true)\n",
      " |-- home_team_managers_country_name: string (nullable = true)\n",
      " |-- home_team_managers_name: string (nullable = true)\n",
      " |-- home_team_managers_dob: string (nullable = true)\n",
      " |-- home_team_managers_id: long (nullable = true)\n",
      " |-- home_team_managers_nickname: string (nullable = true)\n",
      " |-- kick_off: string (nullable = true)\n",
      " |-- last_updated: string (nullable = true)\n",
      " |-- last_updated_360: string (nullable = true)\n",
      " |-- match_date: string (nullable = true)\n",
      " |-- match_id: long (nullable = true)\n",
      " |-- match_status: string (nullable = true)\n",
      " |-- match_status_360: string (nullable = true)\n",
      " |-- match_week: long (nullable = true)\n",
      " |-- referee_country_id: long (nullable = true)\n",
      " |-- referee_country_name: string (nullable = true)\n",
      " |-- referee_id: long (nullable = true)\n",
      " |-- referee_name: string (nullable = true)\n",
      " |-- season_season_id: long (nullable = true)\n",
      " |-- season_season_name: string (nullable = true)\n",
      " |-- stadium_country_id: long (nullable = true)\n",
      " |-- stadium_country_name: string (nullable = true)\n",
      " |-- stadium_id: long (nullable = true)\n",
      " |-- stadium_name: string (nullable = true)\n",
      " |-- competition_gender: string (nullable = true)\n",
      " |-- competition_id: long (nullable = true)\n",
      " |-- competition_international: boolean (nullable = true)\n",
      " |-- competition_name: string (nullable = true)\n",
      " |-- competition_youth: boolean (nullable = true)\n",
      " |-- country_name: string (nullable = true)\n",
      " |-- match_available: string (nullable = true)\n",
      " |-- match_available_360: string (nullable = true)\n",
      " |-- match_updated: string (nullable = true)\n",
      " |-- match_updated_360: string (nullable = true)\n",
      " |-- season_id: long (nullable = true)\n",
      " |-- season_name: string (nullable = true)\n",
      "\n"
     ]
    }
   ],
   "source": [
    "df_match_focus.printSchema()"
   ]
  },
  {
   "cell_type": "code",
   "execution_count": 20,
   "id": "7dfe322f",
   "metadata": {},
   "outputs": [
    {
     "name": "stderr",
     "output_type": "stream",
     "text": [
      "                                                                                \r"
     ]
    },
    {
     "data": {
      "text/plain": [
       "1823"
      ]
     },
     "execution_count": 20,
     "metadata": {},
     "output_type": "execute_result"
    }
   ],
   "source": [
    "df_match_focus.count()"
   ]
  },
  {
   "cell_type": "code",
   "execution_count": 21,
   "id": "cd236ddb",
   "metadata": {},
   "outputs": [],
   "source": [
    "df_match_focus = df_match_focus.withColumn('win_team_id',\n",
    "                                           when(col('away_score')>col('home_score'),col('away_team_away_team_id')).\\\n",
    "                                           when(col('away_score')<col('home_score'),col('home_team_home_team_id')).\\\n",
    "                                           otherwise(-1))\n",
    "\n",
    "df_match_focus = df_match_focus.withColumn('lose_team_id',\n",
    "                                           when(col('away_score')>col('home_score'),col('home_team_home_team_id')).\\\n",
    "                                           when(col('away_score')<col('home_score'),col('away_team_away_team_id')).\\\n",
    "                                           otherwise(-1))\n",
    "\n",
    "df_match_focus = df_match_focus.withColumn('if_draw',col('away_score')==col('home_score'))"
   ]
  },
  {
   "cell_type": "code",
   "execution_count": 13,
   "id": "48cb56c8",
   "metadata": {},
   "outputs": [
    {
     "name": "stderr",
     "output_type": "stream",
     "text": [
      "                                                                                \r"
     ]
    },
    {
     "name": "stdout",
     "output_type": "stream",
     "text": [
      "+----------------------------+-------+-----+\n",
      "|competition_competition_name|if_draw|count|\n",
      "+----------------------------+-------+-----+\n",
      "|               1. Bundesliga|   true|   71|\n",
      "|                     Ligue 1|  false|  269|\n",
      "|              Premier League|  false|  273|\n",
      "|               1. Bundesliga|  false|  235|\n",
      "|                     Serie A|  false|  285|\n",
      "|                     Serie A|   true|   95|\n",
      "|                     La Liga|   true|   92|\n",
      "|                     Ligue 1|   true|  108|\n",
      "|              Premier League|   true|  107|\n",
      "|                     La Liga|  false|  288|\n",
      "+----------------------------+-------+-----+\n",
      "\n"
     ]
    }
   ],
   "source": [
    "df_match_focus.groupby(col('competition_competition_name'),col('if_draw')).count().show()"
   ]
  },
  {
   "cell_type": "markdown",
   "id": "3443a33b",
   "metadata": {},
   "source": [
    "## Pass analysis"
   ]
  },
  {
   "cell_type": "code",
   "execution_count": 22,
   "id": "fb18dfc5",
   "metadata": {
    "scrolled": true
   },
   "outputs": [
    {
     "name": "stdout",
     "output_type": "stream",
     "text": [
      "root\n",
      " |-- pass_aerial_won: boolean (nullable = true)\n",
      " |-- pass_angle: double (nullable = true)\n",
      " |-- pass_assisted_shot_id: string (nullable = true)\n",
      " |-- pass_body_part_id: long (nullable = true)\n",
      " |-- pass_body_part_name: string (nullable = true)\n",
      " |-- pass_cross: boolean (nullable = true)\n",
      " |-- pass_cut_back: boolean (nullable = true)\n",
      " |-- pass_deflected: boolean (nullable = true)\n",
      " |-- pass_end_location: array (nullable = true)\n",
      " |    |-- element: double (containsNull = true)\n",
      " |-- pass_goal_assist: boolean (nullable = true)\n",
      " |-- pass_height_id: long (nullable = true)\n",
      " |-- pass_height_name: string (nullable = true)\n",
      " |-- pass_inswinging: boolean (nullable = true)\n",
      " |-- pass_length: double (nullable = true)\n",
      " |-- pass_miscommunication: boolean (nullable = true)\n",
      " |-- pass_no_touch: boolean (nullable = true)\n",
      " |-- pass_outcome_id: long (nullable = true)\n",
      " |-- pass_outcome_name: string (nullable = true)\n",
      " |-- pass_recipient_id: long (nullable = true)\n",
      " |-- pass_recipient_name: string (nullable = true)\n",
      " |-- pass_shot_assist: boolean (nullable = true)\n",
      " |-- pass_straight: boolean (nullable = true)\n",
      " |-- pass_switch: boolean (nullable = true)\n",
      " |-- pass_technique_id: long (nullable = true)\n",
      " |-- pass_technique_name: string (nullable = true)\n",
      " |-- pass_through_ball: boolean (nullable = true)\n",
      " |-- pass_type_id: long (nullable = true)\n",
      " |-- pass_type_name: string (nullable = true)\n",
      " |-- match_id: long (nullable = true)\n",
      " |-- id: string (nullable = true)\n",
      " |-- index: long (nullable = true)\n",
      " |-- period: long (nullable = true)\n",
      " |-- timestamp: string (nullable = true)\n",
      " |-- minute: long (nullable = true)\n",
      " |-- second: long (nullable = true)\n",
      " |-- type_id: long (nullable = true)\n",
      " |-- type_name: string (nullable = true)\n",
      " |-- possession: long (nullable = true)\n",
      " |-- possession_team_id: long (nullable = true)\n",
      " |-- possession_team_name: string (nullable = true)\n",
      " |-- play_pattern_id: long (nullable = true)\n",
      " |-- play_pattern_name: string (nullable = true)\n",
      " |-- team_id: long (nullable = true)\n",
      " |-- team_name: string (nullable = true)\n",
      " |-- player_id: long (nullable = true)\n",
      " |-- player_name: string (nullable = true)\n",
      " |-- position_id: long (nullable = true)\n",
      " |-- position_name: string (nullable = true)\n",
      " |-- location: array (nullable = true)\n",
      " |    |-- element: double (containsNull = true)\n",
      " |-- duration: double (nullable = true)\n",
      " |-- under_pressure: boolean (nullable = true)\n",
      " |-- off_camera: boolean (nullable = true)\n",
      " |-- out: boolean (nullable = true)\n",
      " |-- related_events: array (nullable = true)\n",
      " |    |-- element: string (containsNull = true)\n",
      " |-- Passxlength: double (nullable = true)\n",
      " |-- PassType: string (nullable = false)\n",
      " |-- PassOffside: boolean (nullable = false)\n",
      "\n"
     ]
    }
   ],
   "source": [
    "event = 'pass'\n",
    "filename = f'{new_data_dir}event_{event}.parquet'\n",
    "df_pass = spark.read.parquet(filename)\n",
    "\n",
    "df_pass = df_pass.withColumn('Passxlength',col('pass_end_location')[0]-col('location')[0])\n",
    "\n",
    "df_pass = df_pass.withColumn('PassType',when((col('play_pattern_id')==6)|\n",
    "                                                (abs(col('Passxlength'))>70),'Transition').\\\n",
    "                             when(col('pass_angle')>0,'Attacking').\\\n",
    "                            when(col('pass_angle')<0,'Defensive').otherwise('Neutral'))\n",
    "                    \n",
    "\n",
    "df_pass = df_pass.withColumn('PassOffside',when((col('pass_outcome_id')==76),True).otherwise(False))\n",
    "df_pass.printSchema()"
   ]
  },
  {
   "cell_type": "code",
   "execution_count": 23,
   "id": "a98e1cba",
   "metadata": {
    "scrolled": true
   },
   "outputs": [
    {
     "name": "stderr",
     "output_type": "stream",
     "text": [
      "                                                                                \r"
     ]
    },
    {
     "name": "stdout",
     "output_type": "stream",
     "text": [
      "+----------+-------+\n",
      "|  PassType|  count|\n",
      "+----------+-------+\n",
      "| Attacking|1518873|\n",
      "|Transition|  42176|\n",
      "|   Neutral|  21048|\n",
      "| Defensive|1538014|\n",
      "+----------+-------+\n",
      "\n"
     ]
    }
   ],
   "source": [
    "df_pass.groupby('PassType').count().show()"
   ]
  },
  {
   "cell_type": "code",
   "execution_count": 24,
   "id": "0a341710",
   "metadata": {},
   "outputs": [
    {
     "name": "stderr",
     "output_type": "stream",
     "text": [
      "[Stage 13:============================>                            (8 + 8) / 16]\r"
     ]
    },
    {
     "name": "stdout",
     "output_type": "stream",
     "text": [
      "+-----------+-------+\n",
      "|PassOffside|  count|\n",
      "+-----------+-------+\n",
      "|       true|  13327|\n",
      "|      false|3106784|\n",
      "+-----------+-------+\n",
      "\n"
     ]
    },
    {
     "name": "stderr",
     "output_type": "stream",
     "text": [
      "\r",
      "                                                                                \r"
     ]
    }
   ],
   "source": [
    "df_pass.groupby('PassOffside').count().show()"
   ]
  },
  {
   "cell_type": "code",
   "execution_count": 25,
   "id": "9ec9f630",
   "metadata": {
    "scrolled": true
   },
   "outputs": [
    {
     "name": "stdout",
     "output_type": "stream",
     "text": [
      "root\n",
      " |-- match_id: long (nullable = true)\n",
      " |-- team_id: long (nullable = true)\n",
      " |-- team_name: string (nullable = true)\n",
      " |-- pass_offside_count: long (nullable = true)\n",
      "\n"
     ]
    }
   ],
   "source": [
    "df_pass_off_agg = df_pass.groupby(col('match_id'),col('team_id'),col('team_name')).agg(sum(when(col('PassOffside'),1).\\\n",
    "                                                                                                  otherwise(0)).alias('pass_offside_count'))\n",
    "\n",
    "df_pass_off_agg.printSchema()"
   ]
  },
  {
   "cell_type": "code",
   "execution_count": 26,
   "id": "d56204c3",
   "metadata": {
    "scrolled": true
   },
   "outputs": [
    {
     "name": "stderr",
     "output_type": "stream",
     "text": [
      "[Stage 18:==========================================>             (12 + 4) / 16]\r"
     ]
    },
    {
     "name": "stdout",
     "output_type": "stream",
     "text": [
      "root\n",
      " |-- match_id: long (nullable = true)\n",
      " |-- team_id: long (nullable = true)\n",
      " |-- team_name: string (nullable = true)\n",
      " |-- Attacking_avg_pass_distance: double (nullable = true)\n",
      " |-- Attacking_sum_pass_distance: double (nullable = true)\n",
      " |-- Attacking_pass_count: long (nullable = true)\n",
      " |-- Defensive_avg_pass_distance: double (nullable = true)\n",
      " |-- Defensive_sum_pass_distance: double (nullable = true)\n",
      " |-- Defensive_pass_count: long (nullable = true)\n",
      " |-- Neutral_avg_pass_distance: double (nullable = true)\n",
      " |-- Neutral_sum_pass_distance: double (nullable = true)\n",
      " |-- Neutral_pass_count: long (nullable = true)\n",
      " |-- Transition_avg_pass_distance: double (nullable = true)\n",
      " |-- Transition_sum_pass_distance: double (nullable = true)\n",
      " |-- Transition_pass_count: long (nullable = true)\n",
      "\n"
     ]
    },
    {
     "name": "stderr",
     "output_type": "stream",
     "text": [
      "\r",
      "                                                                                \r"
     ]
    }
   ],
   "source": [
    "df_pass_agg = df_pass.groupby(col('match_id'),col('team_id'),col('team_name')).pivot('PassType').agg(round(avg(col('pass_length')),2).alias('avg_pass_distance'),\n",
    "                                                                                                    round(sum(col('pass_length')),2).alias('sum_pass_distance'),\n",
    "                                                                                                     count('pass_length').alias('pass_count'))\n",
    "\n",
    "df_pass_agg.printSchema()"
   ]
  },
  {
   "cell_type": "code",
   "execution_count": 27,
   "id": "3501bbd6",
   "metadata": {},
   "outputs": [],
   "source": [
    "df_pass_agg = df_pass_agg.withColumn('total_pass_count',col('Attacking_pass_count')+col('Transition_pass_count')+\n",
    "                                     col('Defensive_pass_count')+col('Neutral_pass_count'))\n",
    "\n",
    "df_pass_agg = df_pass_agg.withColumn('attack_pass_share',col('Attacking_pass_count')/col('total_pass_count'))\n",
    "df_pass_agg = df_pass_agg.withColumn('transition_pass_share',col('Transition_pass_count')/col('total_pass_count'))\n",
    "\n",
    "df_pass_agg = df_pass_agg.withColumn('defense_pass_share',col('Defensive_pass_count')/col('total_pass_count'))"
   ]
  },
  {
   "cell_type": "markdown",
   "id": "9cf8d75e",
   "metadata": {},
   "source": [
    "## Carry analysis"
   ]
  },
  {
   "cell_type": "code",
   "execution_count": 28,
   "id": "0bb86073",
   "metadata": {
    "scrolled": true
   },
   "outputs": [
    {
     "name": "stdout",
     "output_type": "stream",
     "text": [
      "root\n",
      " |-- carry_end_location: array (nullable = true)\n",
      " |    |-- element: double (containsNull = true)\n",
      " |-- match_id: long (nullable = true)\n",
      " |-- id: string (nullable = true)\n",
      " |-- index: long (nullable = true)\n",
      " |-- period: long (nullable = true)\n",
      " |-- timestamp: string (nullable = true)\n",
      " |-- minute: long (nullable = true)\n",
      " |-- second: long (nullable = true)\n",
      " |-- type_id: long (nullable = true)\n",
      " |-- type_name: string (nullable = true)\n",
      " |-- possession: long (nullable = true)\n",
      " |-- possession_team_id: long (nullable = true)\n",
      " |-- possession_team_name: string (nullable = true)\n",
      " |-- play_pattern_id: long (nullable = true)\n",
      " |-- play_pattern_name: string (nullable = true)\n",
      " |-- team_id: long (nullable = true)\n",
      " |-- team_name: string (nullable = true)\n",
      " |-- player_id: long (nullable = true)\n",
      " |-- player_name: string (nullable = true)\n",
      " |-- position_id: long (nullable = true)\n",
      " |-- position_name: string (nullable = true)\n",
      " |-- location: array (nullable = true)\n",
      " |    |-- element: double (containsNull = true)\n",
      " |-- duration: double (nullable = true)\n",
      " |-- under_pressure: boolean (nullable = true)\n",
      " |-- off_camera: boolean (nullable = true)\n",
      " |-- out: boolean (nullable = true)\n",
      " |-- related_events: array (nullable = true)\n",
      " |    |-- element: string (containsNull = true)\n",
      "\n"
     ]
    }
   ],
   "source": [
    "event = 'carry'\n",
    "filename = f'{new_data_dir}event_{event}.parquet'\n",
    "df_carry = spark.read.parquet(filename)\n",
    "\n",
    "# df_carry = df_carry.withColumn('carryType',when(col('carry_angle')>0,'Attacking').\\\n",
    "#                             when(col('carry_angle')<0,'Defensive').otherwise('Neutral'))\n",
    "df_carry.printSchema()"
   ]
  },
  {
   "cell_type": "code",
   "execution_count": 29,
   "id": "728ab584",
   "metadata": {
    "scrolled": true
   },
   "outputs": [
    {
     "name": "stderr",
     "output_type": "stream",
     "text": [
      "[Stage 25:=================================================>      (14 + 2) / 16]\r"
     ]
    },
    {
     "name": "stdout",
     "output_type": "stream",
     "text": [
      "+-------+------------------+\n",
      "|summary|     CarryDistance|\n",
      "+-------+------------------+\n",
      "|  count|           2415303|\n",
      "|   mean| 5.837707971996197|\n",
      "| stddev| 7.089627985387496|\n",
      "|    min|               0.0|\n",
      "|    max|112.21853679316978|\n",
      "+-------+------------------+\n",
      "\n"
     ]
    },
    {
     "name": "stderr",
     "output_type": "stream",
     "text": [
      "\r",
      "                                                                                \r"
     ]
    }
   ],
   "source": [
    "df_carry = df_carry.withColumn('CarryDirection',when(col('play_pattern_id')==6,'Transition').\\\n",
    "                               when(col('carry_end_location')[0]>col('location')[0],'Forward').\\\n",
    "                              when(col('carry_end_location')[0]<col('location')[0],'Backward').otherwise('Neutral'))\n",
    "\n",
    "df_carry = df_carry.withColumn('CarryDistance',((col('carry_end_location')[0]-col('location')[0])**2+\n",
    "                              (col('carry_end_location')[1]-col('location')[1])**2)**0.5)\n",
    "\n",
    "df_carry.select('CarryDistance').describe().show()"
   ]
  },
  {
   "cell_type": "code",
   "execution_count": 30,
   "id": "982d30e4",
   "metadata": {
    "scrolled": true
   },
   "outputs": [
    {
     "name": "stderr",
     "output_type": "stream",
     "text": [
      "[Stage 28:====================================================>   (15 + 1) / 16]\r"
     ]
    },
    {
     "name": "stdout",
     "output_type": "stream",
     "text": [
      "root\n",
      " |-- match_id: long (nullable = true)\n",
      " |-- team_id: long (nullable = true)\n",
      " |-- team_name: string (nullable = true)\n",
      " |-- Backward_carry_count: long (nullable = true)\n",
      " |-- Backward_avg_carry_distance: double (nullable = true)\n",
      " |-- Backward_avg_attacking_carry_distance: double (nullable = true)\n",
      " |-- Forward_carry_count: long (nullable = true)\n",
      " |-- Forward_avg_carry_distance: double (nullable = true)\n",
      " |-- Forward_avg_attacking_carry_distance: double (nullable = true)\n",
      " |-- Neutral_carry_count: long (nullable = true)\n",
      " |-- Neutral_avg_carry_distance: double (nullable = true)\n",
      " |-- Neutral_avg_attacking_carry_distance: double (nullable = true)\n",
      " |-- Transition_carry_count: long (nullable = true)\n",
      " |-- Transition_avg_carry_distance: double (nullable = true)\n",
      " |-- Transition_avg_attacking_carry_distance: double (nullable = true)\n",
      "\n"
     ]
    },
    {
     "name": "stderr",
     "output_type": "stream",
     "text": [
      "\r",
      "                                                                                \r"
     ]
    }
   ],
   "source": [
    "df_carry_agg = df_carry.groupby(col('match_id'),col('team_id'),col('team_name')).pivot('CarryDirection').agg(count('CarryDistance').alias('carry_count'),\n",
    "                                                                                                             avg(col('CarryDistance')).alias('avg_carry_distance'),                                                                                                \n",
    "                                                                 avg(col('CarryDistance')*when(col('CarryDirection')=='Forward',1).\\\n",
    "                                                                     when(col('CarryDirection')=='Backward',-1).otherwise(0)).alias('avg_attacking_carry_distance'))\n",
    "\n",
    "df_carry_agg.printSchema()"
   ]
  },
  {
   "cell_type": "code",
   "execution_count": 31,
   "id": "c6f58c89",
   "metadata": {},
   "outputs": [],
   "source": [
    "df_carry_agg = df_carry_agg.withColumn('total_carry_count',col('Forward_carry_count')+col('Transition_carry_count')+\n",
    "                                     col('Backward_carry_count')+col('Neutral_carry_count'))\n",
    "\n",
    "df_carry_agg = df_carry_agg.withColumn('forward_carry_share',col('Forward_carry_count')/col('total_carry_count'))\n",
    "df_carry_agg = df_carry_agg.withColumn('transition_carry_share',col('Transition_carry_count')/col('total_carry_count'))\n",
    "\n",
    "df_carry_agg = df_carry_agg.withColumn('backward_carry_share',col('Backward_carry_count')/col('total_carry_count'))"
   ]
  },
  {
   "cell_type": "markdown",
   "id": "7e14910d",
   "metadata": {},
   "source": [
    "## Foul won analysis"
   ]
  },
  {
   "cell_type": "code",
   "execution_count": 32,
   "id": "dfdfe37c",
   "metadata": {
    "scrolled": true
   },
   "outputs": [
    {
     "name": "stdout",
     "output_type": "stream",
     "text": [
      "root\n",
      " |-- foul_won_advantage: boolean (nullable = true)\n",
      " |-- foul_won_defensive: boolean (nullable = true)\n",
      " |-- foul_won_penalty: boolean (nullable = true)\n",
      " |-- match_id: long (nullable = true)\n",
      " |-- id: string (nullable = true)\n",
      " |-- index: long (nullable = true)\n",
      " |-- period: long (nullable = true)\n",
      " |-- timestamp: string (nullable = true)\n",
      " |-- minute: long (nullable = true)\n",
      " |-- second: long (nullable = true)\n",
      " |-- type_id: long (nullable = true)\n",
      " |-- type_name: string (nullable = true)\n",
      " |-- possession: long (nullable = true)\n",
      " |-- possession_team_id: long (nullable = true)\n",
      " |-- possession_team_name: string (nullable = true)\n",
      " |-- play_pattern_id: long (nullable = true)\n",
      " |-- play_pattern_name: string (nullable = true)\n",
      " |-- team_id: long (nullable = true)\n",
      " |-- team_name: string (nullable = true)\n",
      " |-- player_id: long (nullable = true)\n",
      " |-- player_name: string (nullable = true)\n",
      " |-- position_id: long (nullable = true)\n",
      " |-- position_name: string (nullable = true)\n",
      " |-- location: array (nullable = true)\n",
      " |    |-- element: double (containsNull = true)\n",
      " |-- duration: double (nullable = true)\n",
      " |-- under_pressure: boolean (nullable = true)\n",
      " |-- off_camera: boolean (nullable = true)\n",
      " |-- out: boolean (nullable = true)\n",
      " |-- related_events: array (nullable = true)\n",
      " |    |-- element: string (containsNull = true)\n",
      "\n"
     ]
    }
   ],
   "source": [
    "event = 'foul_won'\n",
    "filename = f'{new_data_dir}event_{event}.parquet'\n",
    "df_foul_won = spark.read.parquet(filename)\n",
    "\n",
    "# df_foul_won = df_foul_won.withColumn('foul_wonType',when(col('foul_won_angle')>0,'Attacking').\\\n",
    "#                             when(col('foul_won_angle')<0,'Defensive').otherwise('Neutral'))\n",
    "df_foul_won.printSchema()"
   ]
  },
  {
   "cell_type": "code",
   "execution_count": 33,
   "id": "445098f7",
   "metadata": {},
   "outputs": [
    {
     "name": "stderr",
     "output_type": "stream",
     "text": [
      "[Stage 35:=============================================>          (13 + 3) / 16]\r"
     ]
    },
    {
     "name": "stdout",
     "output_type": "stream",
     "text": [
      "+------------------+------------------+-----+\n",
      "|foul_won_defensive|foul_won_advantage|count|\n",
      "+------------------+------------------+-----+\n",
      "|              null|              null|53363|\n",
      "|              true|              null|25035|\n",
      "|              null|              true| 8935|\n",
      "|              true|              true| 1621|\n",
      "+------------------+------------------+-----+\n",
      "\n"
     ]
    },
    {
     "name": "stderr",
     "output_type": "stream",
     "text": [
      "\r",
      "                                                                                \r"
     ]
    }
   ],
   "source": [
    "df_foul_won.groupby(col('foul_won_defensive'),col('foul_won_advantage')).count().show()"
   ]
  },
  {
   "cell_type": "code",
   "execution_count": 34,
   "id": "bbcea51a",
   "metadata": {
    "scrolled": true
   },
   "outputs": [
    {
     "name": "stderr",
     "output_type": "stream",
     "text": [
      "\r",
      "[Stage 40:========================>                                (7 + 8) / 16]\r",
      "\r",
      "[Stage 40:====================================================>   (15 + 1) / 16]\r"
     ]
    },
    {
     "name": "stdout",
     "output_type": "stream",
     "text": [
      "+----------+-----+\n",
      "|  foulType|count|\n",
      "+----------+-----+\n",
      "| Attacking|10307|\n",
      "|Transition| 2868|\n",
      "|   Neutral|51140|\n",
      "| Defensive|24639|\n",
      "+----------+-----+\n",
      "\n"
     ]
    },
    {
     "name": "stderr",
     "output_type": "stream",
     "text": [
      "\r",
      "                                                                                \r"
     ]
    }
   ],
   "source": [
    "df_foul_won = df_foul_won.withColumn('foulType',when(col('play_pattern_id')==6,'Transition').\\\n",
    "                                     when(col('foul_won_advantage'),'Attacking').\\\n",
    "                                    when(col('foul_won_defensive'),'Defensive').otherwise('Neutral'))\n",
    "\n",
    "df_foul_won.groupby('foulType').count().show()"
   ]
  },
  {
   "cell_type": "code",
   "execution_count": 35,
   "id": "9ba65593",
   "metadata": {},
   "outputs": [
    {
     "name": "stderr",
     "output_type": "stream",
     "text": [
      "\r",
      "[Stage 45:============================>                            (8 + 8) / 16]\r"
     ]
    },
    {
     "name": "stdout",
     "output_type": "stream",
     "text": [
      "root\n",
      " |-- match_id: long (nullable = true)\n",
      " |-- team_id: long (nullable = true)\n",
      " |-- team_name: string (nullable = true)\n",
      " |-- Attacking_foul_count: long (nullable = true)\n",
      " |-- Defensive_foul_count: long (nullable = true)\n",
      " |-- Neutral_foul_count: long (nullable = true)\n",
      " |-- Transition_foul_count: long (nullable = true)\n",
      "\n"
     ]
    },
    {
     "name": "stderr",
     "output_type": "stream",
     "text": [
      "\r",
      "                                                                                \r"
     ]
    }
   ],
   "source": [
    "df_foul_agg = df_foul_won.groupby(col('match_id'),col('team_id'),col('team_name')).pivot('foulType').agg(count(col('timestamp')).alias('foul_count'))\n",
    "\n",
    "df_foul_agg = df_foul_agg.withColumnRenamed('Attacking','Attacking_foul_count').\\\n",
    "              withColumnRenamed('Defensive','Defensive_foul_count').\\\n",
    "              withColumnRenamed('Neutral','Neutral_foul_count').\\\n",
    "              withColumnRenamed('Transition','Transition_foul_count')\n",
    "\n",
    "df_foul_agg.printSchema()"
   ]
  },
  {
   "cell_type": "code",
   "execution_count": 36,
   "id": "9ee9401a",
   "metadata": {},
   "outputs": [],
   "source": [
    "df_foul_agg = df_foul_agg.withColumn('total_foul_count',col('Attacking_foul_count')+col('Transition_foul_count')+\n",
    "                                     col('Defensive_foul_count')+col('Neutral_foul_count'))\n",
    "\n",
    "df_foul_agg = df_foul_agg.withColumn('Attacking_foul_share',col('Attacking_foul_count')/col('total_foul_count'))\n",
    "df_foul_agg = df_foul_agg.withColumn('Defensive_foul_share',col('Defensive_foul_count')/col('total_foul_count'))\n",
    "df_foul_agg = df_foul_agg.withColumn('Transition_foul_share',col('Transition_foul_count')/col('total_foul_count'))"
   ]
  },
  {
   "cell_type": "markdown",
   "id": "ca1403e1",
   "metadata": {},
   "source": [
    "## Foul committed analysis"
   ]
  },
  {
   "cell_type": "code",
   "execution_count": 37,
   "id": "509e29b4",
   "metadata": {
    "scrolled": true
   },
   "outputs": [
    {
     "name": "stdout",
     "output_type": "stream",
     "text": [
      "root\n",
      " |-- foul_committed_advantage: boolean (nullable = true)\n",
      " |-- foul_committed_card_id: long (nullable = true)\n",
      " |-- foul_committed_card_name: string (nullable = true)\n",
      " |-- foul_committed_offensive: boolean (nullable = true)\n",
      " |-- foul_committed_penalty: boolean (nullable = true)\n",
      " |-- foul_committed_type_id: long (nullable = true)\n",
      " |-- foul_committed_type_name: string (nullable = true)\n",
      " |-- counterpress: boolean (nullable = true)\n",
      " |-- match_id: long (nullable = true)\n",
      " |-- id: string (nullable = true)\n",
      " |-- index: long (nullable = true)\n",
      " |-- period: long (nullable = true)\n",
      " |-- timestamp: string (nullable = true)\n",
      " |-- minute: long (nullable = true)\n",
      " |-- second: long (nullable = true)\n",
      " |-- type_id: long (nullable = true)\n",
      " |-- type_name: string (nullable = true)\n",
      " |-- possession: long (nullable = true)\n",
      " |-- possession_team_id: long (nullable = true)\n",
      " |-- possession_team_name: string (nullable = true)\n",
      " |-- play_pattern_id: long (nullable = true)\n",
      " |-- play_pattern_name: string (nullable = true)\n",
      " |-- team_id: long (nullable = true)\n",
      " |-- team_name: string (nullable = true)\n",
      " |-- player_id: long (nullable = true)\n",
      " |-- player_name: string (nullable = true)\n",
      " |-- position_id: long (nullable = true)\n",
      " |-- position_name: string (nullable = true)\n",
      " |-- location: array (nullable = true)\n",
      " |    |-- element: double (containsNull = true)\n",
      " |-- duration: double (nullable = true)\n",
      " |-- under_pressure: boolean (nullable = true)\n",
      " |-- off_camera: boolean (nullable = true)\n",
      " |-- out: boolean (nullable = true)\n",
      " |-- related_events: array (nullable = true)\n",
      " |    |-- element: string (containsNull = true)\n",
      "\n"
     ]
    }
   ],
   "source": [
    "event = 'foul_committed'\n",
    "filename = f'{new_data_dir}event_{event}.parquet'\n",
    "df_foul_com = spark.read.parquet(filename)\n",
    "\n",
    "# df_foul_won = df_foul_won.withColumn('foul_wonType',when(col('foul_won_angle')>0,'Attacking').\\\n",
    "#                             when(col('foul_won_angle')<0,'Defensive').otherwise('Neutral'))\n",
    "df_foul_com.printSchema()"
   ]
  },
  {
   "cell_type": "code",
   "execution_count": 38,
   "id": "35243da4",
   "metadata": {},
   "outputs": [
    {
     "name": "stderr",
     "output_type": "stream",
     "text": [
      "[Stage 52:=================================================>      (14 + 2) / 16]\r"
     ]
    },
    {
     "name": "stdout",
     "output_type": "stream",
     "text": [
      "root\n",
      " |-- match_id: long (nullable = true)\n",
      " |-- team_id: long (nullable = true)\n",
      " |-- team_name: string (nullable = true)\n",
      " |-- Attacking_foul_committed_count: long (nullable = true)\n",
      " |-- Defensive_foul_committed_count: long (nullable = true)\n",
      "\n"
     ]
    },
    {
     "name": "stderr",
     "output_type": "stream",
     "text": [
      "\r",
      "                                                                                \r"
     ]
    }
   ],
   "source": [
    "df_foul_com = df_foul_com.withColumn('foulComType', when(col('counterpress')==True,'Attacking').otherwise('Defensive'))\n",
    "df_foul_com_agg = df_foul_com.groupby(col('match_id'),col('team_id'),col('team_name')).pivot('foulComType').\\\n",
    "                  agg(count(col('timestamp')).alias('foul_committed_count'))\n",
    "\n",
    "df_foul_com_agg = df_foul_com_agg.withColumnRenamed('Attacking','Attacking_foul_committed_count')\n",
    "df_foul_com_agg = df_foul_com_agg.withColumnRenamed('Defensive','Defensive_foul_committed_count')\n",
    "\n",
    "\n",
    "df_foul_com_agg.printSchema()"
   ]
  },
  {
   "cell_type": "code",
   "execution_count": 39,
   "id": "e713cffc",
   "metadata": {},
   "outputs": [],
   "source": [
    "df_foul_com_agg = df_foul_com_agg.withColumn('total_foul_com_count',col('Attacking_foul_committed_count')+\n",
    "                                     col('Defensive_foul_committed_count'))\n",
    "\n",
    "df_foul_com_agg = df_foul_com_agg.withColumn('Attacking_foul_committed_share',col('Attacking_foul_committed_count')/col('total_foul_com_count'))\n",
    "df_foul_com_agg = df_foul_com_agg.withColumn('Defensive_foul_committed_share',col('Defensive_foul_committed_count')/col('total_foul_com_count'))"
   ]
  },
  {
   "cell_type": "code",
   "execution_count": 40,
   "id": "c20714ec",
   "metadata": {},
   "outputs": [
    {
     "data": {
      "text/plain": [
       "(DataFrame[match_id: bigint, team_id: bigint, team_name: string, Attacking_foul_committed_count: bigint, Defensive_foul_committed_count: bigint, total_foul_com_count: bigint, Attacking_foul_committed_share: double, Defensive_foul_committed_share: double],\n",
       " DataFrame[match_id: bigint, team_id: bigint, team_name: string, Attacking_foul_count: bigint, Defensive_foul_count: bigint, Neutral_foul_count: bigint, Transition_foul_count: bigint, total_foul_count: bigint, Attacking_foul_share: double, Defensive_foul_share: double, Transition_foul_share: double],\n",
       " DataFrame[match_id: bigint, team_id: bigint, team_name: string, Backward_carry_count: bigint, Backward_avg_carry_distance: double, Backward_avg_attacking_carry_distance: double, Forward_carry_count: bigint, Forward_avg_carry_distance: double, Forward_avg_attacking_carry_distance: double, Neutral_carry_count: bigint, Neutral_avg_carry_distance: double, Neutral_avg_attacking_carry_distance: double, Transition_carry_count: bigint, Transition_avg_carry_distance: double, Transition_avg_attacking_carry_distance: double, total_carry_count: bigint, forward_carry_share: double, transition_carry_share: double, backward_carry_share: double],\n",
       " DataFrame[match_id: bigint, team_id: bigint, team_name: string, Attacking_avg_pass_distance: double, Attacking_sum_pass_distance: double, Attacking_pass_count: bigint, Defensive_avg_pass_distance: double, Defensive_sum_pass_distance: double, Defensive_pass_count: bigint, Neutral_avg_pass_distance: double, Neutral_sum_pass_distance: double, Neutral_pass_count: bigint, Transition_avg_pass_distance: double, Transition_sum_pass_distance: double, Transition_pass_count: bigint, total_pass_count: bigint, attack_pass_share: double, transition_pass_share: double, defense_pass_share: double])"
      ]
     },
     "execution_count": 40,
     "metadata": {},
     "output_type": "execute_result"
    }
   ],
   "source": [
    "df_foul_com_agg,df_foul_agg,df_carry_agg,df_pass_agg"
   ]
  },
  {
   "cell_type": "markdown",
   "id": "bc690f57",
   "metadata": {},
   "source": [
    "## Attacking Flags"
   ]
  },
  {
   "cell_type": "markdown",
   "id": "41a19ec8",
   "metadata": {},
   "source": [
    "### Dribble"
   ]
  },
  {
   "cell_type": "code",
   "execution_count": 43,
   "id": "2ee86529",
   "metadata": {
    "scrolled": true
   },
   "outputs": [
    {
     "name": "stdout",
     "output_type": "stream",
     "text": [
      "root\n",
      " |-- dribble_no_touch: boolean (nullable = true)\n",
      " |-- dribble_nutmeg: boolean (nullable = true)\n",
      " |-- dribble_outcome_id: long (nullable = true)\n",
      " |-- dribble_outcome_name: string (nullable = true)\n",
      " |-- dribble_overrun: boolean (nullable = true)\n",
      " |-- match_id: long (nullable = true)\n",
      " |-- id: string (nullable = true)\n",
      " |-- index: long (nullable = true)\n",
      " |-- period: long (nullable = true)\n",
      " |-- timestamp: string (nullable = true)\n",
      " |-- minute: long (nullable = true)\n",
      " |-- second: long (nullable = true)\n",
      " |-- type_id: long (nullable = true)\n",
      " |-- type_name: string (nullable = true)\n",
      " |-- possession: long (nullable = true)\n",
      " |-- possession_team_id: long (nullable = true)\n",
      " |-- possession_team_name: string (nullable = true)\n",
      " |-- play_pattern_id: long (nullable = true)\n",
      " |-- play_pattern_name: string (nullable = true)\n",
      " |-- team_id: long (nullable = true)\n",
      " |-- team_name: string (nullable = true)\n",
      " |-- player_id: long (nullable = true)\n",
      " |-- player_name: string (nullable = true)\n",
      " |-- position_id: long (nullable = true)\n",
      " |-- position_name: string (nullable = true)\n",
      " |-- location: array (nullable = true)\n",
      " |    |-- element: double (containsNull = true)\n",
      " |-- duration: double (nullable = true)\n",
      " |-- under_pressure: boolean (nullable = true)\n",
      " |-- off_camera: boolean (nullable = true)\n",
      " |-- out: boolean (nullable = true)\n",
      " |-- related_events: array (nullable = true)\n",
      " |    |-- element: string (containsNull = true)\n",
      "\n"
     ]
    }
   ],
   "source": [
    "event = 'dribble'\n",
    "filename = f'{new_data_dir}event_{event}.parquet'\n",
    "df_dribble = spark.read.parquet(filename)\n",
    "\n",
    "# df_foul_won = df_foul_won.withColumn('foul_wonType',when(col('foul_won_angle')>0,'Attacking').\\\n",
    "#                             when(col('foul_won_angle')<0,'Defensive').otherwise('Neutral'))\n",
    "df_dribble.printSchema()"
   ]
  },
  {
   "cell_type": "code",
   "execution_count": 44,
   "id": "0ec85bdb",
   "metadata": {},
   "outputs": [
    {
     "name": "stderr",
     "output_type": "stream",
     "text": [
      "[Stage 60:=================================================>      (14 + 2) / 16]\r"
     ]
    },
    {
     "name": "stdout",
     "output_type": "stream",
     "text": [
      "+--------+-------+-----------------+-------------+\n",
      "|match_id|team_id|        team_name|dribble_count|\n",
      "+--------+-------+-----------------+-------------+\n",
      "|   69328|    217|        Barcelona|           38|\n",
      "| 3754214|     59|      Aston Villa|           18|\n",
      "| 3893830|   1204|Argentina Women's|           13|\n",
      "| 3890379|    171|     Hamburger SV|           17|\n",
      "| 3857263|    770|          Germany|           24|\n",
      "+--------+-------+-----------------+-------------+\n",
      "only showing top 5 rows\n",
      "\n"
     ]
    },
    {
     "name": "stderr",
     "output_type": "stream",
     "text": [
      "\r",
      "                                                                                \r"
     ]
    }
   ],
   "source": [
    "df_dribble_agg = df_dribble.groupby(col('match_id'),col('team_id'),col('team_name')).\\\n",
    "                  agg(count(col('timestamp')).alias('dribble_count'))\n",
    "df_dribble_agg.show(5)"
   ]
  },
  {
   "cell_type": "markdown",
   "id": "9bba3c14",
   "metadata": {},
   "source": [
    "### Shot"
   ]
  },
  {
   "cell_type": "code",
   "execution_count": 45,
   "id": "db4f7cf7",
   "metadata": {
    "scrolled": true
   },
   "outputs": [
    {
     "name": "stdout",
     "output_type": "stream",
     "text": [
      "root\n",
      " |-- shot_aerial_won: boolean (nullable = true)\n",
      " |-- shot_follows_dribble: boolean (nullable = true)\n",
      " |-- shot_kick_off: boolean (nullable = true)\n",
      " |-- shot_one_on_one: boolean (nullable = true)\n",
      " |-- shot_redirect: boolean (nullable = true)\n",
      " |-- shot_saved_off_target: boolean (nullable = true)\n",
      " |-- shot_saved_to_post: boolean (nullable = true)\n",
      " |-- shot_key_pass_id: string (nullable = true)\n",
      " |-- shot_end_location: array (nullable = true)\n",
      " |    |-- element: double (containsNull = true)\n",
      " |-- shot_first_time: boolean (nullable = true)\n",
      " |-- shot_open_goal: boolean (nullable = true)\n",
      " |-- shot_statsbomb_xg: double (nullable = true)\n",
      " |-- shot_deflected: boolean (nullable = true)\n",
      " |-- shot_technique_id: long (nullable = true)\n",
      " |-- shot_technique_name: string (nullable = true)\n",
      " |-- shot_body_part_id: long (nullable = true)\n",
      " |-- shot_body_part_name: string (nullable = true)\n",
      " |-- shot_type_id: long (nullable = true)\n",
      " |-- shot_type_name: string (nullable = true)\n",
      " |-- shot_outcome_id: long (nullable = true)\n",
      " |-- shot_outcome_name: string (nullable = true)\n",
      " |-- match_id: long (nullable = true)\n",
      " |-- id: string (nullable = true)\n",
      " |-- index: long (nullable = true)\n",
      " |-- period: long (nullable = true)\n",
      " |-- timestamp: string (nullable = true)\n",
      " |-- minute: long (nullable = true)\n",
      " |-- second: long (nullable = true)\n",
      " |-- type_id: long (nullable = true)\n",
      " |-- type_name: string (nullable = true)\n",
      " |-- possession: long (nullable = true)\n",
      " |-- possession_team_id: long (nullable = true)\n",
      " |-- possession_team_name: string (nullable = true)\n",
      " |-- play_pattern_id: long (nullable = true)\n",
      " |-- play_pattern_name: string (nullable = true)\n",
      " |-- team_id: long (nullable = true)\n",
      " |-- team_name: string (nullable = true)\n",
      " |-- player_id: long (nullable = true)\n",
      " |-- player_name: string (nullable = true)\n",
      " |-- position_id: long (nullable = true)\n",
      " |-- position_name: string (nullable = true)\n",
      " |-- location: array (nullable = true)\n",
      " |    |-- element: double (containsNull = true)\n",
      " |-- duration: double (nullable = true)\n",
      " |-- under_pressure: boolean (nullable = true)\n",
      " |-- off_camera: boolean (nullable = true)\n",
      " |-- out: boolean (nullable = true)\n",
      " |-- related_events: array (nullable = true)\n",
      " |    |-- element: string (containsNull = true)\n",
      "\n"
     ]
    }
   ],
   "source": [
    "event = 'shot'\n",
    "filename = f'{new_data_dir}event_{event}.parquet'\n",
    "df_shot = spark.read.parquet(filename)\n",
    "\n",
    "# df_foul_won = df_foul_won.withColumn('foul_wonType',when(col('foul_won_angle')>0,'Attacking').\\\n",
    "#                             when(col('foul_won_angle')<0,'Defensive').otherwise('Neutral'))\n",
    "df_shot.printSchema()"
   ]
  },
  {
   "cell_type": "code",
   "execution_count": 46,
   "id": "61304a50",
   "metadata": {},
   "outputs": [],
   "source": [
    "df_shot = df_shot.withColumn('isGoal', when(col('shot_outcome_id')==97,1).otherwise(0))"
   ]
  },
  {
   "cell_type": "code",
   "execution_count": 47,
   "id": "a3a58954",
   "metadata": {},
   "outputs": [
    {
     "name": "stderr",
     "output_type": "stream",
     "text": [
      "[Stage 64:==========================================>             (12 + 4) / 16]\r"
     ]
    },
    {
     "name": "stdout",
     "output_type": "stream",
     "text": [
      "+--------+-------+-------------------+----------+----------+\n",
      "|match_id|team_id|          team_name|shot_count|goal_count|\n",
      "+--------+-------+-------------------+----------+----------+\n",
      "| 3890512|    184|Eintracht Frankfurt|        10|         0|\n",
      "| 3794686|    785|            Croatia|        11|         2|\n",
      "|   68314|    217|          Barcelona|        17|         4|\n",
      "|    7474|    761|  Chicago Red Stars|        19|         2|\n",
      "| 3879600|    226|      Hellas Verona|        11|         0|\n",
      "+--------+-------+-------------------+----------+----------+\n",
      "only showing top 5 rows\n",
      "\n"
     ]
    },
    {
     "name": "stderr",
     "output_type": "stream",
     "text": [
      "\r",
      "                                                                                \r"
     ]
    }
   ],
   "source": [
    "df_shot_agg = df_shot.groupby(col('match_id'),col('team_id'),col('team_name')).\\\n",
    "                  agg(count(col('timestamp')).alias('shot_count'),\n",
    "                  sum('isGoal').alias('goal_count')   )\n",
    "df_shot_agg.show(5)"
   ]
  },
  {
   "cell_type": "markdown",
   "id": "e531ecf1",
   "metadata": {},
   "source": [
    "### Offside count"
   ]
  },
  {
   "cell_type": "code",
   "execution_count": 48,
   "id": "7a2935e4",
   "metadata": {
    "scrolled": true
   },
   "outputs": [
    {
     "name": "stdout",
     "output_type": "stream",
     "text": [
      "root\n",
      " |-- offside: integer (nullable = true)\n",
      " |-- match_id: long (nullable = true)\n",
      " |-- id: string (nullable = true)\n",
      " |-- index: long (nullable = true)\n",
      " |-- period: long (nullable = true)\n",
      " |-- timestamp: string (nullable = true)\n",
      " |-- minute: long (nullable = true)\n",
      " |-- second: long (nullable = true)\n",
      " |-- type_id: long (nullable = true)\n",
      " |-- type_name: string (nullable = true)\n",
      " |-- possession: long (nullable = true)\n",
      " |-- possession_team_id: long (nullable = true)\n",
      " |-- possession_team_name: string (nullable = true)\n",
      " |-- play_pattern_id: long (nullable = true)\n",
      " |-- play_pattern_name: string (nullable = true)\n",
      " |-- team_id: long (nullable = true)\n",
      " |-- team_name: string (nullable = true)\n",
      " |-- player_id: long (nullable = true)\n",
      " |-- player_name: string (nullable = true)\n",
      " |-- position_id: long (nullable = true)\n",
      " |-- position_name: string (nullable = true)\n",
      " |-- location: array (nullable = true)\n",
      " |    |-- element: double (containsNull = true)\n",
      " |-- duration: double (nullable = true)\n",
      " |-- under_pressure: boolean (nullable = true)\n",
      " |-- off_camera: boolean (nullable = true)\n",
      " |-- out: boolean (nullable = true)\n",
      " |-- related_events: array (nullable = true)\n",
      " |    |-- element: string (containsNull = true)\n",
      "\n"
     ]
    }
   ],
   "source": [
    "event = 'offside'\n",
    "filename = f'{new_data_dir}event_{event}.parquet'\n",
    "df_offside = spark.read.parquet(filename)\n",
    "\n",
    "# df_foul_won = df_foul_won.withColumn('foul_wonType',when(col('foul_won_angle')>0,'Attacking').\\\n",
    "#                             when(col('foul_won_angle')<0,'Defensive').otherwise('Neutral'))\n",
    "df_offside.printSchema()"
   ]
  },
  {
   "cell_type": "code",
   "execution_count": 49,
   "id": "ba462545",
   "metadata": {
    "scrolled": true
   },
   "outputs": [
    {
     "name": "stderr",
     "output_type": "stream",
     "text": [
      "\r",
      "[Stage 68:============================>                            (8 + 8) / 16]\r"
     ]
    },
    {
     "name": "stdout",
     "output_type": "stream",
     "text": [
      "+--------+-------+----------------+-------------+\n",
      "|match_id|team_id|       team_name|offside_count|\n",
      "+--------+-------+----------------+-------------+\n",
      "|   68364|    217|       Barcelona|            1|\n",
      "| 3890294|    175|      Hoffenheim|            1|\n",
      "| 3829471|    146|        Bordeaux|            1|\n",
      "| 3890315|    904|Bayer Leverkusen|            1|\n",
      "| 3754000|     25|     Southampton|            1|\n",
      "+--------+-------+----------------+-------------+\n",
      "only showing top 5 rows\n",
      "\n"
     ]
    },
    {
     "name": "stderr",
     "output_type": "stream",
     "text": [
      "\r",
      "                                                                                \r"
     ]
    }
   ],
   "source": [
    "df_offside_agg = df_offside.groupby(col('match_id'),col('team_id'),col('team_name')).\\\n",
    "                  agg(count(col('timestamp')).alias('offside_count'))\n",
    "df_offside_agg.show(5)"
   ]
  },
  {
   "cell_type": "code",
   "execution_count": 50,
   "id": "81ab3da9",
   "metadata": {},
   "outputs": [
    {
     "name": "stdout",
     "output_type": "stream",
     "text": [
      "root\n",
      " |-- match_id: long (nullable = true)\n",
      " |-- team_id: long (nullable = true)\n",
      " |-- team_name: string (nullable = true)\n",
      " |-- offside_count: long (nullable = true)\n",
      " |-- pass_offside_count: long (nullable = true)\n",
      "\n"
     ]
    }
   ],
   "source": [
    "df_offside_agg=df_offside_agg.join(df_pass_off_agg.fillna(0), on = ['match_id','team_id','team_name'], how = 'outer')\n",
    "df_offside_agg.printSchema()"
   ]
  },
  {
   "cell_type": "code",
   "execution_count": 51,
   "id": "f4196906",
   "metadata": {},
   "outputs": [
    {
     "name": "stderr",
     "output_type": "stream",
     "text": [
      "                                                                                \r"
     ]
    },
    {
     "data": {
      "text/plain": [
       "6398"
      ]
     },
     "execution_count": 51,
     "metadata": {},
     "output_type": "execute_result"
    }
   ],
   "source": [
    "df_offside_agg = df_offside_agg.fillna(0).withColumn('total_offside_count',col('offside_count')+col('pass_offside_count'))\n",
    "df_offside_agg.count()"
   ]
  },
  {
   "cell_type": "markdown",
   "id": "741b57a8",
   "metadata": {},
   "source": [
    "### Consolidation"
   ]
  },
  {
   "cell_type": "code",
   "execution_count": 53,
   "id": "25bf40f9",
   "metadata": {
    "scrolled": true
   },
   "outputs": [
    {
     "name": "stdout",
     "output_type": "stream",
     "text": [
      "root\n",
      " |-- match_id: long (nullable = true)\n",
      " |-- team_id: long (nullable = true)\n",
      " |-- team_name: string (nullable = true)\n",
      " |-- dribble_count: long (nullable = true)\n",
      " |-- shot_count: long (nullable = true)\n",
      " |-- goal_count: long (nullable = true)\n",
      " |-- total_offside_count: long (nullable = true)\n",
      " |-- Attacking_avg_pass_distance: double (nullable = true)\n",
      " |-- Attacking_sum_pass_distance: double (nullable = true)\n",
      " |-- Attacking_pass_count: long (nullable = true)\n",
      " |-- Forward_carry_count: long (nullable = true)\n",
      " |-- Forward_avg_carry_distance: double (nullable = true)\n",
      " |-- Forward_avg_attacking_carry_distance: double (nullable = true)\n",
      " |-- Attacking_foul_count: long (nullable = true)\n",
      " |-- Attacking_foul_share: double (nullable = true)\n",
      "\n"
     ]
    }
   ],
   "source": [
    "join_cols = ['match_id','team_id','team_name']\n",
    "\n",
    "df_attack = df_dribble_agg.join(df_shot_agg, on = join_cols, how = 'outer')\n",
    "df_attack = df_attack.join(df_offside_agg.select(*(join_cols+\n",
    "                                                     ['total_offside_count'])), on = join_cols, how = 'outer')\n",
    "\n",
    "df_attack = df_attack.join(df_pass_agg.select(*(join_cols+['Attacking_avg_pass_distance',\n",
    "                                                           'Attacking_sum_pass_distance','Attacking_pass_count'])), on = join_cols, how = 'outer')\n",
    "df_attack = df_attack.join(df_carry_agg.select(*(join_cols+['Forward_carry_count',\n",
    "                                                              'Forward_avg_carry_distance','Forward_avg_attacking_carry_distance'])), on = join_cols, how = 'outer')\n",
    "df_attack = df_attack.join(df_foul_agg.select(*(join_cols+['Attacking_foul_count',\n",
    "                                                              'Attacking_foul_share'])), on = join_cols, how = 'outer')\n",
    "\n",
    "# df_attack = df_attack.join(df_foul_com_agg.select(*(join_cols+['Attacking_foul_committed_count',\n",
    "#                                                               'Attacking_foul_committed_share'])), on = join_cols, how = 'outer')\n",
    "\n",
    "df_attack.printSchema()"
   ]
  },
  {
   "cell_type": "markdown",
   "id": "40e9137c",
   "metadata": {},
   "source": [
    "## Defensive Flags"
   ]
  },
  {
   "cell_type": "markdown",
   "id": "907b3e5a",
   "metadata": {},
   "source": [
    "### Duel"
   ]
  },
  {
   "cell_type": "code",
   "execution_count": 54,
   "id": "236ca1dd",
   "metadata": {
    "scrolled": true
   },
   "outputs": [
    {
     "name": "stdout",
     "output_type": "stream",
     "text": [
      "root\n",
      " |-- duel_outcome_id: long (nullable = true)\n",
      " |-- duel_outcome_name: string (nullable = true)\n",
      " |-- duel_type_id: long (nullable = true)\n",
      " |-- duel_type_name: string (nullable = true)\n",
      " |-- match_id: long (nullable = true)\n",
      " |-- id: string (nullable = true)\n",
      " |-- index: long (nullable = true)\n",
      " |-- period: long (nullable = true)\n",
      " |-- timestamp: string (nullable = true)\n",
      " |-- minute: long (nullable = true)\n",
      " |-- second: long (nullable = true)\n",
      " |-- type_id: long (nullable = true)\n",
      " |-- type_name: string (nullable = true)\n",
      " |-- possession: long (nullable = true)\n",
      " |-- possession_team_id: long (nullable = true)\n",
      " |-- possession_team_name: string (nullable = true)\n",
      " |-- play_pattern_id: long (nullable = true)\n",
      " |-- play_pattern_name: string (nullable = true)\n",
      " |-- team_id: long (nullable = true)\n",
      " |-- team_name: string (nullable = true)\n",
      " |-- player_id: long (nullable = true)\n",
      " |-- player_name: string (nullable = true)\n",
      " |-- position_id: long (nullable = true)\n",
      " |-- position_name: string (nullable = true)\n",
      " |-- location: array (nullable = true)\n",
      " |    |-- element: double (containsNull = true)\n",
      " |-- duration: double (nullable = true)\n",
      " |-- under_pressure: boolean (nullable = true)\n",
      " |-- off_camera: boolean (nullable = true)\n",
      " |-- out: boolean (nullable = true)\n",
      " |-- related_events: array (nullable = true)\n",
      " |    |-- element: string (containsNull = true)\n",
      "\n"
     ]
    }
   ],
   "source": [
    "event = 'duel'\n",
    "filename = f'{new_data_dir}event_{event}.parquet'\n",
    "df_duel = spark.read.parquet(filename)\n",
    "\n",
    "# df_foul_won = df_foul_won.withColumn('foul_wonType',when(col('foul_won_angle')>0,'Attacking').\\\n",
    "#                             when(col('foul_won_angle')<0,'Defensive').otherwise('Neutral'))\n",
    "df_duel.printSchema()"
   ]
  },
  {
   "cell_type": "code",
   "execution_count": 55,
   "id": "e92886c8",
   "metadata": {
    "scrolled": true
   },
   "outputs": [
    {
     "name": "stderr",
     "output_type": "stream",
     "text": [
      "[Stage 85:==========================================>             (12 + 4) / 16]\r"
     ]
    },
    {
     "name": "stdout",
     "output_type": "stream",
     "text": [
      "+--------+-------+-------------+----------+\n",
      "|match_id|team_id|    team_name|duel_count|\n",
      "+--------+-------+-------------+----------+\n",
      "| 3813317|   7291|       Odisha|        27|\n",
      "| 3825683|    210|Real Sociedad|        40|\n",
      "| 3817880|   7290|   Chennaiyin|        27|\n",
      "|   69288|    215|Athletic Club|        48|\n",
      "| 3750200|     24|    Liverpool|        55|\n",
      "+--------+-------+-------------+----------+\n",
      "only showing top 5 rows\n",
      "\n"
     ]
    },
    {
     "name": "stderr",
     "output_type": "stream",
     "text": [
      "\r",
      "                                                                                \r"
     ]
    }
   ],
   "source": [
    "df_duel_agg = df_duel.groupby(col('match_id'),col('team_id'),col('team_name')).\\\n",
    "                  agg(count(col('timestamp')).alias('duel_count'))\n",
    "df_duel_agg.show(5)"
   ]
  },
  {
   "cell_type": "markdown",
   "id": "d092e48f",
   "metadata": {},
   "source": [
    "### Block"
   ]
  },
  {
   "cell_type": "code",
   "execution_count": 56,
   "id": "ad75dad3",
   "metadata": {
    "scrolled": true
   },
   "outputs": [
    {
     "name": "stdout",
     "output_type": "stream",
     "text": [
      "root\n",
      " |-- block_deflection: boolean (nullable = true)\n",
      " |-- block_offensive: boolean (nullable = true)\n",
      " |-- block_save_block: boolean (nullable = true)\n",
      " |-- match_id: long (nullable = true)\n",
      " |-- id: string (nullable = true)\n",
      " |-- index: long (nullable = true)\n",
      " |-- period: long (nullable = true)\n",
      " |-- timestamp: string (nullable = true)\n",
      " |-- minute: long (nullable = true)\n",
      " |-- second: long (nullable = true)\n",
      " |-- type_id: long (nullable = true)\n",
      " |-- type_name: string (nullable = true)\n",
      " |-- possession: long (nullable = true)\n",
      " |-- possession_team_id: long (nullable = true)\n",
      " |-- possession_team_name: string (nullable = true)\n",
      " |-- play_pattern_id: long (nullable = true)\n",
      " |-- play_pattern_name: string (nullable = true)\n",
      " |-- team_id: long (nullable = true)\n",
      " |-- team_name: string (nullable = true)\n",
      " |-- player_id: long (nullable = true)\n",
      " |-- player_name: string (nullable = true)\n",
      " |-- position_id: long (nullable = true)\n",
      " |-- position_name: string (nullable = true)\n",
      " |-- location: array (nullable = true)\n",
      " |    |-- element: double (containsNull = true)\n",
      " |-- duration: double (nullable = true)\n",
      " |-- under_pressure: boolean (nullable = true)\n",
      " |-- off_camera: boolean (nullable = true)\n",
      " |-- out: boolean (nullable = true)\n",
      " |-- related_events: array (nullable = true)\n",
      " |    |-- element: string (containsNull = true)\n",
      "\n"
     ]
    }
   ],
   "source": [
    "event = 'block'\n",
    "filename = f'{new_data_dir}event_{event}.parquet'\n",
    "df_block = spark.read.parquet(filename)\n",
    "\n",
    "# df_foul_won = df_foul_won.withColumn('foul_wonType',when(col('foul_won_angle')>0,'Attacking').\\\n",
    "#                             when(col('foul_won_angle')<0,'Defensive').otherwise('Neutral'))\n",
    "df_block.printSchema()"
   ]
  },
  {
   "cell_type": "code",
   "execution_count": 57,
   "id": "5657f21d",
   "metadata": {},
   "outputs": [
    {
     "name": "stderr",
     "output_type": "stream",
     "text": [
      "\r",
      "[Stage 89:=================>                                       (5 + 8) / 16]\r",
      "\r",
      "[Stage 89:============================>                            (8 + 8) / 16]\r"
     ]
    },
    {
     "name": "stdout",
     "output_type": "stream",
     "text": [
      "+--------+-------+-------------------+-----------+\n",
      "|match_id|team_id|          team_name|block_count|\n",
      "+--------+-------+-------------------+-----------+\n",
      "| 3890512|    184|Eintracht Frankfurt|         24|\n",
      "| 3869684|    788|            Morocco|         15|\n",
      "|    7523|    764|      Orlando Pride|         32|\n",
      "| 3879563|    232|           Sassuolo|         23|\n",
      "| 3775552|    967|        Everton LFC|         22|\n",
      "+--------+-------+-------------------+-----------+\n",
      "only showing top 5 rows\n",
      "\n"
     ]
    },
    {
     "name": "stderr",
     "output_type": "stream",
     "text": [
      "\r",
      "[Stage 89:======================================>                 (11 + 5) / 16]\r",
      "\r",
      "                                                                                \r"
     ]
    }
   ],
   "source": [
    "df_block_agg = df_block.groupby(col('match_id'),col('team_id'),col('team_name')).\\\n",
    "                  agg(count(col('timestamp')).alias('block_count'))\n",
    "df_block_agg.show(5)"
   ]
  },
  {
   "cell_type": "markdown",
   "id": "db43eb4c",
   "metadata": {},
   "source": [
    "### Clearance"
   ]
  },
  {
   "cell_type": "code",
   "execution_count": 58,
   "id": "31b73cf4",
   "metadata": {
    "scrolled": true
   },
   "outputs": [
    {
     "name": "stdout",
     "output_type": "stream",
     "text": [
      "root\n",
      " |-- clearance_aerial_won: boolean (nullable = true)\n",
      " |-- clearance_body_part_id: long (nullable = true)\n",
      " |-- clearance_body_part_name: string (nullable = true)\n",
      " |-- clearance_head: boolean (nullable = true)\n",
      " |-- clearance_left_foot: boolean (nullable = true)\n",
      " |-- clearance_other: boolean (nullable = true)\n",
      " |-- clearance_right_foot: boolean (nullable = true)\n",
      " |-- match_id: long (nullable = true)\n",
      " |-- id: string (nullable = true)\n",
      " |-- index: long (nullable = true)\n",
      " |-- period: long (nullable = true)\n",
      " |-- timestamp: string (nullable = true)\n",
      " |-- minute: long (nullable = true)\n",
      " |-- second: long (nullable = true)\n",
      " |-- type_id: long (nullable = true)\n",
      " |-- type_name: string (nullable = true)\n",
      " |-- possession: long (nullable = true)\n",
      " |-- possession_team_id: long (nullable = true)\n",
      " |-- possession_team_name: string (nullable = true)\n",
      " |-- play_pattern_id: long (nullable = true)\n",
      " |-- play_pattern_name: string (nullable = true)\n",
      " |-- team_id: long (nullable = true)\n",
      " |-- team_name: string (nullable = true)\n",
      " |-- player_id: long (nullable = true)\n",
      " |-- player_name: string (nullable = true)\n",
      " |-- position_id: long (nullable = true)\n",
      " |-- position_name: string (nullable = true)\n",
      " |-- location: array (nullable = true)\n",
      " |    |-- element: double (containsNull = true)\n",
      " |-- duration: double (nullable = true)\n",
      " |-- under_pressure: boolean (nullable = true)\n",
      " |-- off_camera: boolean (nullable = true)\n",
      " |-- out: boolean (nullable = true)\n",
      " |-- related_events: array (nullable = true)\n",
      " |    |-- element: string (containsNull = true)\n",
      "\n"
     ]
    }
   ],
   "source": [
    "event = 'clearance'\n",
    "filename = f'{new_data_dir}event_{event}.parquet'\n",
    "df_clearance = spark.read.parquet(filename)\n",
    "\n",
    "# df_foul_won = df_foul_won.withColumn('foul_wonType',when(col('foul_won_angle')>0,'Attacking').\\\n",
    "#                             when(col('foul_won_angle')<0,'Defensive').otherwise('Neutral'))\n",
    "df_clearance.printSchema()"
   ]
  },
  {
   "cell_type": "code",
   "execution_count": 59,
   "id": "0ddf012d",
   "metadata": {
    "scrolled": true
   },
   "outputs": [
    {
     "name": "stderr",
     "output_type": "stream",
     "text": [
      "\r",
      "[Stage 93:============================>                            (8 + 8) / 16]\r",
      "\r",
      "[Stage 93:==========================================>             (12 + 4) / 16]\r"
     ]
    },
    {
     "name": "stdout",
     "output_type": "stream",
     "text": [
      "+--------+-------+-------------------+---------------+\n",
      "|match_id|team_id|          team_name|clearance_count|\n",
      "+--------+-------+-------------------+---------------+\n",
      "| 3813317|   7291|             Odisha|             28|\n",
      "| 3825683|    210|      Real Sociedad|             20|\n",
      "| 3890512|    184|Eintracht Frankfurt|             30|\n",
      "| 3817880|   7290|         Chennaiyin|             24|\n",
      "| 3750200|     24|          Liverpool|             21|\n",
      "+--------+-------+-------------------+---------------+\n",
      "only showing top 5 rows\n",
      "\n"
     ]
    },
    {
     "name": "stderr",
     "output_type": "stream",
     "text": [
      "\r",
      "                                                                                \r"
     ]
    }
   ],
   "source": [
    "df_clearance_agg = df_clearance.groupby(col('match_id'),col('team_id'),col('team_name')).\\\n",
    "                  agg(count(col('timestamp')).alias('clearance_count'))\n",
    "df_clearance_agg.show(5)"
   ]
  },
  {
   "cell_type": "markdown",
   "id": "1da160ef",
   "metadata": {},
   "source": [
    "### Shield"
   ]
  },
  {
   "cell_type": "code",
   "execution_count": 60,
   "id": "20787dbb",
   "metadata": {
    "scrolled": true
   },
   "outputs": [
    {
     "name": "stdout",
     "output_type": "stream",
     "text": [
      "root\n",
      " |-- shield: integer (nullable = true)\n",
      " |-- match_id: long (nullable = true)\n",
      " |-- id: string (nullable = true)\n",
      " |-- index: long (nullable = true)\n",
      " |-- period: long (nullable = true)\n",
      " |-- timestamp: string (nullable = true)\n",
      " |-- minute: long (nullable = true)\n",
      " |-- second: long (nullable = true)\n",
      " |-- type_id: long (nullable = true)\n",
      " |-- type_name: string (nullable = true)\n",
      " |-- possession: long (nullable = true)\n",
      " |-- possession_team_id: long (nullable = true)\n",
      " |-- possession_team_name: string (nullable = true)\n",
      " |-- play_pattern_id: long (nullable = true)\n",
      " |-- play_pattern_name: string (nullable = true)\n",
      " |-- team_id: long (nullable = true)\n",
      " |-- team_name: string (nullable = true)\n",
      " |-- player_id: long (nullable = true)\n",
      " |-- player_name: string (nullable = true)\n",
      " |-- position_id: long (nullable = true)\n",
      " |-- position_name: string (nullable = true)\n",
      " |-- location: array (nullable = true)\n",
      " |    |-- element: double (containsNull = true)\n",
      " |-- duration: double (nullable = true)\n",
      " |-- under_pressure: boolean (nullable = true)\n",
      " |-- off_camera: boolean (nullable = true)\n",
      " |-- out: boolean (nullable = true)\n",
      " |-- related_events: array (nullable = true)\n",
      " |    |-- element: string (containsNull = true)\n",
      "\n"
     ]
    }
   ],
   "source": [
    "event = 'shield'\n",
    "filename = f'{new_data_dir}event_{event}.parquet'\n",
    "df_shield = spark.read.parquet(filename)\n",
    "\n",
    "# df_foul_won = df_foul_won.withColumn('foul_wonType',when(col('foul_won_angle')>0,'Attacking').\\\n",
    "#                             when(col('foul_won_angle')<0,'Defensive').otherwise('Neutral'))\n",
    "df_shield.printSchema()"
   ]
  },
  {
   "cell_type": "code",
   "execution_count": 61,
   "id": "b3f846da",
   "metadata": {},
   "outputs": [
    {
     "name": "stdout",
     "output_type": "stream",
     "text": [
      "+--------+-------+----------+------------+\n",
      "|match_id|team_id| team_name|shield_count|\n",
      "+--------+-------+----------+------------+\n",
      "| 3817880|   7290|Chennaiyin|           1|\n",
      "| 3825896|    221|Levante UD|           1|\n",
      "| 3750200|     24| Liverpool|           1|\n",
      "| 3817863|   7289| Hyderabad|           1|\n",
      "|    9799|    322|     Eibar|           3|\n",
      "+--------+-------+----------+------------+\n",
      "only showing top 5 rows\n",
      "\n"
     ]
    },
    {
     "name": "stderr",
     "output_type": "stream",
     "text": [
      "\r",
      "[Stage 97:======================================>                 (11 + 5) / 16]\r",
      "\r",
      "                                                                                \r"
     ]
    }
   ],
   "source": [
    "df_shield_agg = df_shield.groupby(col('match_id'),col('team_id'),col('team_name')).\\\n",
    "                  agg(count(col('timestamp')).alias('shield_count'))\n",
    "df_shield_agg.show(5)"
   ]
  },
  {
   "cell_type": "markdown",
   "id": "dafb5ad4",
   "metadata": {},
   "source": [
    "### Consolidation"
   ]
  },
  {
   "cell_type": "code",
   "execution_count": 62,
   "id": "3697e33b",
   "metadata": {
    "scrolled": true
   },
   "outputs": [
    {
     "name": "stdout",
     "output_type": "stream",
     "text": [
      "root\n",
      " |-- match_id: long (nullable = true)\n",
      " |-- team_id: long (nullable = true)\n",
      " |-- team_name: string (nullable = true)\n",
      " |-- duel_count: long (nullable = true)\n",
      " |-- block_count: long (nullable = true)\n",
      " |-- clearance_count: long (nullable = true)\n",
      " |-- shield_count: long (nullable = true)\n",
      " |-- Defensive_avg_pass_distance: double (nullable = true)\n",
      " |-- Defensive_sum_pass_distance: double (nullable = true)\n",
      " |-- Defensive_pass_count: long (nullable = true)\n",
      " |-- Backward_carry_count: long (nullable = true)\n",
      " |-- Backward_avg_carry_distance: double (nullable = true)\n",
      " |-- Backward_avg_attacking_carry_distance: double (nullable = true)\n",
      " |-- Defensive_foul_count: long (nullable = true)\n",
      " |-- Defensive_foul_share: double (nullable = true)\n",
      "\n"
     ]
    }
   ],
   "source": [
    "join_cols = ['match_id','team_id','team_name']\n",
    "\n",
    "df_defense = df_duel_agg.join(df_block_agg, on = join_cols, how = 'outer')\n",
    "df_defense = df_defense.join(df_clearance_agg, on = join_cols, how = 'outer')\n",
    "df_defense = df_defense.join(df_shield_agg, on = join_cols, how = 'outer')\n",
    "df_defense = df_defense.join(df_pass_agg.select(*(join_cols+['Defensive_avg_pass_distance',\n",
    "                                                           'Defensive_sum_pass_distance','Defensive_pass_count'])), on = join_cols, how = 'outer')\n",
    "df_defense = df_defense.join(df_carry_agg.select(*(join_cols+['Backward_carry_count',\n",
    "                                                              'Backward_avg_carry_distance','Backward_avg_attacking_carry_distance'])), on = join_cols, how = 'outer')\n",
    "df_defense = df_defense.join(df_foul_agg.select(*(join_cols+['Defensive_foul_count',\n",
    "                                                              'Defensive_foul_share'])), on = join_cols, how = 'outer')\n",
    "# df_defense = df_defense.join(df_foul_com_agg.select(*(join_cols+['Defensive_foul_committed_count',\n",
    "#                                                               'Defensive_foul_committed_share'])), on = join_cols, how = 'outer')\n",
    "\n",
    "df_defense.printSchema()"
   ]
  },
  {
   "cell_type": "code",
   "execution_count": 63,
   "id": "b84beced",
   "metadata": {},
   "outputs": [
    {
     "data": {
      "text/plain": [
       "DataFrame[match_id: bigint, team_id: bigint, team_name: string, duel_count: bigint, block_count: bigint, clearance_count: bigint, shield_count: bigint, Defensive_avg_pass_distance: double, Defensive_sum_pass_distance: double, Defensive_pass_count: bigint, Backward_carry_count: bigint, Backward_avg_carry_distance: double, Backward_avg_attacking_carry_distance: double, Defensive_foul_count: bigint, Defensive_foul_share: double]"
      ]
     },
     "execution_count": 63,
     "metadata": {},
     "output_type": "execute_result"
    }
   ],
   "source": [
    "df_defense.persist()"
   ]
  },
  {
   "cell_type": "code",
   "execution_count": 65,
   "id": "e1d011f9",
   "metadata": {},
   "outputs": [
    {
     "name": "stdout",
     "output_type": "stream",
     "text": [
      "+--------+-------+-----------------+----------+-----------+---------------+------------+---------------------------+---------------------------+--------------------+--------------------+---------------------------+-------------------------------------+--------------------+--------------------+\n",
      "|match_id|team_id|        team_name|duel_count|block_count|clearance_count|shield_count|Defensive_avg_pass_distance|Defensive_sum_pass_distance|Defensive_pass_count|Backward_carry_count|Backward_avg_carry_distance|Backward_avg_attacking_carry_distance|Defensive_foul_count|Defensive_foul_share|\n",
      "+--------+-------+-----------------+----------+-----------+---------------+------------+---------------------------+---------------------------+--------------------+--------------------+---------------------------+-------------------------------------+--------------------+--------------------+\n",
      "|    7475|    761|Chicago Red Stars|        23|         24|             19|        null|                      21.19|                    4237.81|                 200|                 105|          4.096674605189822|                   -4.096674605189822|                   3|                null|\n",
      "|    7523|    764|    Orlando Pride|        31|         32|             28|        null|                      21.66|                     4657.7|                 215|                  98|          5.669335093158508|                   -5.669335093158508|                   5|                null|\n",
      "|   68364|    217|        Barcelona|        29|         11|             15|        null|                       20.4|                    5753.19|                 282|                 114|          5.158265573124762|                   -5.158265573124762|                   2| 0.13333333333333333|\n",
      "|   69253|    395|    Real Zaragoza|        17|          7|             16|        null|                      23.33|                    3102.81|                 133|                  52|          5.257208553522162|                   -5.257208553522162|                   2|                null|\n",
      "|   69328|    217|        Barcelona|        38|         12|             17|        null|                      18.02|                    6199.95|                 344|                 142|          4.616748008938981|                   -4.616748008938981|                   4|                null|\n",
      "+--------+-------+-----------------+----------+-----------+---------------+------------+---------------------------+---------------------------+--------------------+--------------------+---------------------------+-------------------------------------+--------------------+--------------------+\n",
      "only showing top 5 rows\n",
      "\n"
     ]
    }
   ],
   "source": [
    "df_defense.show(5)"
   ]
  },
  {
   "cell_type": "markdown",
   "id": "f5f73562",
   "metadata": {},
   "source": [
    "## Attacking transition flags"
   ]
  },
  {
   "cell_type": "markdown",
   "id": "b76be44a",
   "metadata": {},
   "source": [
    "### Ball Recovery"
   ]
  },
  {
   "cell_type": "code",
   "execution_count": 66,
   "id": "550b5e05",
   "metadata": {
    "scrolled": true
   },
   "outputs": [
    {
     "name": "stdout",
     "output_type": "stream",
     "text": [
      "root\n",
      " |-- ball_recovery_offensive: boolean (nullable = true)\n",
      " |-- ball_recovery_recovery_failure: boolean (nullable = true)\n",
      " |-- match_id: long (nullable = true)\n",
      " |-- id: string (nullable = true)\n",
      " |-- index: long (nullable = true)\n",
      " |-- period: long (nullable = true)\n",
      " |-- timestamp: string (nullable = true)\n",
      " |-- minute: long (nullable = true)\n",
      " |-- second: long (nullable = true)\n",
      " |-- type_id: long (nullable = true)\n",
      " |-- type_name: string (nullable = true)\n",
      " |-- possession: long (nullable = true)\n",
      " |-- possession_team_id: long (nullable = true)\n",
      " |-- possession_team_name: string (nullable = true)\n",
      " |-- play_pattern_id: long (nullable = true)\n",
      " |-- play_pattern_name: string (nullable = true)\n",
      " |-- team_id: long (nullable = true)\n",
      " |-- team_name: string (nullable = true)\n",
      " |-- player_id: long (nullable = true)\n",
      " |-- player_name: string (nullable = true)\n",
      " |-- position_id: long (nullable = true)\n",
      " |-- position_name: string (nullable = true)\n",
      " |-- location: array (nullable = true)\n",
      " |    |-- element: double (containsNull = true)\n",
      " |-- duration: double (nullable = true)\n",
      " |-- under_pressure: boolean (nullable = true)\n",
      " |-- off_camera: boolean (nullable = true)\n",
      " |-- out: boolean (nullable = true)\n",
      " |-- related_events: array (nullable = true)\n",
      " |    |-- element: string (containsNull = true)\n",
      "\n"
     ]
    }
   ],
   "source": [
    "event = 'ball_recovery'\n",
    "filename = f'{new_data_dir}event_{event}.parquet'\n",
    "df_ball_rec = spark.read.parquet(filename)\n",
    "\n",
    "# df_foul_won = df_foul_won.withColumn('foul_wonType',when(col('foul_won_angle')>0,'Attacking').\\\n",
    "#                             when(col('foul_won_angle')<0,'Defensive').otherwise('Neutral'))\n",
    "df_ball_rec.printSchema()"
   ]
  },
  {
   "cell_type": "code",
   "execution_count": 67,
   "id": "f8fa0042",
   "metadata": {},
   "outputs": [
    {
     "name": "stdout",
     "output_type": "stream",
     "text": [
      "root\n",
      " |-- match_id: long (nullable = true)\n",
      " |-- team_id: long (nullable = true)\n",
      " |-- team_name: string (nullable = true)\n",
      " |-- ball_recovery_count: long (nullable = false)\n",
      "\n"
     ]
    }
   ],
   "source": [
    "df_ball_rec_agg = df_ball_rec.groupby(col('match_id'),col('team_id'),col('team_name')).\\\n",
    "                  agg(count(col('timestamp')).alias('ball_recovery_count'))\n",
    "\n",
    "df_ball_rec_agg.printSchema()"
   ]
  },
  {
   "cell_type": "code",
   "execution_count": 68,
   "id": "44eebb96",
   "metadata": {},
   "outputs": [
    {
     "name": "stderr",
     "output_type": "stream",
     "text": [
      "[Stage 150:==================================>                    (10 + 6) / 16]\r"
     ]
    },
    {
     "name": "stdout",
     "output_type": "stream",
     "text": [
      "+--------+-------+--------------------+-------------------+\n",
      "|match_id|team_id|           team_name|ball_recovery_count|\n",
      "+--------+-------+--------------------+-------------------+\n",
      "| 3888704|    781|              Brazil|                107|\n",
      "| 3893792|   1214|United States Wom...|                101|\n",
      "| 3902240|    863|       Spain Women's|                100|\n",
      "| 3888705|    781|              Brazil|                 98|\n",
      "|   69336|    217|           Barcelona|                 96|\n",
      "+--------+-------+--------------------+-------------------+\n",
      "only showing top 5 rows\n",
      "\n"
     ]
    },
    {
     "name": "stderr",
     "output_type": "stream",
     "text": [
      "\r",
      "                                                                                \r"
     ]
    }
   ],
   "source": [
    "df_ball_rec_agg.orderBy(col('ball_recovery_count').desc()).show(5)"
   ]
  },
  {
   "cell_type": "markdown",
   "id": "91f42786",
   "metadata": {},
   "source": [
    "### Interception"
   ]
  },
  {
   "cell_type": "code",
   "execution_count": 69,
   "id": "737790be",
   "metadata": {
    "scrolled": true
   },
   "outputs": [
    {
     "name": "stdout",
     "output_type": "stream",
     "text": [
      "root\n",
      " |-- interception_outcome_id: long (nullable = true)\n",
      " |-- interception_outcome_name: string (nullable = true)\n",
      " |-- match_id: long (nullable = true)\n",
      " |-- id: string (nullable = true)\n",
      " |-- index: long (nullable = true)\n",
      " |-- period: long (nullable = true)\n",
      " |-- timestamp: string (nullable = true)\n",
      " |-- minute: long (nullable = true)\n",
      " |-- second: long (nullable = true)\n",
      " |-- type_id: long (nullable = true)\n",
      " |-- type_name: string (nullable = true)\n",
      " |-- possession: long (nullable = true)\n",
      " |-- possession_team_id: long (nullable = true)\n",
      " |-- possession_team_name: string (nullable = true)\n",
      " |-- play_pattern_id: long (nullable = true)\n",
      " |-- play_pattern_name: string (nullable = true)\n",
      " |-- team_id: long (nullable = true)\n",
      " |-- team_name: string (nullable = true)\n",
      " |-- player_id: long (nullable = true)\n",
      " |-- player_name: string (nullable = true)\n",
      " |-- position_id: long (nullable = true)\n",
      " |-- position_name: string (nullable = true)\n",
      " |-- location: array (nullable = true)\n",
      " |    |-- element: double (containsNull = true)\n",
      " |-- duration: double (nullable = true)\n",
      " |-- under_pressure: boolean (nullable = true)\n",
      " |-- off_camera: boolean (nullable = true)\n",
      " |-- out: boolean (nullable = true)\n",
      " |-- related_events: array (nullable = true)\n",
      " |    |-- element: string (containsNull = true)\n",
      "\n"
     ]
    }
   ],
   "source": [
    "event = 'interception'\n",
    "filename = f'{new_data_dir}event_{event}.parquet'\n",
    "df_interceptn = spark.read.parquet(filename)\n",
    "\n",
    "# df_foul_won = df_foul_won.withColumn('foul_wonType',when(col('foul_won_angle')>0,'Attacking').\\\n",
    "#                             when(col('foul_won_angle')<0,'Defensive').otherwise('Neutral'))\n",
    "df_interceptn.printSchema()"
   ]
  },
  {
   "cell_type": "code",
   "execution_count": 70,
   "id": "83a5e281",
   "metadata": {},
   "outputs": [
    {
     "name": "stdout",
     "output_type": "stream",
     "text": [
      "root\n",
      " |-- match_id: long (nullable = true)\n",
      " |-- team_id: long (nullable = true)\n",
      " |-- team_name: string (nullable = true)\n",
      " |-- interception_count: long (nullable = false)\n",
      "\n"
     ]
    }
   ],
   "source": [
    "df_interceptn_agg = df_interceptn.groupby(col('match_id'),col('team_id'),col('team_name')).\\\n",
    "                  agg(count(col('interception_outcome_id')).alias('interception_count'))\n",
    "\n",
    "df_interceptn_agg.printSchema()"
   ]
  },
  {
   "cell_type": "code",
   "execution_count": 71,
   "id": "b23c1fa8",
   "metadata": {},
   "outputs": [
    {
     "name": "stderr",
     "output_type": "stream",
     "text": [
      "\r",
      "[Stage 154:=================>                                      (5 + 8) / 16]\r",
      "\r",
      "[Stage 154:===============================>                        (9 + 7) / 16]\r"
     ]
    },
    {
     "name": "stdout",
     "output_type": "stream",
     "text": [
      "+--------+-------+---------------+------------------+\n",
      "|match_id|team_id|      team_name|interception_count|\n",
      "+--------+-------+---------------+------------------+\n",
      "| 3775540|   2647|    Aston Villa|                42|\n",
      "| 3775648|   2647|    Aston Villa|                39|\n",
      "| 3813306|   7282|ATK Mohun Bagan|                39|\n",
      "| 3754048|     31| Crystal Palace|                38|\n",
      "| 3775599|   2647|    Aston Villa|                38|\n",
      "+--------+-------+---------------+------------------+\n",
      "only showing top 5 rows\n",
      "\n"
     ]
    },
    {
     "name": "stderr",
     "output_type": "stream",
     "text": [
      "\r",
      "                                                                                \r"
     ]
    }
   ],
   "source": [
    "df_interceptn_agg.orderBy(col('interception_count').desc()).show(5)"
   ]
  },
  {
   "cell_type": "markdown",
   "id": "8813c188",
   "metadata": {},
   "source": [
    "### Consolidation"
   ]
  },
  {
   "cell_type": "code",
   "execution_count": 72,
   "id": "f732ee7c",
   "metadata": {},
   "outputs": [
    {
     "name": "stdout",
     "output_type": "stream",
     "text": [
      "root\n",
      " |-- match_id: long (nullable = true)\n",
      " |-- team_id: long (nullable = true)\n",
      " |-- team_name: string (nullable = true)\n",
      " |-- ball_recovery_count: long (nullable = true)\n",
      " |-- interception_count: long (nullable = true)\n",
      " |-- Transition_avg_pass_distance: double (nullable = true)\n",
      " |-- Transition_sum_pass_distance: double (nullable = true)\n",
      " |-- Transition_pass_count: long (nullable = true)\n",
      " |-- Transition_carry_count: long (nullable = true)\n",
      " |-- Transition_avg_carry_distance: double (nullable = true)\n",
      " |-- Transition_avg_attacking_carry_distance: double (nullable = true)\n",
      " |-- Transition_foul_count: long (nullable = true)\n",
      " |-- Transition_foul_share: double (nullable = true)\n",
      "\n"
     ]
    }
   ],
   "source": [
    "df_transition = df_ball_rec_agg.join(df_interceptn_agg, on = ['match_id','team_id','team_name'], how = 'outer').fillna(0)\n",
    "\n",
    "df_transition = df_transition.join(df_pass_agg.select(*(join_cols+['Transition_avg_pass_distance',\n",
    "                                                           'Transition_sum_pass_distance','Transition_pass_count'])), on = join_cols, how = 'outer')\n",
    "df_transition = df_transition.join(df_carry_agg.select(*(join_cols+['Transition_carry_count',\n",
    "                                                              'Transition_avg_carry_distance','Transition_avg_attacking_carry_distance'])), on = join_cols, how = 'outer')\n",
    "df_transition = df_transition.join(df_foul_agg.select(*(join_cols+['Transition_foul_count',\n",
    "                                                              'Transition_foul_share'])), on = join_cols, how = 'outer')\n",
    "\n",
    "df_transition.printSchema()"
   ]
  },
  {
   "cell_type": "markdown",
   "id": "e6f193ed",
   "metadata": {},
   "source": [
    "# All analysis data"
   ]
  },
  {
   "cell_type": "code",
   "execution_count": 111,
   "id": "86ed1431",
   "metadata": {},
   "outputs": [
    {
     "name": "stderr",
     "output_type": "stream",
     "text": [
      "                                                                                \r"
     ]
    },
    {
     "data": {
      "text/plain": [
       "(6398, 6398, 6398)"
      ]
     },
     "execution_count": 111,
     "metadata": {},
     "output_type": "execute_result"
    },
    {
     "name": "stderr",
     "output_type": "stream",
     "text": [
      "\r",
      "                                                                                \r"
     ]
    },
    {
     "data": {
      "text/plain": [
       "(6398, 6398, 6398)"
      ]
     },
     "execution_count": 111,
     "metadata": {},
     "output_type": "execute_result"
    }
   ],
   "source": [
    "df_defense.count(),df_attack.count(),df_transition.count()"
   ]
  },
  {
   "cell_type": "code",
   "execution_count": 73,
   "id": "4d7ed6d9",
   "metadata": {
    "scrolled": true
   },
   "outputs": [
    {
     "name": "stdout",
     "output_type": "stream",
     "text": [
      "root\n",
      " |-- match_id: long (nullable = true)\n",
      " |-- team_id: long (nullable = true)\n",
      " |-- team_name: string (nullable = true)\n",
      " |-- dribble_count: long (nullable = true)\n",
      " |-- shot_count: long (nullable = true)\n",
      " |-- goal_count: long (nullable = true)\n",
      " |-- total_offside_count: long (nullable = true)\n",
      " |-- Attacking_avg_pass_distance: double (nullable = true)\n",
      " |-- Attacking_sum_pass_distance: double (nullable = true)\n",
      " |-- Attacking_pass_count: long (nullable = true)\n",
      " |-- Forward_carry_count: long (nullable = true)\n",
      " |-- Forward_avg_carry_distance: double (nullable = true)\n",
      " |-- Forward_avg_attacking_carry_distance: double (nullable = true)\n",
      " |-- Attacking_foul_count: long (nullable = true)\n",
      " |-- Attacking_foul_share: double (nullable = true)\n",
      " |-- duel_count: long (nullable = true)\n",
      " |-- block_count: long (nullable = true)\n",
      " |-- clearance_count: long (nullable = true)\n",
      " |-- shield_count: long (nullable = true)\n",
      " |-- Defensive_avg_pass_distance: double (nullable = true)\n",
      " |-- Defensive_sum_pass_distance: double (nullable = true)\n",
      " |-- Defensive_pass_count: long (nullable = true)\n",
      " |-- Backward_carry_count: long (nullable = true)\n",
      " |-- Backward_avg_carry_distance: double (nullable = true)\n",
      " |-- Backward_avg_attacking_carry_distance: double (nullable = true)\n",
      " |-- Defensive_foul_count: long (nullable = true)\n",
      " |-- Defensive_foul_share: double (nullable = true)\n",
      " |-- ball_recovery_count: long (nullable = true)\n",
      " |-- interception_count: long (nullable = true)\n",
      " |-- Transition_avg_pass_distance: double (nullable = true)\n",
      " |-- Transition_sum_pass_distance: double (nullable = true)\n",
      " |-- Transition_pass_count: long (nullable = true)\n",
      " |-- Transition_carry_count: long (nullable = true)\n",
      " |-- Transition_avg_carry_distance: double (nullable = true)\n",
      " |-- Transition_avg_attacking_carry_distance: double (nullable = true)\n",
      " |-- Transition_foul_count: long (nullable = true)\n",
      " |-- Transition_foul_share: double (nullable = true)\n",
      "\n"
     ]
    }
   ],
   "source": [
    "join_cols = ['match_id','team_id','team_name']\n",
    "\n",
    "df_style_analysis = df_attack.join(df_defense, on = join_cols, how = 'inner')\n",
    "df_style_analysis = df_style_analysis.join(df_transition, on = join_cols, how = 'inner')\n",
    "\n",
    "df_style_analysis.printSchema()"
   ]
  },
  {
   "cell_type": "code",
   "execution_count": 74,
   "id": "d1afe6ac",
   "metadata": {
    "scrolled": true
   },
   "outputs": [
    {
     "name": "stdout",
     "output_type": "stream",
     "text": [
      "mkdir: `Project/Data/Analysis_Data': File exists\n",
      "Found 9 items\n",
      "-rwxrwxrwx+  1 dc5415_nyu_edu dc5415_nyu_edu       6148 2023-11-14 20:42 Project/Data/.DS_Store\n",
      "drwxr-xr-x   - dc5415_nyu_edu dc5415_nyu_edu          0 2023-12-10 23:28 Project/Data/Analysis_Data\n",
      "drwxrwxrwx+  - dc5415_nyu_edu dc5415_nyu_edu          0 2023-12-09 04:27 Project/Data/Format_data\n",
      "-rwxrwxrwx+  1 dc5415_nyu_edu dc5415_nyu_edu     165130 2023-11-14 20:42 Project/Data/LICENSE.pdf\n",
      "-rwxrwxrwx+  1 dc5415_nyu_edu dc5415_nyu_edu       1753 2023-11-14 20:42 Project/Data/README.md\n",
      "-rwxrwxrwx+  1 dc5415_nyu_edu dc5415_nyu_edu 1166414322 2023-11-14 21:13 Project/Data/StatsbombData.zip\n",
      "drwxrwxrwx+  - dc5415_nyu_edu dc5415_nyu_edu          0 2023-12-04 22:42 Project/Data/data\n",
      "drwxrwxrwx+  - dc5415_nyu_edu dc5415_nyu_edu          0 2023-11-14 20:42 Project/Data/doc\n",
      "drwxrwxrwx+  - dc5415_nyu_edu dc5415_nyu_edu          0 2023-11-14 20:42 Project/Data/img\n"
     ]
    }
   ],
   "source": [
    "!hdfs dfs -mkdir Project/Data/Analysis_Data/\n",
    "!hdfs dfs -ls Project/Data/"
   ]
  },
  {
   "cell_type": "code",
   "execution_count": 75,
   "id": "dc676375",
   "metadata": {},
   "outputs": [],
   "source": [
    "analysis_data_dir = '/user/dc5415_nyu_edu/Project/Data/Analysis_Data/'"
   ]
  },
  {
   "cell_type": "code",
   "execution_count": 76,
   "id": "9d3921c0",
   "metadata": {},
   "outputs": [
    {
     "name": "stdout",
     "output_type": "stream",
     "text": [
      "rm: `/user/dc5415_nyu_edu/Project/Data/Analysis_Data/style_wTransition_data_all_mathches.parquet': No such file or directory\r\n"
     ]
    },
    {
     "name": "stderr",
     "output_type": "stream",
     "text": [
      "23/12/11 00:15:04 WARN org.apache.spark.sql.catalyst.util.package: Truncated the string representation of a plan since it was too large. This behavior can be adjusted by setting 'spark.sql.debug.maxToStringFields'.\n",
      "                                                                                \r"
     ]
    },
    {
     "name": "stdout",
     "output_type": "stream",
     "text": [
      "Found 4 items\r\n",
      "drwxr-xr-x   - dc5415_nyu_edu dc5415_nyu_edu          0 2023-12-10 01:49 /user/dc5415_nyu_edu/Project/Data/Analysis_Data/mathches_style_homeaway.parquet\r\n",
      "drwxr-xr-x   - dc5415_nyu_edu dc5415_nyu_edu          0 2023-12-10 23:13 /user/dc5415_nyu_edu/Project/Data/Analysis_Data/mathches_wTransition_style_homeaway.parquet\r\n",
      "drwxr-xr-x   - dc5415_nyu_edu dc5415_nyu_edu          0 2023-12-09 20:30 /user/dc5415_nyu_edu/Project/Data/Analysis_Data/style_data_all_mathches.parquet\r\n",
      "drwxr-xr-x   - dc5415_nyu_edu dc5415_nyu_edu          0 2023-12-11 00:15 /user/dc5415_nyu_edu/Project/Data/Analysis_Data/style_wTransition_data_all_mathches.parquet\r\n"
     ]
    }
   ],
   "source": [
    "filename = f\"{analysis_data_dir}style_wTransition_data_all_mathches.parquet\"\n",
    "!hdfs dfs -rm -R $filename\n",
    "\n",
    "df_style_analysis.write.parquet(filename)\n",
    "\n",
    "!hdfs dfs -ls $analysis_data_dir"
   ]
  },
  {
   "cell_type": "code",
   "execution_count": 78,
   "id": "dd99e20c",
   "metadata": {
    "scrolled": true
   },
   "outputs": [
    {
     "name": "stdout",
     "output_type": "stream",
     "text": [
      "root\n",
      " |-- away_score: long (nullable = true)\n",
      " |-- away_team_away_team_gender: string (nullable = true)\n",
      " |-- away_team_away_team_group: string (nullable = true)\n",
      " |-- away_team_away_team_id: long (nullable = true)\n",
      " |-- away_team_away_team_name: string (nullable = true)\n",
      " |-- away_team_managers_country_id: long (nullable = true)\n",
      " |-- away_team_managers_country_name: string (nullable = true)\n",
      " |-- away_team_managers_name: string (nullable = true)\n",
      " |-- away_team_managers_dob: string (nullable = true)\n",
      " |-- away_team_managers_id: long (nullable = true)\n",
      " |-- away_team_managers_nickname: string (nullable = true)\n",
      " |-- competition_competition_id: long (nullable = true)\n",
      " |-- competition_competition_name: string (nullable = true)\n",
      " |-- competition_country_name: string (nullable = true)\n",
      " |-- competition_stage_id: long (nullable = true)\n",
      " |-- competition_stage_name: string (nullable = true)\n",
      " |-- home_score: long (nullable = true)\n",
      " |-- home_team_home_team_gender: string (nullable = true)\n",
      " |-- home_team_home_team_group: string (nullable = true)\n",
      " |-- home_team_home_team_id: long (nullable = true)\n",
      " |-- home_team_home_team_name: string (nullable = true)\n",
      " |-- home_team_managers_country_id: long (nullable = true)\n",
      " |-- home_team_managers_country_name: string (nullable = true)\n",
      " |-- home_team_managers_name: string (nullable = true)\n",
      " |-- home_team_managers_dob: string (nullable = true)\n",
      " |-- home_team_managers_id: long (nullable = true)\n",
      " |-- home_team_managers_nickname: string (nullable = true)\n",
      " |-- kick_off: string (nullable = true)\n",
      " |-- last_updated: string (nullable = true)\n",
      " |-- last_updated_360: string (nullable = true)\n",
      " |-- match_date: string (nullable = true)\n",
      " |-- match_id: long (nullable = true)\n",
      " |-- match_status: string (nullable = true)\n",
      " |-- match_status_360: string (nullable = true)\n",
      " |-- match_week: long (nullable = true)\n",
      " |-- referee_country_id: long (nullable = true)\n",
      " |-- referee_country_name: string (nullable = true)\n",
      " |-- referee_id: long (nullable = true)\n",
      " |-- referee_name: string (nullable = true)\n",
      " |-- season_season_id: long (nullable = true)\n",
      " |-- season_season_name: string (nullable = true)\n",
      " |-- stadium_country_id: long (nullable = true)\n",
      " |-- stadium_country_name: string (nullable = true)\n",
      " |-- stadium_id: long (nullable = true)\n",
      " |-- stadium_name: string (nullable = true)\n",
      " |-- competition_gender: string (nullable = true)\n",
      " |-- competition_id: long (nullable = true)\n",
      " |-- competition_international: boolean (nullable = true)\n",
      " |-- competition_name: string (nullable = true)\n",
      " |-- competition_youth: boolean (nullable = true)\n",
      " |-- country_name: string (nullable = true)\n",
      " |-- match_available: string (nullable = true)\n",
      " |-- match_available_360: string (nullable = true)\n",
      " |-- match_updated: string (nullable = true)\n",
      " |-- match_updated_360: string (nullable = true)\n",
      " |-- season_id: long (nullable = true)\n",
      " |-- season_name: string (nullable = true)\n",
      " |-- win_team_id: long (nullable = true)\n",
      " |-- lose_team_id: long (nullable = true)\n",
      " |-- if_draw: boolean (nullable = true)\n",
      " |-- match_id: long (nullable = true)\n",
      " |-- team_id: long (nullable = true)\n",
      " |-- team_name: string (nullable = true)\n",
      " |-- dribble_count: long (nullable = true)\n",
      " |-- shot_count: long (nullable = true)\n",
      " |-- goal_count: long (nullable = true)\n",
      " |-- total_offside_count: long (nullable = true)\n",
      " |-- Attacking_avg_pass_distance: double (nullable = true)\n",
      " |-- Attacking_sum_pass_distance: double (nullable = true)\n",
      " |-- Attacking_pass_count: long (nullable = true)\n",
      " |-- Forward_carry_count: long (nullable = true)\n",
      " |-- Forward_avg_carry_distance: double (nullable = true)\n",
      " |-- Forward_avg_attacking_carry_distance: double (nullable = true)\n",
      " |-- Attacking_foul_count: long (nullable = true)\n",
      " |-- Attacking_foul_share: double (nullable = true)\n",
      " |-- duel_count: long (nullable = true)\n",
      " |-- block_count: long (nullable = true)\n",
      " |-- clearance_count: long (nullable = true)\n",
      " |-- shield_count: long (nullable = true)\n",
      " |-- Defensive_avg_pass_distance: double (nullable = true)\n",
      " |-- Defensive_sum_pass_distance: double (nullable = true)\n",
      " |-- Defensive_pass_count: long (nullable = true)\n",
      " |-- Backward_carry_count: long (nullable = true)\n",
      " |-- Backward_avg_carry_distance: double (nullable = true)\n",
      " |-- Backward_avg_attacking_carry_distance: double (nullable = true)\n",
      " |-- Defensive_foul_count: long (nullable = true)\n",
      " |-- Defensive_foul_share: double (nullable = true)\n",
      " |-- ball_recovery_count: long (nullable = true)\n",
      " |-- interception_count: long (nullable = true)\n",
      " |-- Transition_avg_pass_distance: double (nullable = true)\n",
      " |-- Transition_sum_pass_distance: double (nullable = true)\n",
      " |-- Transition_pass_count: long (nullable = true)\n",
      " |-- Transition_carry_count: long (nullable = true)\n",
      " |-- Transition_avg_carry_distance: double (nullable = true)\n",
      " |-- Transition_avg_attacking_carry_distance: double (nullable = true)\n",
      " |-- Transition_foul_count: long (nullable = true)\n",
      " |-- Transition_foul_share: double (nullable = true)\n",
      "\n"
     ]
    }
   ],
   "source": [
    "condition_home = [(df_match_focus.match_id == df_style_analysis.match_id) &\n",
    "                  (df_match_focus.home_team_home_team_id == df_style_analysis.team_id)]\n",
    "df_home_style = df_match_focus.join(df_style_analysis, on = condition_home)\n",
    "\n",
    "df_home_style.printSchema()"
   ]
  },
  {
   "cell_type": "code",
   "execution_count": 79,
   "id": "a39d5779",
   "metadata": {
    "scrolled": true
   },
   "outputs": [
    {
     "name": "stdout",
     "output_type": "stream",
     "text": [
      "root\n",
      " |-- away_score: long (nullable = true)\n",
      " |-- away_team_away_team_gender: string (nullable = true)\n",
      " |-- away_team_away_team_group: string (nullable = true)\n",
      " |-- away_team_away_team_id: long (nullable = true)\n",
      " |-- away_team_away_team_name: string (nullable = true)\n",
      " |-- away_team_managers_country_id: long (nullable = true)\n",
      " |-- away_team_managers_country_name: string (nullable = true)\n",
      " |-- away_team_managers_name: string (nullable = true)\n",
      " |-- away_team_managers_dob: string (nullable = true)\n",
      " |-- away_team_managers_id: long (nullable = true)\n",
      " |-- away_team_managers_nickname: string (nullable = true)\n",
      " |-- competition_competition_id: long (nullable = true)\n",
      " |-- competition_competition_name: string (nullable = true)\n",
      " |-- competition_country_name: string (nullable = true)\n",
      " |-- competition_stage_id: long (nullable = true)\n",
      " |-- competition_stage_name: string (nullable = true)\n",
      " |-- home_score: long (nullable = true)\n",
      " |-- home_team_home_team_gender: string (nullable = true)\n",
      " |-- home_team_home_team_group: string (nullable = true)\n",
      " |-- home_team_home_team_id: long (nullable = true)\n",
      " |-- home_team_home_team_name: string (nullable = true)\n",
      " |-- home_team_managers_country_id: long (nullable = true)\n",
      " |-- home_team_managers_country_name: string (nullable = true)\n",
      " |-- home_team_managers_name: string (nullable = true)\n",
      " |-- home_team_managers_dob: string (nullable = true)\n",
      " |-- home_team_managers_id: long (nullable = true)\n",
      " |-- home_team_managers_nickname: string (nullable = true)\n",
      " |-- kick_off: string (nullable = true)\n",
      " |-- last_updated: string (nullable = true)\n",
      " |-- last_updated_360: string (nullable = true)\n",
      " |-- match_date: string (nullable = true)\n",
      " |-- match_id: long (nullable = true)\n",
      " |-- match_status: string (nullable = true)\n",
      " |-- match_status_360: string (nullable = true)\n",
      " |-- match_week: long (nullable = true)\n",
      " |-- referee_country_id: long (nullable = true)\n",
      " |-- referee_country_name: string (nullable = true)\n",
      " |-- referee_id: long (nullable = true)\n",
      " |-- referee_name: string (nullable = true)\n",
      " |-- season_season_id: long (nullable = true)\n",
      " |-- season_season_name: string (nullable = true)\n",
      " |-- stadium_country_id: long (nullable = true)\n",
      " |-- stadium_country_name: string (nullable = true)\n",
      " |-- stadium_id: long (nullable = true)\n",
      " |-- stadium_name: string (nullable = true)\n",
      " |-- competition_gender: string (nullable = true)\n",
      " |-- competition_id: long (nullable = true)\n",
      " |-- competition_international: boolean (nullable = true)\n",
      " |-- competition_name: string (nullable = true)\n",
      " |-- competition_youth: boolean (nullable = true)\n",
      " |-- country_name: string (nullable = true)\n",
      " |-- match_available: string (nullable = true)\n",
      " |-- match_available_360: string (nullable = true)\n",
      " |-- match_updated: string (nullable = true)\n",
      " |-- match_updated_360: string (nullable = true)\n",
      " |-- season_id: long (nullable = true)\n",
      " |-- season_name: string (nullable = true)\n",
      " |-- win_team_id: long (nullable = true)\n",
      " |-- lose_team_id: long (nullable = true)\n",
      " |-- if_draw: boolean (nullable = true)\n",
      " |-- match_id: long (nullable = true)\n",
      " |-- team_id: long (nullable = true)\n",
      " |-- team_name: string (nullable = true)\n",
      " |-- dribble_count: long (nullable = true)\n",
      " |-- shot_count: long (nullable = true)\n",
      " |-- goal_count: long (nullable = true)\n",
      " |-- total_offside_count: long (nullable = true)\n",
      " |-- Attacking_avg_pass_distance: double (nullable = true)\n",
      " |-- Attacking_sum_pass_distance: double (nullable = true)\n",
      " |-- Attacking_pass_count: long (nullable = true)\n",
      " |-- Forward_carry_count: long (nullable = true)\n",
      " |-- Forward_avg_carry_distance: double (nullable = true)\n",
      " |-- Forward_avg_attacking_carry_distance: double (nullable = true)\n",
      " |-- Attacking_foul_count: long (nullable = true)\n",
      " |-- Attacking_foul_share: double (nullable = true)\n",
      " |-- duel_count: long (nullable = true)\n",
      " |-- block_count: long (nullable = true)\n",
      " |-- clearance_count: long (nullable = true)\n",
      " |-- shield_count: long (nullable = true)\n",
      " |-- Defensive_avg_pass_distance: double (nullable = true)\n",
      " |-- Defensive_sum_pass_distance: double (nullable = true)\n",
      " |-- Defensive_pass_count: long (nullable = true)\n",
      " |-- Backward_carry_count: long (nullable = true)\n",
      " |-- Backward_avg_carry_distance: double (nullable = true)\n",
      " |-- Backward_avg_attacking_carry_distance: double (nullable = true)\n",
      " |-- Defensive_foul_count: long (nullable = true)\n",
      " |-- Defensive_foul_share: double (nullable = true)\n",
      " |-- ball_recovery_count: long (nullable = true)\n",
      " |-- interception_count: long (nullable = true)\n",
      " |-- Transition_avg_pass_distance: double (nullable = true)\n",
      " |-- Transition_sum_pass_distance: double (nullable = true)\n",
      " |-- Transition_pass_count: long (nullable = true)\n",
      " |-- Transition_carry_count: long (nullable = true)\n",
      " |-- Transition_avg_carry_distance: double (nullable = true)\n",
      " |-- Transition_avg_attacking_carry_distance: double (nullable = true)\n",
      " |-- Transition_foul_count: long (nullable = true)\n",
      " |-- Transition_foul_share: double (nullable = true)\n",
      "\n"
     ]
    }
   ],
   "source": [
    "condition_away = [(df_match_focus.match_id == df_style_analysis.match_id) &\n",
    "                  (df_match_focus.away_team_away_team_id == df_style_analysis.team_id)]\n",
    "df_away_style = df_match_focus.join(df_style_analysis, on = condition_away)\n",
    "\n",
    "df_away_style.printSchema()"
   ]
  },
  {
   "cell_type": "markdown",
   "id": "b3396c23",
   "metadata": {},
   "source": [
    "## Home analysis"
   ]
  },
  {
   "cell_type": "code",
   "execution_count": 73,
   "id": "def7ed8b",
   "metadata": {},
   "outputs": [
    {
     "name": "stderr",
     "output_type": "stream",
     "text": [
      "                                                                                \r"
     ]
    },
    {
     "data": {
      "text/plain": [
       "1823"
      ]
     },
     "execution_count": 73,
     "metadata": {},
     "output_type": "execute_result"
    }
   ],
   "source": [
    "df_home_style.count()"
   ]
  },
  {
   "cell_type": "code",
   "execution_count": 80,
   "id": "ee8a1367",
   "metadata": {},
   "outputs": [],
   "source": [
    "agg_cols = ['dribble_count','shot_count','total_offside_count','Attacking_avg_pass_distance',\n",
    " 'Attacking_sum_pass_distance','Attacking_pass_count','Forward_carry_count','Forward_avg_carry_distance','Forward_avg_attacking_carry_distance',\n",
    " 'Attacking_foul_count','Attacking_foul_share','goal_count','duel_count',\n",
    " 'block_count', 'clearance_count', 'shield_count', 'Defensive_avg_pass_distance', 'Defensive_sum_pass_distance',\n",
    " 'Defensive_pass_count','Backward_carry_count','Backward_avg_carry_distance','Backward_avg_attacking_carry_distance','Defensive_foul_count',\n",
    " 'Defensive_foul_share','ball_recovery_count','interception_count',\n",
    "'Transition_avg_pass_distance', 'Transition_sum_pass_distance', 'Transition_pass_count', 'Transition_carry_count', 'Transition_avg_carry_distance', \n",
    "'Transition_avg_attacking_carry_distance', 'Transition_foul_count', 'Transition_foul_share']"
   ]
  },
  {
   "cell_type": "code",
   "execution_count": 81,
   "id": "6e029340",
   "metadata": {},
   "outputs": [],
   "source": [
    "group_cols = ['competition_competition_id','competition_competition_name','country_name','competition_international',\n",
    "             'team_id','team_name']"
   ]
  },
  {
   "cell_type": "code",
   "execution_count": 82,
   "id": "ea9ace4c",
   "metadata": {
    "scrolled": true
   },
   "outputs": [
    {
     "name": "stdout",
     "output_type": "stream",
     "text": [
      "root\n",
      " |-- competition_competition_id: long (nullable = true)\n",
      " |-- competition_competition_name: string (nullable = true)\n",
      " |-- country_name: string (nullable = true)\n",
      " |-- competition_international: boolean (nullable = true)\n",
      " |-- team_id: long (nullable = true)\n",
      " |-- team_name: string (nullable = true)\n",
      " |-- avg_dribble_count: double (nullable = true)\n",
      " |-- avg_shot_count: double (nullable = true)\n",
      " |-- avg_total_offside_count: double (nullable = true)\n",
      " |-- avg_Attacking_avg_pass_distance: double (nullable = true)\n",
      " |-- avg_Attacking_sum_pass_distance: double (nullable = true)\n",
      " |-- avg_Attacking_pass_count: double (nullable = true)\n",
      " |-- avg_Forward_carry_count: double (nullable = true)\n",
      " |-- avg_Forward_avg_carry_distance: double (nullable = true)\n",
      " |-- avg_Forward_avg_attacking_carry_distance: double (nullable = true)\n",
      " |-- avg_Attacking_foul_count: double (nullable = true)\n",
      " |-- avg_Attacking_foul_share: double (nullable = true)\n",
      " |-- avg_goal_count: double (nullable = true)\n",
      " |-- avg_duel_count: double (nullable = true)\n",
      " |-- avg_block_count: double (nullable = true)\n",
      " |-- avg_clearance_count: double (nullable = true)\n",
      " |-- avg_shield_count: double (nullable = true)\n",
      " |-- avg_Defensive_avg_pass_distance: double (nullable = true)\n",
      " |-- avg_Defensive_sum_pass_distance: double (nullable = true)\n",
      " |-- avg_Defensive_pass_count: double (nullable = true)\n",
      " |-- avg_Backward_carry_count: double (nullable = true)\n",
      " |-- avg_Backward_avg_carry_distance: double (nullable = true)\n",
      " |-- avg_Backward_avg_attacking_carry_distance: double (nullable = true)\n",
      " |-- avg_Defensive_foul_count: double (nullable = true)\n",
      " |-- avg_Defensive_foul_share: double (nullable = true)\n",
      " |-- avg_ball_recovery_count: double (nullable = true)\n",
      " |-- avg_interception_count: double (nullable = true)\n",
      " |-- avg_Transition_avg_pass_distance: double (nullable = true)\n",
      " |-- avg_Transition_sum_pass_distance: double (nullable = true)\n",
      " |-- avg_Transition_pass_count: double (nullable = true)\n",
      " |-- avg_Transition_carry_count: double (nullable = true)\n",
      " |-- avg_Transition_avg_carry_distance: double (nullable = true)\n",
      " |-- avg_Transition_avg_attacking_carry_distance: double (nullable = true)\n",
      " |-- avg_Transition_foul_count: double (nullable = true)\n",
      " |-- avg_Transition_foul_share: double (nullable = true)\n",
      "\n"
     ]
    }
   ],
   "source": [
    "df_home_agg = df_home_style.groupby(*group_cols).agg(*[avg(_).alias('avg_'+_) for _ in agg_cols])\n",
    "df_home_agg.printSchema()"
   ]
  },
  {
   "cell_type": "code",
   "execution_count": 83,
   "id": "13f5428a",
   "metadata": {
    "scrolled": true
   },
   "outputs": [
    {
     "name": "stdout",
     "output_type": "stream",
     "text": [
      "root\n",
      " |-- competition_competition_id: long (nullable = true)\n",
      " |-- competition_competition_name: string (nullable = true)\n",
      " |-- country_name: string (nullable = true)\n",
      " |-- competition_international: boolean (nullable = true)\n",
      " |-- team_id: long (nullable = true)\n",
      " |-- team_name: string (nullable = true)\n",
      " |-- avg_dribble_count: double (nullable = true)\n",
      " |-- avg_shot_count: double (nullable = true)\n",
      " |-- avg_total_offside_count: double (nullable = true)\n",
      " |-- avg_Attacking_avg_pass_distance: double (nullable = true)\n",
      " |-- avg_Attacking_sum_pass_distance: double (nullable = true)\n",
      " |-- avg_Attacking_pass_count: double (nullable = true)\n",
      " |-- avg_Forward_carry_count: double (nullable = true)\n",
      " |-- avg_Forward_avg_carry_distance: double (nullable = true)\n",
      " |-- avg_Forward_avg_attacking_carry_distance: double (nullable = true)\n",
      " |-- avg_Attacking_foul_count: double (nullable = true)\n",
      " |-- avg_Attacking_foul_share: double (nullable = true)\n",
      " |-- avg_goal_count: double (nullable = true)\n",
      " |-- avg_duel_count: double (nullable = true)\n",
      " |-- avg_block_count: double (nullable = true)\n",
      " |-- avg_clearance_count: double (nullable = true)\n",
      " |-- avg_shield_count: double (nullable = true)\n",
      " |-- avg_Defensive_avg_pass_distance: double (nullable = true)\n",
      " |-- avg_Defensive_sum_pass_distance: double (nullable = true)\n",
      " |-- avg_Defensive_pass_count: double (nullable = true)\n",
      " |-- avg_Backward_carry_count: double (nullable = true)\n",
      " |-- avg_Backward_avg_carry_distance: double (nullable = true)\n",
      " |-- avg_Backward_avg_attacking_carry_distance: double (nullable = true)\n",
      " |-- avg_Defensive_foul_count: double (nullable = true)\n",
      " |-- avg_Defensive_foul_share: double (nullable = true)\n",
      " |-- avg_ball_recovery_count: double (nullable = true)\n",
      " |-- avg_interception_count: double (nullable = true)\n",
      " |-- avg_Transition_avg_pass_distance: double (nullable = true)\n",
      " |-- avg_Transition_sum_pass_distance: double (nullable = true)\n",
      " |-- avg_Transition_pass_count: double (nullable = true)\n",
      " |-- avg_Transition_carry_count: double (nullable = true)\n",
      " |-- avg_Transition_avg_carry_distance: double (nullable = true)\n",
      " |-- avg_Transition_avg_attacking_carry_distance: double (nullable = true)\n",
      " |-- avg_Transition_foul_count: double (nullable = true)\n",
      " |-- avg_Transition_foul_share: double (nullable = true)\n",
      "\n"
     ]
    }
   ],
   "source": [
    "df_away_agg = df_away_style.groupby(*group_cols).agg(*[avg(_).alias('avg_'+_) for _ in agg_cols])\n",
    "df_away_agg.printSchema()"
   ]
  },
  {
   "cell_type": "code",
   "execution_count": 75,
   "id": "370f908d",
   "metadata": {},
   "outputs": [
    {
     "name": "stderr",
     "output_type": "stream",
     "text": [
      "                                                                                \r"
     ]
    },
    {
     "data": {
      "text/plain": [
       "(98, 98)"
      ]
     },
     "execution_count": 75,
     "metadata": {},
     "output_type": "execute_result"
    }
   ],
   "source": [
    "df_home_agg.count(), df_away_agg.count()"
   ]
  },
  {
   "cell_type": "markdown",
   "id": "f0c97149",
   "metadata": {},
   "source": [
    "## All analysis"
   ]
  },
  {
   "cell_type": "code",
   "execution_count": 86,
   "id": "a9fe0c48",
   "metadata": {
    "scrolled": true
   },
   "outputs": [
    {
     "name": "stdout",
     "output_type": "stream",
     "text": [
      "root\n",
      " |-- away_score: long (nullable = true)\n",
      " |-- away_team_away_team_gender: string (nullable = true)\n",
      " |-- away_team_away_team_group: string (nullable = true)\n",
      " |-- away_team_away_team_id: long (nullable = true)\n",
      " |-- away_team_away_team_name: string (nullable = true)\n",
      " |-- away_team_managers_country_id: long (nullable = true)\n",
      " |-- away_team_managers_country_name: string (nullable = true)\n",
      " |-- away_team_managers_name: string (nullable = true)\n",
      " |-- away_team_managers_dob: string (nullable = true)\n",
      " |-- away_team_managers_id: long (nullable = true)\n",
      " |-- away_team_managers_nickname: string (nullable = true)\n",
      " |-- competition_competition_id: long (nullable = true)\n",
      " |-- competition_competition_name: string (nullable = true)\n",
      " |-- competition_country_name: string (nullable = true)\n",
      " |-- competition_stage_id: long (nullable = true)\n",
      " |-- competition_stage_name: string (nullable = true)\n",
      " |-- home_score: long (nullable = true)\n",
      " |-- home_team_home_team_gender: string (nullable = true)\n",
      " |-- home_team_home_team_group: string (nullable = true)\n",
      " |-- home_team_home_team_id: long (nullable = true)\n",
      " |-- home_team_home_team_name: string (nullable = true)\n",
      " |-- home_team_managers_country_id: long (nullable = true)\n",
      " |-- home_team_managers_country_name: string (nullable = true)\n",
      " |-- home_team_managers_name: string (nullable = true)\n",
      " |-- home_team_managers_dob: string (nullable = true)\n",
      " |-- home_team_managers_id: long (nullable = true)\n",
      " |-- home_team_managers_nickname: string (nullable = true)\n",
      " |-- kick_off: string (nullable = true)\n",
      " |-- last_updated: string (nullable = true)\n",
      " |-- last_updated_360: string (nullable = true)\n",
      " |-- match_date: string (nullable = true)\n",
      " |-- match_id: long (nullable = true)\n",
      " |-- match_status: string (nullable = true)\n",
      " |-- match_status_360: string (nullable = true)\n",
      " |-- match_week: long (nullable = true)\n",
      " |-- referee_country_id: long (nullable = true)\n",
      " |-- referee_country_name: string (nullable = true)\n",
      " |-- referee_id: long (nullable = true)\n",
      " |-- referee_name: string (nullable = true)\n",
      " |-- season_season_id: long (nullable = true)\n",
      " |-- season_season_name: string (nullable = true)\n",
      " |-- stadium_country_id: long (nullable = true)\n",
      " |-- stadium_country_name: string (nullable = true)\n",
      " |-- stadium_id: long (nullable = true)\n",
      " |-- stadium_name: string (nullable = true)\n",
      " |-- competition_gender: string (nullable = true)\n",
      " |-- competition_id: long (nullable = true)\n",
      " |-- competition_international: boolean (nullable = true)\n",
      " |-- competition_name: string (nullable = true)\n",
      " |-- competition_youth: boolean (nullable = true)\n",
      " |-- country_name: string (nullable = true)\n",
      " |-- match_available: string (nullable = true)\n",
      " |-- match_available_360: string (nullable = true)\n",
      " |-- match_updated: string (nullable = true)\n",
      " |-- match_updated_360: string (nullable = true)\n",
      " |-- season_id: long (nullable = true)\n",
      " |-- season_name: string (nullable = true)\n",
      " |-- win_team_id: long (nullable = true)\n",
      " |-- lose_team_id: long (nullable = true)\n",
      " |-- if_draw: boolean (nullable = true)\n",
      " |-- match_id: long (nullable = true)\n",
      " |-- team_id: long (nullable = true)\n",
      " |-- team_name: string (nullable = true)\n",
      " |-- dribble_count: long (nullable = true)\n",
      " |-- shot_count: long (nullable = true)\n",
      " |-- goal_count: long (nullable = true)\n",
      " |-- total_offside_count: long (nullable = true)\n",
      " |-- Attacking_avg_pass_distance: double (nullable = true)\n",
      " |-- Attacking_sum_pass_distance: double (nullable = true)\n",
      " |-- Attacking_pass_count: long (nullable = true)\n",
      " |-- Forward_carry_count: long (nullable = true)\n",
      " |-- Forward_avg_carry_distance: double (nullable = true)\n",
      " |-- Forward_avg_attacking_carry_distance: double (nullable = true)\n",
      " |-- Attacking_foul_count: long (nullable = true)\n",
      " |-- Attacking_foul_share: double (nullable = true)\n",
      " |-- duel_count: long (nullable = true)\n",
      " |-- block_count: long (nullable = true)\n",
      " |-- clearance_count: long (nullable = true)\n",
      " |-- shield_count: long (nullable = true)\n",
      " |-- Defensive_avg_pass_distance: double (nullable = true)\n",
      " |-- Defensive_sum_pass_distance: double (nullable = true)\n",
      " |-- Defensive_pass_count: long (nullable = true)\n",
      " |-- Backward_carry_count: long (nullable = true)\n",
      " |-- Backward_avg_carry_distance: double (nullable = true)\n",
      " |-- Backward_avg_attacking_carry_distance: double (nullable = true)\n",
      " |-- Defensive_foul_count: long (nullable = true)\n",
      " |-- Defensive_foul_share: double (nullable = true)\n",
      " |-- ball_recovery_count: long (nullable = true)\n",
      " |-- interception_count: long (nullable = true)\n",
      " |-- Transition_avg_pass_distance: double (nullable = true)\n",
      " |-- Transition_sum_pass_distance: double (nullable = true)\n",
      " |-- Transition_pass_count: long (nullable = true)\n",
      " |-- Transition_carry_count: long (nullable = true)\n",
      " |-- Transition_avg_carry_distance: double (nullable = true)\n",
      " |-- Transition_avg_attacking_carry_distance: double (nullable = true)\n",
      " |-- Transition_foul_count: long (nullable = true)\n",
      " |-- Transition_foul_share: double (nullable = true)\n",
      "\n"
     ]
    }
   ],
   "source": [
    "df_all_analysis = df_home_style.union(df_away_style)\n",
    "df_all_analysis.printSchema()"
   ]
  },
  {
   "cell_type": "code",
   "execution_count": 87,
   "id": "0f8c0611",
   "metadata": {},
   "outputs": [
    {
     "name": "stdout",
     "output_type": "stream",
     "text": [
      "root\n",
      " |-- away_score: long (nullable = true)\n",
      " |-- away_team_away_team_gender: string (nullable = true)\n",
      " |-- away_team_away_team_group: string (nullable = true)\n",
      " |-- away_team_away_team_id: long (nullable = true)\n",
      " |-- away_team_away_team_name: string (nullable = true)\n",
      " |-- away_team_managers_country_id: long (nullable = true)\n",
      " |-- away_team_managers_country_name: string (nullable = true)\n",
      " |-- away_team_managers_name: string (nullable = true)\n",
      " |-- away_team_managers_dob: string (nullable = true)\n",
      " |-- away_team_managers_id: long (nullable = true)\n",
      " |-- away_team_managers_nickname: string (nullable = true)\n",
      " |-- competition_competition_id: long (nullable = true)\n",
      " |-- competition_competition_name: string (nullable = true)\n",
      " |-- competition_country_name: string (nullable = true)\n",
      " |-- competition_stage_id: long (nullable = true)\n",
      " |-- competition_stage_name: string (nullable = true)\n",
      " |-- home_score: long (nullable = true)\n",
      " |-- home_team_home_team_gender: string (nullable = true)\n",
      " |-- home_team_home_team_group: string (nullable = true)\n",
      " |-- home_team_home_team_id: long (nullable = true)\n",
      " |-- home_team_home_team_name: string (nullable = true)\n",
      " |-- home_team_managers_country_id: long (nullable = true)\n",
      " |-- home_team_managers_country_name: string (nullable = true)\n",
      " |-- home_team_managers_name: string (nullable = true)\n",
      " |-- home_team_managers_dob: string (nullable = true)\n",
      " |-- home_team_managers_id: long (nullable = true)\n",
      " |-- home_team_managers_nickname: string (nullable = true)\n",
      " |-- kick_off: string (nullable = true)\n",
      " |-- last_updated: string (nullable = true)\n",
      " |-- last_updated_360: string (nullable = true)\n",
      " |-- match_date: string (nullable = true)\n",
      " |-- match_id: long (nullable = true)\n",
      " |-- match_status: string (nullable = true)\n",
      " |-- match_status_360: string (nullable = true)\n",
      " |-- match_week: long (nullable = true)\n",
      " |-- referee_country_id: long (nullable = true)\n",
      " |-- referee_country_name: string (nullable = true)\n",
      " |-- referee_id: long (nullable = true)\n",
      " |-- referee_name: string (nullable = true)\n",
      " |-- season_season_id: long (nullable = true)\n",
      " |-- season_season_name: string (nullable = true)\n",
      " |-- stadium_country_id: long (nullable = true)\n",
      " |-- stadium_country_name: string (nullable = true)\n",
      " |-- stadium_id: long (nullable = true)\n",
      " |-- stadium_name: string (nullable = true)\n",
      " |-- competition_gender: string (nullable = true)\n",
      " |-- competition_id: long (nullable = true)\n",
      " |-- competition_international: boolean (nullable = true)\n",
      " |-- competition_name: string (nullable = true)\n",
      " |-- competition_youth: boolean (nullable = true)\n",
      " |-- country_name: string (nullable = true)\n",
      " |-- match_available: string (nullable = true)\n",
      " |-- match_available_360: string (nullable = true)\n",
      " |-- match_updated: string (nullable = true)\n",
      " |-- match_updated_360: string (nullable = true)\n",
      " |-- season_id: long (nullable = true)\n",
      " |-- season_name: string (nullable = true)\n",
      " |-- win_team_id: long (nullable = true)\n",
      " |-- lose_team_id: long (nullable = true)\n",
      " |-- if_draw: boolean (nullable = true)\n",
      " |-- match_id: long (nullable = true)\n",
      " |-- team_id: long (nullable = true)\n",
      " |-- team_name: string (nullable = true)\n",
      " |-- dribble_count: long (nullable = true)\n",
      " |-- shot_count: long (nullable = true)\n",
      " |-- goal_count: long (nullable = true)\n",
      " |-- total_offside_count: long (nullable = true)\n",
      " |-- Attacking_avg_pass_distance: double (nullable = true)\n",
      " |-- Attacking_sum_pass_distance: double (nullable = true)\n",
      " |-- Attacking_pass_count: long (nullable = true)\n",
      " |-- Forward_carry_count: long (nullable = true)\n",
      " |-- Forward_avg_carry_distance: double (nullable = true)\n",
      " |-- Forward_avg_attacking_carry_distance: double (nullable = true)\n",
      " |-- Attacking_foul_count: long (nullable = true)\n",
      " |-- Attacking_foul_share: double (nullable = true)\n",
      " |-- duel_count: long (nullable = true)\n",
      " |-- block_count: long (nullable = true)\n",
      " |-- clearance_count: long (nullable = true)\n",
      " |-- shield_count: long (nullable = true)\n",
      " |-- Defensive_avg_pass_distance: double (nullable = true)\n",
      " |-- Defensive_sum_pass_distance: double (nullable = true)\n",
      " |-- Defensive_pass_count: long (nullable = true)\n",
      " |-- Backward_carry_count: long (nullable = true)\n",
      " |-- Backward_avg_carry_distance: double (nullable = true)\n",
      " |-- Backward_avg_attacking_carry_distance: double (nullable = true)\n",
      " |-- Defensive_foul_count: long (nullable = true)\n",
      " |-- Defensive_foul_share: double (nullable = true)\n",
      " |-- ball_recovery_count: long (nullable = true)\n",
      " |-- interception_count: long (nullable = true)\n",
      " |-- Transition_avg_pass_distance: double (nullable = true)\n",
      " |-- Transition_sum_pass_distance: double (nullable = true)\n",
      " |-- Transition_pass_count: long (nullable = true)\n",
      " |-- Transition_carry_count: long (nullable = true)\n",
      " |-- Transition_avg_carry_distance: double (nullable = true)\n",
      " |-- Transition_avg_attacking_carry_distance: double (nullable = true)\n",
      " |-- Transition_foul_count: long (nullable = true)\n",
      " |-- Transition_foul_share: double (nullable = true)\n",
      "\n"
     ]
    }
   ],
   "source": [
    "df_all_analysis.printSchema()"
   ]
  },
  {
   "cell_type": "code",
   "execution_count": 88,
   "id": "65e9be04",
   "metadata": {},
   "outputs": [
    {
     "name": "stdout",
     "output_type": "stream",
     "text": [
      "Deleted /user/dc5415_nyu_edu/Project/Data/Analysis_Data/mathches_wTransition_style_homeaway.parquet\r\n"
     ]
    },
    {
     "name": "stderr",
     "output_type": "stream",
     "text": [
      "                                                                                \r"
     ]
    },
    {
     "name": "stdout",
     "output_type": "stream",
     "text": [
      "Found 4 items\r\n",
      "drwxr-xr-x   - dc5415_nyu_edu dc5415_nyu_edu          0 2023-12-10 01:49 /user/dc5415_nyu_edu/Project/Data/Analysis_Data/mathches_style_homeaway.parquet\r\n",
      "drwxr-xr-x   - dc5415_nyu_edu dc5415_nyu_edu          0 2023-12-11 00:18 /user/dc5415_nyu_edu/Project/Data/Analysis_Data/mathches_wTransition_style_homeaway.parquet\r\n",
      "drwxr-xr-x   - dc5415_nyu_edu dc5415_nyu_edu          0 2023-12-09 20:30 /user/dc5415_nyu_edu/Project/Data/Analysis_Data/style_data_all_mathches.parquet\r\n",
      "drwxr-xr-x   - dc5415_nyu_edu dc5415_nyu_edu          0 2023-12-11 00:15 /user/dc5415_nyu_edu/Project/Data/Analysis_Data/style_wTransition_data_all_mathches.parquet\r\n"
     ]
    }
   ],
   "source": [
    "filename = f\"{analysis_data_dir}mathches_wTransition_style_homeaway.parquet\"\n",
    "!hdfs dfs -rm -R $filename\n",
    "\n",
    "df_all_analysis.drop(df_style_analysis.match_id).write.parquet(filename)\n",
    "\n",
    "!hdfs dfs -ls $analysis_data_dir"
   ]
  },
  {
   "cell_type": "code",
   "execution_count": 86,
   "id": "b4cdcf13",
   "metadata": {
    "scrolled": true
   },
   "outputs": [],
   "source": [
    "# df_all_analysis = spark.read.parquet('/user/dc5415_nyu_edu/Project/Data/Analysis_Data/mathches_wTransition_style_homeaway.parquet')\n",
    "\n",
    "# df_all_analysis.printSchema()"
   ]
  },
  {
   "cell_type": "code",
   "execution_count": 8,
   "id": "5acbbc5c",
   "metadata": {
    "scrolled": true
   },
   "outputs": [
    {
     "name": "stdout",
     "output_type": "stream",
     "text": [
      "root\n",
      " |-- competition_competition_id: long (nullable = true)\n",
      " |-- competition_competition_name: string (nullable = true)\n",
      " |-- country_name: string (nullable = true)\n",
      " |-- competition_international: boolean (nullable = true)\n",
      " |-- team_id: long (nullable = true)\n",
      " |-- team_name: string (nullable = true)\n",
      " |-- avg_dribble_count: double (nullable = true)\n",
      " |-- avg_shot_count: double (nullable = true)\n",
      " |-- avg_total_offside_count: double (nullable = true)\n",
      " |-- avg_Attacking_avg_pass_distance: double (nullable = true)\n",
      " |-- avg_Attacking_sum_pass_distance: double (nullable = true)\n",
      " |-- avg_Attacking_pass_count: double (nullable = true)\n",
      " |-- avg_Forward_carry_count: double (nullable = true)\n",
      " |-- avg_Forward_avg_carry_distance: double (nullable = true)\n",
      " |-- avg_Forward_avg_attacking_carry_distance: double (nullable = true)\n",
      " |-- avg_Attacking_foul_count: double (nullable = true)\n",
      " |-- avg_Attacking_foul_share: double (nullable = true)\n",
      " |-- avg_goal_count: double (nullable = true)\n",
      " |-- avg_duel_count: double (nullable = true)\n",
      " |-- avg_block_count: double (nullable = true)\n",
      " |-- avg_clearance_count: double (nullable = true)\n",
      " |-- avg_shield_count: double (nullable = true)\n",
      " |-- avg_Defensive_avg_pass_distance: double (nullable = true)\n",
      " |-- avg_Defensive_sum_pass_distance: double (nullable = true)\n",
      " |-- avg_Defensive_pass_count: double (nullable = true)\n",
      " |-- avg_Backward_carry_count: double (nullable = true)\n",
      " |-- avg_Backward_avg_carry_distance: double (nullable = true)\n",
      " |-- avg_Backward_avg_attacking_carry_distance: double (nullable = true)\n",
      " |-- avg_Defensive_foul_count: double (nullable = true)\n",
      " |-- avg_Defensive_foul_share: double (nullable = true)\n",
      " |-- avg_ball_recovery_count: double (nullable = true)\n",
      " |-- avg_interception_count: double (nullable = true)\n",
      " |-- avg_Transition_avg_pass_distance: double (nullable = true)\n",
      " |-- avg_Transition_sum_pass_distance: double (nullable = true)\n",
      " |-- avg_Transition_pass_count: double (nullable = true)\n",
      " |-- avg_Transition_carry_count: double (nullable = true)\n",
      " |-- avg_Transition_avg_carry_distance: double (nullable = true)\n",
      " |-- avg_Transition_avg_attacking_carry_distance: double (nullable = true)\n",
      " |-- avg_Transition_foul_count: double (nullable = true)\n",
      " |-- avg_Transition_foul_share: double (nullable = true)\n",
      "\n"
     ]
    }
   ],
   "source": [
    "agg_cols = ['dribble_count','shot_count','total_offside_count','Attacking_avg_pass_distance',\n",
    " 'Attacking_sum_pass_distance','Attacking_pass_count','Forward_carry_count','Forward_avg_carry_distance','Forward_avg_attacking_carry_distance',\n",
    " 'Attacking_foul_count','Attacking_foul_share','goal_count','duel_count',\n",
    " 'block_count', 'clearance_count', 'shield_count', 'Defensive_avg_pass_distance', 'Defensive_sum_pass_distance',\n",
    " 'Defensive_pass_count','Backward_carry_count','Backward_avg_carry_distance','Backward_avg_attacking_carry_distance','Defensive_foul_count',\n",
    " 'Defensive_foul_share','ball_recovery_count','interception_count',\n",
    "'Transition_avg_pass_distance', 'Transition_sum_pass_distance', 'Transition_pass_count', 'Transition_carry_count', 'Transition_avg_carry_distance', \n",
    "'Transition_avg_attacking_carry_distance', 'Transition_foul_count', 'Transition_foul_share']\n",
    "\n",
    "group_cols = ['competition_competition_id','competition_competition_name','country_name','competition_international',\n",
    "             'team_id','team_name']\n",
    "\n",
    "df_homeaway_agg = df_all_analysis.groupby(*group_cols).agg(*[avg(_).alias('avg_'+_) for _ in agg_cols])\n",
    "df_homeaway_agg.printSchema()"
   ]
  },
  {
   "cell_type": "code",
   "execution_count": 9,
   "id": "adc50187",
   "metadata": {},
   "outputs": [
    {
     "name": "stderr",
     "output_type": "stream",
     "text": [
      "                                                                                \r"
     ]
    },
    {
     "data": {
      "text/plain": [
       "98"
      ]
     },
     "execution_count": 9,
     "metadata": {},
     "output_type": "execute_result"
    }
   ],
   "source": [
    "df_homeaway_agg.count()"
   ]
  },
  {
   "cell_type": "code",
   "execution_count": 10,
   "id": "494d7640",
   "metadata": {},
   "outputs": [
    {
     "name": "stderr",
     "output_type": "stream",
     "text": [
      "23/12/11 22:34:51 WARN org.apache.spark.sql.catalyst.util.package: Truncated the string representation of a plan since it was too large. This behavior can be adjusted by setting 'spark.sql.debug.maxToStringFields'.\n",
      "                                                                                \r"
     ]
    }
   ],
   "source": [
    "pd_homeaway_agg = df_homeaway_agg.toPandas()"
   ]
  },
  {
   "cell_type": "code",
   "execution_count": 11,
   "id": "d23cc438",
   "metadata": {},
   "outputs": [],
   "source": [
    "cluster_cols = ['avg_dribble_count', 'avg_shot_count', 'avg_total_offside_count',\n",
    "       'avg_Attacking_avg_pass_distance', 'avg_Attacking_sum_pass_distance',\n",
    "       'avg_Attacking_pass_count', 'avg_Forward_carry_count',\n",
    "       'avg_Forward_avg_carry_distance',\n",
    "       'avg_Forward_avg_attacking_carry_distance', 'avg_Attacking_foul_count',\n",
    "       'avg_Attacking_foul_share', 'avg_goal_count','avg_duel_count',\n",
    "       'avg_block_count', 'avg_clearance_count', 'avg_shield_count',\n",
    "       'avg_Defensive_avg_pass_distance', 'avg_Defensive_sum_pass_distance',\n",
    "       'avg_Defensive_pass_count', 'avg_Backward_carry_count',\n",
    "       'avg_Backward_avg_carry_distance',\n",
    "       'avg_Backward_avg_attacking_carry_distance', 'avg_Defensive_foul_count',\n",
    "       'avg_Defensive_foul_share', 'avg_ball_recovery_count',\n",
    "       'avg_interception_count','avg_Transition_avg_pass_distance',\n",
    "       'avg_Transition_sum_pass_distance', 'avg_Transition_pass_count',\n",
    "       'avg_Transition_carry_count', 'avg_Transition_avg_carry_distance',\n",
    "       'avg_Transition_avg_attacking_carry_distance',\n",
    "       'avg_Transition_foul_count', 'avg_Transition_foul_share']"
   ]
  },
  {
   "cell_type": "code",
   "execution_count": 12,
   "id": "31cdf357",
   "metadata": {},
   "outputs": [
    {
     "data": {
      "text/html": [
       "<div>\n",
       "<style scoped>\n",
       "    .dataframe tbody tr th:only-of-type {\n",
       "        vertical-align: middle;\n",
       "    }\n",
       "\n",
       "    .dataframe tbody tr th {\n",
       "        vertical-align: top;\n",
       "    }\n",
       "\n",
       "    .dataframe thead th {\n",
       "        text-align: right;\n",
       "    }\n",
       "</style>\n",
       "<table border=\"1\" class=\"dataframe\">\n",
       "  <thead>\n",
       "    <tr style=\"text-align: right;\">\n",
       "      <th></th>\n",
       "      <th>avg_dribble_count</th>\n",
       "      <th>avg_shot_count</th>\n",
       "      <th>avg_total_offside_count</th>\n",
       "      <th>avg_Attacking_avg_pass_distance</th>\n",
       "      <th>avg_Attacking_sum_pass_distance</th>\n",
       "      <th>avg_Attacking_pass_count</th>\n",
       "      <th>avg_Forward_carry_count</th>\n",
       "      <th>avg_Forward_avg_carry_distance</th>\n",
       "      <th>avg_Forward_avg_attacking_carry_distance</th>\n",
       "      <th>avg_Attacking_foul_count</th>\n",
       "      <th>...</th>\n",
       "      <th>avg_ball_recovery_count</th>\n",
       "      <th>avg_interception_count</th>\n",
       "      <th>avg_Transition_avg_pass_distance</th>\n",
       "      <th>avg_Transition_sum_pass_distance</th>\n",
       "      <th>avg_Transition_pass_count</th>\n",
       "      <th>avg_Transition_carry_count</th>\n",
       "      <th>avg_Transition_avg_carry_distance</th>\n",
       "      <th>avg_Transition_avg_attacking_carry_distance</th>\n",
       "      <th>avg_Transition_foul_count</th>\n",
       "      <th>avg_Transition_foul_share</th>\n",
       "    </tr>\n",
       "  </thead>\n",
       "  <tbody>\n",
       "    <tr>\n",
       "      <th>0</th>\n",
       "      <td>15.078947</td>\n",
       "      <td>12.447368</td>\n",
       "      <td>2.157895</td>\n",
       "      <td>21.301316</td>\n",
       "      <td>4881.388684</td>\n",
       "      <td>229.947368</td>\n",
       "      <td>208.815789</td>\n",
       "      <td>8.686856</td>\n",
       "      <td>8.686856</td>\n",
       "      <td>2.000000</td>\n",
       "      <td>...</td>\n",
       "      <td>57.447368</td>\n",
       "      <td>11.000000</td>\n",
       "      <td>55.180811</td>\n",
       "      <td>251.761351</td>\n",
       "      <td>5.054054</td>\n",
       "      <td>3.655172</td>\n",
       "      <td>15.583481</td>\n",
       "      <td>0.0</td>\n",
       "      <td>1.210526</td>\n",
       "      <td>0.064892</td>\n",
       "    </tr>\n",
       "    <tr>\n",
       "      <th>1</th>\n",
       "      <td>19.421053</td>\n",
       "      <td>17.263158</td>\n",
       "      <td>1.894737</td>\n",
       "      <td>21.136053</td>\n",
       "      <td>5634.753158</td>\n",
       "      <td>267.447368</td>\n",
       "      <td>234.736842</td>\n",
       "      <td>8.154029</td>\n",
       "      <td>8.154029</td>\n",
       "      <td>2.187500</td>\n",
       "      <td>...</td>\n",
       "      <td>55.894737</td>\n",
       "      <td>10.684211</td>\n",
       "      <td>48.977105</td>\n",
       "      <td>387.232105</td>\n",
       "      <td>8.105263</td>\n",
       "      <td>4.500000</td>\n",
       "      <td>11.089853</td>\n",
       "      <td>0.0</td>\n",
       "      <td>1.100000</td>\n",
       "      <td>0.084636</td>\n",
       "    </tr>\n",
       "    <tr>\n",
       "      <th>2</th>\n",
       "      <td>16.631579</td>\n",
       "      <td>12.868421</td>\n",
       "      <td>2.157895</td>\n",
       "      <td>18.757632</td>\n",
       "      <td>4894.133158</td>\n",
       "      <td>261.421053</td>\n",
       "      <td>227.026316</td>\n",
       "      <td>7.615926</td>\n",
       "      <td>7.615926</td>\n",
       "      <td>2.161290</td>\n",
       "      <td>...</td>\n",
       "      <td>53.921053</td>\n",
       "      <td>9.552632</td>\n",
       "      <td>43.711389</td>\n",
       "      <td>220.798611</td>\n",
       "      <td>5.638889</td>\n",
       "      <td>4.714286</td>\n",
       "      <td>13.601089</td>\n",
       "      <td>0.0</td>\n",
       "      <td>1.307692</td>\n",
       "      <td>0.060849</td>\n",
       "    </tr>\n",
       "    <tr>\n",
       "      <th>3</th>\n",
       "      <td>21.236842</td>\n",
       "      <td>15.342105</td>\n",
       "      <td>2.236842</td>\n",
       "      <td>19.543684</td>\n",
       "      <td>5643.393421</td>\n",
       "      <td>291.000000</td>\n",
       "      <td>260.894737</td>\n",
       "      <td>7.784795</td>\n",
       "      <td>7.784795</td>\n",
       "      <td>2.555556</td>\n",
       "      <td>...</td>\n",
       "      <td>54.394737</td>\n",
       "      <td>11.763158</td>\n",
       "      <td>58.162105</td>\n",
       "      <td>442.008947</td>\n",
       "      <td>8.210526</td>\n",
       "      <td>5.344828</td>\n",
       "      <td>9.684105</td>\n",
       "      <td>0.0</td>\n",
       "      <td>1.400000</td>\n",
       "      <td>0.079320</td>\n",
       "    </tr>\n",
       "    <tr>\n",
       "      <th>4</th>\n",
       "      <td>17.236842</td>\n",
       "      <td>12.236842</td>\n",
       "      <td>2.421053</td>\n",
       "      <td>22.631053</td>\n",
       "      <td>5190.148947</td>\n",
       "      <td>231.500000</td>\n",
       "      <td>190.368421</td>\n",
       "      <td>7.901088</td>\n",
       "      <td>7.901088</td>\n",
       "      <td>2.612903</td>\n",
       "      <td>...</td>\n",
       "      <td>53.868421</td>\n",
       "      <td>17.421053</td>\n",
       "      <td>55.030270</td>\n",
       "      <td>435.558649</td>\n",
       "      <td>8.243243</td>\n",
       "      <td>4.966667</td>\n",
       "      <td>9.076337</td>\n",
       "      <td>0.0</td>\n",
       "      <td>1.352941</td>\n",
       "      <td>0.081207</td>\n",
       "    </tr>\n",
       "  </tbody>\n",
       "</table>\n",
       "<p>5 rows × 34 columns</p>\n",
       "</div>"
      ],
      "text/plain": [
       "   avg_dribble_count  avg_shot_count  avg_total_offside_count  \\\n",
       "0          15.078947       12.447368                 2.157895   \n",
       "1          19.421053       17.263158                 1.894737   \n",
       "2          16.631579       12.868421                 2.157895   \n",
       "3          21.236842       15.342105                 2.236842   \n",
       "4          17.236842       12.236842                 2.421053   \n",
       "\n",
       "   avg_Attacking_avg_pass_distance  avg_Attacking_sum_pass_distance  \\\n",
       "0                        21.301316                      4881.388684   \n",
       "1                        21.136053                      5634.753158   \n",
       "2                        18.757632                      4894.133158   \n",
       "3                        19.543684                      5643.393421   \n",
       "4                        22.631053                      5190.148947   \n",
       "\n",
       "   avg_Attacking_pass_count  avg_Forward_carry_count  \\\n",
       "0                229.947368               208.815789   \n",
       "1                267.447368               234.736842   \n",
       "2                261.421053               227.026316   \n",
       "3                291.000000               260.894737   \n",
       "4                231.500000               190.368421   \n",
       "\n",
       "   avg_Forward_avg_carry_distance  avg_Forward_avg_attacking_carry_distance  \\\n",
       "0                        8.686856                                  8.686856   \n",
       "1                        8.154029                                  8.154029   \n",
       "2                        7.615926                                  7.615926   \n",
       "3                        7.784795                                  7.784795   \n",
       "4                        7.901088                                  7.901088   \n",
       "\n",
       "   avg_Attacking_foul_count  ...  avg_ball_recovery_count  \\\n",
       "0                  2.000000  ...                57.447368   \n",
       "1                  2.187500  ...                55.894737   \n",
       "2                  2.161290  ...                53.921053   \n",
       "3                  2.555556  ...                54.394737   \n",
       "4                  2.612903  ...                53.868421   \n",
       "\n",
       "   avg_interception_count  avg_Transition_avg_pass_distance  \\\n",
       "0               11.000000                         55.180811   \n",
       "1               10.684211                         48.977105   \n",
       "2                9.552632                         43.711389   \n",
       "3               11.763158                         58.162105   \n",
       "4               17.421053                         55.030270   \n",
       "\n",
       "   avg_Transition_sum_pass_distance  avg_Transition_pass_count  \\\n",
       "0                        251.761351                   5.054054   \n",
       "1                        387.232105                   8.105263   \n",
       "2                        220.798611                   5.638889   \n",
       "3                        442.008947                   8.210526   \n",
       "4                        435.558649                   8.243243   \n",
       "\n",
       "   avg_Transition_carry_count  avg_Transition_avg_carry_distance  \\\n",
       "0                    3.655172                          15.583481   \n",
       "1                    4.500000                          11.089853   \n",
       "2                    4.714286                          13.601089   \n",
       "3                    5.344828                           9.684105   \n",
       "4                    4.966667                           9.076337   \n",
       "\n",
       "   avg_Transition_avg_attacking_carry_distance  avg_Transition_foul_count  \\\n",
       "0                                          0.0                   1.210526   \n",
       "1                                          0.0                   1.100000   \n",
       "2                                          0.0                   1.307692   \n",
       "3                                          0.0                   1.400000   \n",
       "4                                          0.0                   1.352941   \n",
       "\n",
       "   avg_Transition_foul_share  \n",
       "0                   0.064892  \n",
       "1                   0.084636  \n",
       "2                   0.060849  \n",
       "3                   0.079320  \n",
       "4                   0.081207  \n",
       "\n",
       "[5 rows x 34 columns]"
      ]
     },
     "execution_count": 12,
     "metadata": {},
     "output_type": "execute_result"
    }
   ],
   "source": [
    "pd_homeaway_agg[cluster_cols].head()"
   ]
  },
  {
   "cell_type": "markdown",
   "id": "1ba6175d",
   "metadata": {},
   "source": [
    "## Radar plot"
   ]
  },
  {
   "cell_type": "code",
   "execution_count": 13,
   "id": "d9e0638b",
   "metadata": {},
   "outputs": [
    {
     "data": {
      "text/plain": [
       "Index(['competition_competition_id', 'competition_competition_name',\n",
       "       'country_name', 'competition_international', 'team_id', 'team_name',\n",
       "       'avg_dribble_count', 'avg_shot_count', 'avg_total_offside_count',\n",
       "       'avg_Attacking_avg_pass_distance', 'avg_Attacking_sum_pass_distance',\n",
       "       'avg_Attacking_pass_count', 'avg_Forward_carry_count',\n",
       "       'avg_Forward_avg_carry_distance',\n",
       "       'avg_Forward_avg_attacking_carry_distance', 'avg_Attacking_foul_count',\n",
       "       'avg_Attacking_foul_share', 'avg_goal_count', 'avg_duel_count',\n",
       "       'avg_block_count', 'avg_clearance_count', 'avg_shield_count',\n",
       "       'avg_Defensive_avg_pass_distance', 'avg_Defensive_sum_pass_distance',\n",
       "       'avg_Defensive_pass_count', 'avg_Backward_carry_count',\n",
       "       'avg_Backward_avg_carry_distance',\n",
       "       'avg_Backward_avg_attacking_carry_distance', 'avg_Defensive_foul_count',\n",
       "       'avg_Defensive_foul_share', 'avg_ball_recovery_count',\n",
       "       'avg_interception_count', 'avg_Transition_avg_pass_distance',\n",
       "       'avg_Transition_sum_pass_distance', 'avg_Transition_pass_count',\n",
       "       'avg_Transition_carry_count', 'avg_Transition_avg_carry_distance',\n",
       "       'avg_Transition_avg_attacking_carry_distance',\n",
       "       'avg_Transition_foul_count', 'avg_Transition_foul_share'],\n",
       "      dtype='object')"
      ]
     },
     "execution_count": 13,
     "metadata": {},
     "output_type": "execute_result"
    }
   ],
   "source": [
    "pd_homeaway_agg.columns"
   ]
  },
  {
   "cell_type": "code",
   "execution_count": 14,
   "id": "c14f1a3c",
   "metadata": {},
   "outputs": [],
   "source": [
    "attack_cols = ['avg_Attacking_avg_pass_distance',\n",
    "       'avg_Attacking_pass_count', 'avg_Forward_carry_count',\n",
    "       'avg_Forward_avg_carry_distance',\n",
    "       'avg_Forward_avg_attacking_carry_distance', 'avg_Attacking_foul_count',\n",
    "       'avg_Attacking_foul_share','avg_goal_count','avg_total_offside_count',\n",
    "              ]\n",
    "\n",
    "defense_cols = ['avg_duel_count',\n",
    "       'avg_block_count', 'avg_clearance_count', 'avg_shield_count',\n",
    "       'avg_Defensive_avg_pass_distance',\n",
    "       'avg_Defensive_pass_count', 'avg_Backward_carry_count',\n",
    "       'avg_Backward_avg_carry_distance',\n",
    "       'avg_Backward_avg_attacking_carry_distance', 'avg_Defensive_foul_count',\n",
    "       'avg_Defensive_foul_share']\n",
    "\n",
    "transition_cols = ['avg_ball_recovery_count',\n",
    "       'avg_interception_count','avg_Transition_avg_pass_distance',\n",
    "       'avg_Transition_sum_pass_distance', 'avg_Transition_pass_count',\n",
    "       'avg_Transition_carry_count', 'avg_Transition_avg_carry_distance',\n",
    "       'avg_Transition_avg_attacking_carry_distance',\n",
    "       'avg_Transition_foul_count', 'avg_Transition_foul_share']"
   ]
  },
  {
   "cell_type": "code",
   "execution_count": 15,
   "id": "b0cabe93",
   "metadata": {},
   "outputs": [
    {
     "data": {
      "text/html": [
       "<div>\n",
       "<style scoped>\n",
       "    .dataframe tbody tr th:only-of-type {\n",
       "        vertical-align: middle;\n",
       "    }\n",
       "\n",
       "    .dataframe tbody tr th {\n",
       "        vertical-align: top;\n",
       "    }\n",
       "\n",
       "    .dataframe thead th {\n",
       "        text-align: right;\n",
       "    }\n",
       "</style>\n",
       "<table border=\"1\" class=\"dataframe\">\n",
       "  <thead>\n",
       "    <tr style=\"text-align: right;\">\n",
       "      <th></th>\n",
       "      <th>avg_dribble_count</th>\n",
       "      <th>avg_shot_count</th>\n",
       "      <th>avg_total_offside_count</th>\n",
       "      <th>avg_Attacking_avg_pass_distance</th>\n",
       "      <th>avg_Attacking_sum_pass_distance</th>\n",
       "      <th>avg_Attacking_pass_count</th>\n",
       "      <th>avg_Forward_carry_count</th>\n",
       "      <th>avg_Forward_avg_carry_distance</th>\n",
       "      <th>avg_Forward_avg_attacking_carry_distance</th>\n",
       "      <th>avg_Attacking_foul_count</th>\n",
       "      <th>...</th>\n",
       "      <th>avg_ball_recovery_count</th>\n",
       "      <th>avg_interception_count</th>\n",
       "      <th>avg_Transition_avg_pass_distance</th>\n",
       "      <th>avg_Transition_sum_pass_distance</th>\n",
       "      <th>avg_Transition_pass_count</th>\n",
       "      <th>avg_Transition_carry_count</th>\n",
       "      <th>avg_Transition_avg_carry_distance</th>\n",
       "      <th>avg_Transition_avg_attacking_carry_distance</th>\n",
       "      <th>avg_Transition_foul_count</th>\n",
       "      <th>avg_Transition_foul_share</th>\n",
       "    </tr>\n",
       "    <tr>\n",
       "      <th>competition_competition_name</th>\n",
       "      <th></th>\n",
       "      <th></th>\n",
       "      <th></th>\n",
       "      <th></th>\n",
       "      <th></th>\n",
       "      <th></th>\n",
       "      <th></th>\n",
       "      <th></th>\n",
       "      <th></th>\n",
       "      <th></th>\n",
       "      <th></th>\n",
       "      <th></th>\n",
       "      <th></th>\n",
       "      <th></th>\n",
       "      <th></th>\n",
       "      <th></th>\n",
       "      <th></th>\n",
       "      <th></th>\n",
       "      <th></th>\n",
       "      <th></th>\n",
       "      <th></th>\n",
       "    </tr>\n",
       "  </thead>\n",
       "  <tbody>\n",
       "    <tr>\n",
       "      <th>1. Bundesliga</th>\n",
       "      <td>14.787582</td>\n",
       "      <td>12.795752</td>\n",
       "      <td>2.464052</td>\n",
       "      <td>22.304641</td>\n",
       "      <td>5127.209330</td>\n",
       "      <td>234.629085</td>\n",
       "      <td>201.044118</td>\n",
       "      <td>7.867876</td>\n",
       "      <td>7.867876</td>\n",
       "      <td>1.978517</td>\n",
       "      <td>...</td>\n",
       "      <td>51.895425</td>\n",
       "      <td>9.769608</td>\n",
       "      <td>50.770566</td>\n",
       "      <td>386.433976</td>\n",
       "      <td>7.670558</td>\n",
       "      <td>4.590351</td>\n",
       "      <td>11.402043</td>\n",
       "      <td>0.0</td>\n",
       "      <td>1.277097</td>\n",
       "      <td>0.081768</td>\n",
       "    </tr>\n",
       "    <tr>\n",
       "      <th>La Liga</th>\n",
       "      <td>19.144737</td>\n",
       "      <td>12.077738</td>\n",
       "      <td>2.453947</td>\n",
       "      <td>21.875724</td>\n",
       "      <td>5032.929066</td>\n",
       "      <td>233.255263</td>\n",
       "      <td>199.500000</td>\n",
       "      <td>8.079319</td>\n",
       "      <td>8.079319</td>\n",
       "      <td>2.564715</td>\n",
       "      <td>...</td>\n",
       "      <td>50.676316</td>\n",
       "      <td>16.281579</td>\n",
       "      <td>53.010088</td>\n",
       "      <td>342.257165</td>\n",
       "      <td>6.686365</td>\n",
       "      <td>4.556067</td>\n",
       "      <td>11.722680</td>\n",
       "      <td>0.0</td>\n",
       "      <td>1.277139</td>\n",
       "      <td>0.083582</td>\n",
       "    </tr>\n",
       "    <tr>\n",
       "      <th>Ligue 1</th>\n",
       "      <td>16.366572</td>\n",
       "      <td>11.691465</td>\n",
       "      <td>2.148542</td>\n",
       "      <td>21.487044</td>\n",
       "      <td>5134.092195</td>\n",
       "      <td>242.553663</td>\n",
       "      <td>212.935562</td>\n",
       "      <td>8.107111</td>\n",
       "      <td>8.107111</td>\n",
       "      <td>1.891390</td>\n",
       "      <td>...</td>\n",
       "      <td>55.543314</td>\n",
       "      <td>11.318706</td>\n",
       "      <td>51.797174</td>\n",
       "      <td>325.163723</td>\n",
       "      <td>6.710862</td>\n",
       "      <td>4.587346</td>\n",
       "      <td>12.147248</td>\n",
       "      <td>0.0</td>\n",
       "      <td>1.267498</td>\n",
       "      <td>0.088481</td>\n",
       "    </tr>\n",
       "    <tr>\n",
       "      <th>Premier League</th>\n",
       "      <td>18.053947</td>\n",
       "      <td>13.036842</td>\n",
       "      <td>1.960526</td>\n",
       "      <td>21.767250</td>\n",
       "      <td>5058.721421</td>\n",
       "      <td>235.488158</td>\n",
       "      <td>199.605263</td>\n",
       "      <td>8.322711</td>\n",
       "      <td>8.322711</td>\n",
       "      <td>2.023403</td>\n",
       "      <td>...</td>\n",
       "      <td>53.872368</td>\n",
       "      <td>11.736842</td>\n",
       "      <td>57.480839</td>\n",
       "      <td>478.881929</td>\n",
       "      <td>8.495306</td>\n",
       "      <td>4.744494</td>\n",
       "      <td>12.291338</td>\n",
       "      <td>0.0</td>\n",
       "      <td>1.216975</td>\n",
       "      <td>0.093948</td>\n",
       "    </tr>\n",
       "    <tr>\n",
       "      <th>Serie A</th>\n",
       "      <td>15.388158</td>\n",
       "      <td>13.155263</td>\n",
       "      <td>2.372368</td>\n",
       "      <td>21.321895</td>\n",
       "      <td>5041.031566</td>\n",
       "      <td>240.246053</td>\n",
       "      <td>207.785526</td>\n",
       "      <td>8.223009</td>\n",
       "      <td>8.223009</td>\n",
       "      <td>1.921304</td>\n",
       "      <td>...</td>\n",
       "      <td>54.384211</td>\n",
       "      <td>10.198684</td>\n",
       "      <td>46.407890</td>\n",
       "      <td>254.303492</td>\n",
       "      <td>5.806467</td>\n",
       "      <td>4.536053</td>\n",
       "      <td>13.862368</td>\n",
       "      <td>0.0</td>\n",
       "      <td>1.322815</td>\n",
       "      <td>0.084044</td>\n",
       "    </tr>\n",
       "  </tbody>\n",
       "</table>\n",
       "<p>5 rows × 34 columns</p>\n",
       "</div>"
      ],
      "text/plain": [
       "                              avg_dribble_count  avg_shot_count  \\\n",
       "competition_competition_name                                      \n",
       "1. Bundesliga                         14.787582       12.795752   \n",
       "La Liga                               19.144737       12.077738   \n",
       "Ligue 1                               16.366572       11.691465   \n",
       "Premier League                        18.053947       13.036842   \n",
       "Serie A                               15.388158       13.155263   \n",
       "\n",
       "                              avg_total_offside_count  \\\n",
       "competition_competition_name                            \n",
       "1. Bundesliga                                2.464052   \n",
       "La Liga                                      2.453947   \n",
       "Ligue 1                                      2.148542   \n",
       "Premier League                               1.960526   \n",
       "Serie A                                      2.372368   \n",
       "\n",
       "                              avg_Attacking_avg_pass_distance  \\\n",
       "competition_competition_name                                    \n",
       "1. Bundesliga                                       22.304641   \n",
       "La Liga                                             21.875724   \n",
       "Ligue 1                                             21.487044   \n",
       "Premier League                                      21.767250   \n",
       "Serie A                                             21.321895   \n",
       "\n",
       "                              avg_Attacking_sum_pass_distance  \\\n",
       "competition_competition_name                                    \n",
       "1. Bundesliga                                     5127.209330   \n",
       "La Liga                                           5032.929066   \n",
       "Ligue 1                                           5134.092195   \n",
       "Premier League                                    5058.721421   \n",
       "Serie A                                           5041.031566   \n",
       "\n",
       "                              avg_Attacking_pass_count  \\\n",
       "competition_competition_name                             \n",
       "1. Bundesliga                               234.629085   \n",
       "La Liga                                     233.255263   \n",
       "Ligue 1                                     242.553663   \n",
       "Premier League                              235.488158   \n",
       "Serie A                                     240.246053   \n",
       "\n",
       "                              avg_Forward_carry_count  \\\n",
       "competition_competition_name                            \n",
       "1. Bundesliga                              201.044118   \n",
       "La Liga                                    199.500000   \n",
       "Ligue 1                                    212.935562   \n",
       "Premier League                             199.605263   \n",
       "Serie A                                    207.785526   \n",
       "\n",
       "                              avg_Forward_avg_carry_distance  \\\n",
       "competition_competition_name                                   \n",
       "1. Bundesliga                                       7.867876   \n",
       "La Liga                                             8.079319   \n",
       "Ligue 1                                             8.107111   \n",
       "Premier League                                      8.322711   \n",
       "Serie A                                             8.223009   \n",
       "\n",
       "                              avg_Forward_avg_attacking_carry_distance  \\\n",
       "competition_competition_name                                             \n",
       "1. Bundesliga                                                 7.867876   \n",
       "La Liga                                                       8.079319   \n",
       "Ligue 1                                                       8.107111   \n",
       "Premier League                                                8.322711   \n",
       "Serie A                                                       8.223009   \n",
       "\n",
       "                              avg_Attacking_foul_count  ...  \\\n",
       "competition_competition_name                            ...   \n",
       "1. Bundesliga                                 1.978517  ...   \n",
       "La Liga                                       2.564715  ...   \n",
       "Ligue 1                                       1.891390  ...   \n",
       "Premier League                                2.023403  ...   \n",
       "Serie A                                       1.921304  ...   \n",
       "\n",
       "                              avg_ball_recovery_count  avg_interception_count  \\\n",
       "competition_competition_name                                                    \n",
       "1. Bundesliga                               51.895425                9.769608   \n",
       "La Liga                                     50.676316               16.281579   \n",
       "Ligue 1                                     55.543314               11.318706   \n",
       "Premier League                              53.872368               11.736842   \n",
       "Serie A                                     54.384211               10.198684   \n",
       "\n",
       "                              avg_Transition_avg_pass_distance  \\\n",
       "competition_competition_name                                     \n",
       "1. Bundesliga                                        50.770566   \n",
       "La Liga                                              53.010088   \n",
       "Ligue 1                                              51.797174   \n",
       "Premier League                                       57.480839   \n",
       "Serie A                                              46.407890   \n",
       "\n",
       "                              avg_Transition_sum_pass_distance  \\\n",
       "competition_competition_name                                     \n",
       "1. Bundesliga                                       386.433976   \n",
       "La Liga                                             342.257165   \n",
       "Ligue 1                                             325.163723   \n",
       "Premier League                                      478.881929   \n",
       "Serie A                                             254.303492   \n",
       "\n",
       "                              avg_Transition_pass_count  \\\n",
       "competition_competition_name                              \n",
       "1. Bundesliga                                  7.670558   \n",
       "La Liga                                        6.686365   \n",
       "Ligue 1                                        6.710862   \n",
       "Premier League                                 8.495306   \n",
       "Serie A                                        5.806467   \n",
       "\n",
       "                              avg_Transition_carry_count  \\\n",
       "competition_competition_name                               \n",
       "1. Bundesliga                                   4.590351   \n",
       "La Liga                                         4.556067   \n",
       "Ligue 1                                         4.587346   \n",
       "Premier League                                  4.744494   \n",
       "Serie A                                         4.536053   \n",
       "\n",
       "                              avg_Transition_avg_carry_distance  \\\n",
       "competition_competition_name                                      \n",
       "1. Bundesliga                                         11.402043   \n",
       "La Liga                                               11.722680   \n",
       "Ligue 1                                               12.147248   \n",
       "Premier League                                        12.291338   \n",
       "Serie A                                               13.862368   \n",
       "\n",
       "                              avg_Transition_avg_attacking_carry_distance  \\\n",
       "competition_competition_name                                                \n",
       "1. Bundesliga                                                         0.0   \n",
       "La Liga                                                               0.0   \n",
       "Ligue 1                                                               0.0   \n",
       "Premier League                                                        0.0   \n",
       "Serie A                                                               0.0   \n",
       "\n",
       "                              avg_Transition_foul_count  \\\n",
       "competition_competition_name                              \n",
       "1. Bundesliga                                  1.277097   \n",
       "La Liga                                        1.277139   \n",
       "Ligue 1                                        1.267498   \n",
       "Premier League                                 1.216975   \n",
       "Serie A                                        1.322815   \n",
       "\n",
       "                              avg_Transition_foul_share  \n",
       "competition_competition_name                             \n",
       "1. Bundesliga                                  0.081768  \n",
       "La Liga                                        0.083582  \n",
       "Ligue 1                                        0.088481  \n",
       "Premier League                                 0.093948  \n",
       "Serie A                                        0.084044  \n",
       "\n",
       "[5 rows x 34 columns]"
      ]
     },
     "execution_count": 15,
     "metadata": {},
     "output_type": "execute_result"
    }
   ],
   "source": [
    "pd_homeaway_agg.groupby('competition_competition_name').agg({_:'mean' for _ in cluster_cols})"
   ]
  },
  {
   "cell_type": "code",
   "execution_count": 16,
   "id": "c051fbb4",
   "metadata": {},
   "outputs": [
    {
     "data": {
      "text/html": [
       "<div>\n",
       "<style scoped>\n",
       "    .dataframe tbody tr th:only-of-type {\n",
       "        vertical-align: middle;\n",
       "    }\n",
       "\n",
       "    .dataframe tbody tr th {\n",
       "        vertical-align: top;\n",
       "    }\n",
       "\n",
       "    .dataframe thead th {\n",
       "        text-align: right;\n",
       "    }\n",
       "</style>\n",
       "<table border=\"1\" class=\"dataframe\">\n",
       "  <thead>\n",
       "    <tr style=\"text-align: right;\">\n",
       "      <th></th>\n",
       "      <th>competition_competition_name</th>\n",
       "      <th>avg_dribble_count</th>\n",
       "      <th>avg_shot_count</th>\n",
       "      <th>avg_total_offside_count</th>\n",
       "      <th>avg_Attacking_avg_pass_distance</th>\n",
       "      <th>avg_Attacking_sum_pass_distance</th>\n",
       "      <th>avg_Attacking_pass_count</th>\n",
       "      <th>avg_Forward_carry_count</th>\n",
       "      <th>avg_Forward_avg_carry_distance</th>\n",
       "      <th>avg_Forward_avg_attacking_carry_distance</th>\n",
       "      <th>...</th>\n",
       "      <th>avg_ball_recovery_count</th>\n",
       "      <th>avg_interception_count</th>\n",
       "      <th>avg_Transition_avg_pass_distance</th>\n",
       "      <th>avg_Transition_sum_pass_distance</th>\n",
       "      <th>avg_Transition_pass_count</th>\n",
       "      <th>avg_Transition_carry_count</th>\n",
       "      <th>avg_Transition_avg_carry_distance</th>\n",
       "      <th>avg_Transition_avg_attacking_carry_distance</th>\n",
       "      <th>avg_Transition_foul_count</th>\n",
       "      <th>avg_Transition_foul_share</th>\n",
       "    </tr>\n",
       "  </thead>\n",
       "  <tbody>\n",
       "    <tr>\n",
       "      <th>0</th>\n",
       "      <td>1. Bundesliga</td>\n",
       "      <td>14.787582</td>\n",
       "      <td>12.795752</td>\n",
       "      <td>2.464052</td>\n",
       "      <td>22.304641</td>\n",
       "      <td>5127.209330</td>\n",
       "      <td>234.629085</td>\n",
       "      <td>201.044118</td>\n",
       "      <td>7.867876</td>\n",
       "      <td>7.867876</td>\n",
       "      <td>...</td>\n",
       "      <td>51.895425</td>\n",
       "      <td>9.769608</td>\n",
       "      <td>50.770566</td>\n",
       "      <td>386.433976</td>\n",
       "      <td>7.670558</td>\n",
       "      <td>4.590351</td>\n",
       "      <td>11.402043</td>\n",
       "      <td>0.0</td>\n",
       "      <td>1.277097</td>\n",
       "      <td>0.081768</td>\n",
       "    </tr>\n",
       "    <tr>\n",
       "      <th>1</th>\n",
       "      <td>La Liga</td>\n",
       "      <td>19.144737</td>\n",
       "      <td>12.077738</td>\n",
       "      <td>2.453947</td>\n",
       "      <td>21.875724</td>\n",
       "      <td>5032.929066</td>\n",
       "      <td>233.255263</td>\n",
       "      <td>199.500000</td>\n",
       "      <td>8.079319</td>\n",
       "      <td>8.079319</td>\n",
       "      <td>...</td>\n",
       "      <td>50.676316</td>\n",
       "      <td>16.281579</td>\n",
       "      <td>53.010088</td>\n",
       "      <td>342.257165</td>\n",
       "      <td>6.686365</td>\n",
       "      <td>4.556067</td>\n",
       "      <td>11.722680</td>\n",
       "      <td>0.0</td>\n",
       "      <td>1.277139</td>\n",
       "      <td>0.083582</td>\n",
       "    </tr>\n",
       "    <tr>\n",
       "      <th>2</th>\n",
       "      <td>Ligue 1</td>\n",
       "      <td>16.366572</td>\n",
       "      <td>11.691465</td>\n",
       "      <td>2.148542</td>\n",
       "      <td>21.487044</td>\n",
       "      <td>5134.092195</td>\n",
       "      <td>242.553663</td>\n",
       "      <td>212.935562</td>\n",
       "      <td>8.107111</td>\n",
       "      <td>8.107111</td>\n",
       "      <td>...</td>\n",
       "      <td>55.543314</td>\n",
       "      <td>11.318706</td>\n",
       "      <td>51.797174</td>\n",
       "      <td>325.163723</td>\n",
       "      <td>6.710862</td>\n",
       "      <td>4.587346</td>\n",
       "      <td>12.147248</td>\n",
       "      <td>0.0</td>\n",
       "      <td>1.267498</td>\n",
       "      <td>0.088481</td>\n",
       "    </tr>\n",
       "    <tr>\n",
       "      <th>3</th>\n",
       "      <td>Premier League</td>\n",
       "      <td>18.053947</td>\n",
       "      <td>13.036842</td>\n",
       "      <td>1.960526</td>\n",
       "      <td>21.767250</td>\n",
       "      <td>5058.721421</td>\n",
       "      <td>235.488158</td>\n",
       "      <td>199.605263</td>\n",
       "      <td>8.322711</td>\n",
       "      <td>8.322711</td>\n",
       "      <td>...</td>\n",
       "      <td>53.872368</td>\n",
       "      <td>11.736842</td>\n",
       "      <td>57.480839</td>\n",
       "      <td>478.881929</td>\n",
       "      <td>8.495306</td>\n",
       "      <td>4.744494</td>\n",
       "      <td>12.291338</td>\n",
       "      <td>0.0</td>\n",
       "      <td>1.216975</td>\n",
       "      <td>0.093948</td>\n",
       "    </tr>\n",
       "    <tr>\n",
       "      <th>4</th>\n",
       "      <td>Serie A</td>\n",
       "      <td>15.388158</td>\n",
       "      <td>13.155263</td>\n",
       "      <td>2.372368</td>\n",
       "      <td>21.321895</td>\n",
       "      <td>5041.031566</td>\n",
       "      <td>240.246053</td>\n",
       "      <td>207.785526</td>\n",
       "      <td>8.223009</td>\n",
       "      <td>8.223009</td>\n",
       "      <td>...</td>\n",
       "      <td>54.384211</td>\n",
       "      <td>10.198684</td>\n",
       "      <td>46.407890</td>\n",
       "      <td>254.303492</td>\n",
       "      <td>5.806467</td>\n",
       "      <td>4.536053</td>\n",
       "      <td>13.862368</td>\n",
       "      <td>0.0</td>\n",
       "      <td>1.322815</td>\n",
       "      <td>0.084044</td>\n",
       "    </tr>\n",
       "  </tbody>\n",
       "</table>\n",
       "<p>5 rows × 35 columns</p>\n",
       "</div>"
      ],
      "text/plain": [
       "  competition_competition_name  avg_dribble_count  avg_shot_count  \\\n",
       "0                1. Bundesliga          14.787582       12.795752   \n",
       "1                      La Liga          19.144737       12.077738   \n",
       "2                      Ligue 1          16.366572       11.691465   \n",
       "3               Premier League          18.053947       13.036842   \n",
       "4                      Serie A          15.388158       13.155263   \n",
       "\n",
       "   avg_total_offside_count  avg_Attacking_avg_pass_distance  \\\n",
       "0                 2.464052                        22.304641   \n",
       "1                 2.453947                        21.875724   \n",
       "2                 2.148542                        21.487044   \n",
       "3                 1.960526                        21.767250   \n",
       "4                 2.372368                        21.321895   \n",
       "\n",
       "   avg_Attacking_sum_pass_distance  avg_Attacking_pass_count  \\\n",
       "0                      5127.209330                234.629085   \n",
       "1                      5032.929066                233.255263   \n",
       "2                      5134.092195                242.553663   \n",
       "3                      5058.721421                235.488158   \n",
       "4                      5041.031566                240.246053   \n",
       "\n",
       "   avg_Forward_carry_count  avg_Forward_avg_carry_distance  \\\n",
       "0               201.044118                        7.867876   \n",
       "1               199.500000                        8.079319   \n",
       "2               212.935562                        8.107111   \n",
       "3               199.605263                        8.322711   \n",
       "4               207.785526                        8.223009   \n",
       "\n",
       "   avg_Forward_avg_attacking_carry_distance  ...  avg_ball_recovery_count  \\\n",
       "0                                  7.867876  ...                51.895425   \n",
       "1                                  8.079319  ...                50.676316   \n",
       "2                                  8.107111  ...                55.543314   \n",
       "3                                  8.322711  ...                53.872368   \n",
       "4                                  8.223009  ...                54.384211   \n",
       "\n",
       "   avg_interception_count  avg_Transition_avg_pass_distance  \\\n",
       "0                9.769608                         50.770566   \n",
       "1               16.281579                         53.010088   \n",
       "2               11.318706                         51.797174   \n",
       "3               11.736842                         57.480839   \n",
       "4               10.198684                         46.407890   \n",
       "\n",
       "   avg_Transition_sum_pass_distance  avg_Transition_pass_count  \\\n",
       "0                        386.433976                   7.670558   \n",
       "1                        342.257165                   6.686365   \n",
       "2                        325.163723                   6.710862   \n",
       "3                        478.881929                   8.495306   \n",
       "4                        254.303492                   5.806467   \n",
       "\n",
       "   avg_Transition_carry_count  avg_Transition_avg_carry_distance  \\\n",
       "0                    4.590351                          11.402043   \n",
       "1                    4.556067                          11.722680   \n",
       "2                    4.587346                          12.147248   \n",
       "3                    4.744494                          12.291338   \n",
       "4                    4.536053                          13.862368   \n",
       "\n",
       "   avg_Transition_avg_attacking_carry_distance  avg_Transition_foul_count  \\\n",
       "0                                          0.0                   1.277097   \n",
       "1                                          0.0                   1.277139   \n",
       "2                                          0.0                   1.267498   \n",
       "3                                          0.0                   1.216975   \n",
       "4                                          0.0                   1.322815   \n",
       "\n",
       "   avg_Transition_foul_share  \n",
       "0                   0.081768  \n",
       "1                   0.083582  \n",
       "2                   0.088481  \n",
       "3                   0.093948  \n",
       "4                   0.084044  \n",
       "\n",
       "[5 rows x 35 columns]"
      ]
     },
     "execution_count": 16,
     "metadata": {},
     "output_type": "execute_result"
    }
   ],
   "source": [
    "pd_comp_agg =  pd_homeaway_agg.groupby('competition_competition_name', as_index = False).agg({_:'mean' for _ in cluster_cols})\n",
    "pd_comp_agg.head()"
   ]
  },
  {
   "cell_type": "markdown",
   "id": "0ce01c4c",
   "metadata": {},
   "source": [
    "## One score for one dimension"
   ]
  },
  {
   "cell_type": "markdown",
   "id": "f24e3551",
   "metadata": {},
   "source": [
    "### Attack score"
   ]
  },
  {
   "cell_type": "code",
   "execution_count": 18,
   "id": "853097ac",
   "metadata": {},
   "outputs": [],
   "source": [
    "attack_cols_ = ['avg_Attacking_pass_count',\n",
    " 'avg_Forward_carry_count',\n",
    " 'avg_Attacking_foul_count',\n",
    "               'avg_goal_count',\n",
    "               'avg_total_offside_count']"
   ]
  },
  {
   "cell_type": "code",
   "execution_count": 19,
   "id": "f084cc95",
   "metadata": {},
   "outputs": [
    {
     "data": {
      "text/html": [
       "<div>\n",
       "<style scoped>\n",
       "    .dataframe tbody tr th:only-of-type {\n",
       "        vertical-align: middle;\n",
       "    }\n",
       "\n",
       "    .dataframe tbody tr th {\n",
       "        vertical-align: top;\n",
       "    }\n",
       "\n",
       "    .dataframe thead th {\n",
       "        text-align: right;\n",
       "    }\n",
       "</style>\n",
       "<table border=\"1\" class=\"dataframe\">\n",
       "  <thead>\n",
       "    <tr style=\"text-align: right;\">\n",
       "      <th></th>\n",
       "      <th>avg_Attacking_pass_count</th>\n",
       "      <th>avg_Forward_carry_count</th>\n",
       "      <th>avg_Attacking_foul_count</th>\n",
       "      <th>avg_goal_count</th>\n",
       "      <th>avg_total_offside_count</th>\n",
       "    </tr>\n",
       "  </thead>\n",
       "  <tbody>\n",
       "    <tr>\n",
       "      <th>0</th>\n",
       "      <td>234.629085</td>\n",
       "      <td>201.044118</td>\n",
       "      <td>1.978517</td>\n",
       "      <td>1.367647</td>\n",
       "      <td>2.464052</td>\n",
       "    </tr>\n",
       "    <tr>\n",
       "      <th>1</th>\n",
       "      <td>233.255263</td>\n",
       "      <td>199.500000</td>\n",
       "      <td>2.564715</td>\n",
       "      <td>1.335740</td>\n",
       "      <td>2.453947</td>\n",
       "    </tr>\n",
       "    <tr>\n",
       "      <th>2</th>\n",
       "      <td>242.553663</td>\n",
       "      <td>212.935562</td>\n",
       "      <td>1.891390</td>\n",
       "      <td>1.215007</td>\n",
       "      <td>2.148542</td>\n",
       "    </tr>\n",
       "    <tr>\n",
       "      <th>3</th>\n",
       "      <td>235.488158</td>\n",
       "      <td>199.605263</td>\n",
       "      <td>2.023403</td>\n",
       "      <td>1.300000</td>\n",
       "      <td>1.960526</td>\n",
       "    </tr>\n",
       "    <tr>\n",
       "      <th>4</th>\n",
       "      <td>240.246053</td>\n",
       "      <td>207.785526</td>\n",
       "      <td>1.921304</td>\n",
       "      <td>1.251316</td>\n",
       "      <td>2.372368</td>\n",
       "    </tr>\n",
       "  </tbody>\n",
       "</table>\n",
       "</div>"
      ],
      "text/plain": [
       "   avg_Attacking_pass_count  avg_Forward_carry_count  \\\n",
       "0                234.629085               201.044118   \n",
       "1                233.255263               199.500000   \n",
       "2                242.553663               212.935562   \n",
       "3                235.488158               199.605263   \n",
       "4                240.246053               207.785526   \n",
       "\n",
       "   avg_Attacking_foul_count  avg_goal_count  avg_total_offside_count  \n",
       "0                  1.978517        1.367647                 2.464052  \n",
       "1                  2.564715        1.335740                 2.453947  \n",
       "2                  1.891390        1.215007                 2.148542  \n",
       "3                  2.023403        1.300000                 1.960526  \n",
       "4                  1.921304        1.251316                 2.372368  "
      ]
     },
     "execution_count": 19,
     "metadata": {},
     "output_type": "execute_result"
    }
   ],
   "source": [
    "pd_comp_agg_attack = pd_comp_agg[attack_cols_]\n",
    "pd_comp_agg_attack.head()"
   ]
  },
  {
   "cell_type": "code",
   "execution_count": 23,
   "id": "9c0581cb",
   "metadata": {
    "scrolled": true
   },
   "outputs": [
    {
     "data": {
      "text/plain": [
       "array([[-0.73377207, -0.58666089, -0.39151658,  1.33398231,  0.93979005],\n",
       "       [-1.12069455, -0.87607953,  1.9660474 ,  0.75649375,  0.88822487],\n",
       "       [ 1.498102  ,  1.64218844, -0.74192198, -1.42863395, -0.67025224],\n",
       "       [-0.49182321, -0.85634973, -0.21099319,  0.10964446, -1.62969197],\n",
       "       [ 0.84818783,  0.67690171, -0.62161565, -0.77148657,  0.47192929]])"
      ]
     },
     "execution_count": 23,
     "metadata": {},
     "output_type": "execute_result"
    }
   ],
   "source": [
    "scaler_minmax = StandardScaler()\n",
    "pd_comp_agg_attack_sc = scaler_minmax.fit_transform(pd_comp_agg_attack)\n",
    "pd_comp_agg_attack_sc"
   ]
  },
  {
   "cell_type": "code",
   "execution_count": 24,
   "id": "4d4edc00",
   "metadata": {},
   "outputs": [
    {
     "data": {
      "text/plain": [
       "array([ 0.11236456,  0.32279839,  0.05989645, -0.61584273,  0.12078332])"
      ]
     },
     "execution_count": 24,
     "metadata": {},
     "output_type": "execute_result"
    }
   ],
   "source": [
    "attack_score = pd_comp_agg_attack_sc.mean(axis = 1)\n",
    "attack_score"
   ]
  },
  {
   "cell_type": "code",
   "execution_count": 25,
   "id": "f89166ac",
   "metadata": {},
   "outputs": [
    {
     "data": {
      "text/html": [
       "<div>\n",
       "<style scoped>\n",
       "    .dataframe tbody tr th:only-of-type {\n",
       "        vertical-align: middle;\n",
       "    }\n",
       "\n",
       "    .dataframe tbody tr th {\n",
       "        vertical-align: top;\n",
       "    }\n",
       "\n",
       "    .dataframe thead th {\n",
       "        text-align: right;\n",
       "    }\n",
       "</style>\n",
       "<table border=\"1\" class=\"dataframe\">\n",
       "  <thead>\n",
       "    <tr style=\"text-align: right;\">\n",
       "      <th></th>\n",
       "      <th>competition_competition_name</th>\n",
       "      <th>avg_dribble_count</th>\n",
       "      <th>avg_shot_count</th>\n",
       "      <th>avg_total_offside_count</th>\n",
       "      <th>avg_Attacking_avg_pass_distance</th>\n",
       "      <th>avg_Attacking_sum_pass_distance</th>\n",
       "      <th>avg_Attacking_pass_count</th>\n",
       "      <th>avg_Forward_carry_count</th>\n",
       "      <th>avg_Forward_avg_carry_distance</th>\n",
       "      <th>avg_Forward_avg_attacking_carry_distance</th>\n",
       "      <th>...</th>\n",
       "      <th>avg_interception_count</th>\n",
       "      <th>avg_Transition_avg_pass_distance</th>\n",
       "      <th>avg_Transition_sum_pass_distance</th>\n",
       "      <th>avg_Transition_pass_count</th>\n",
       "      <th>avg_Transition_carry_count</th>\n",
       "      <th>avg_Transition_avg_carry_distance</th>\n",
       "      <th>avg_Transition_avg_attacking_carry_distance</th>\n",
       "      <th>avg_Transition_foul_count</th>\n",
       "      <th>avg_Transition_foul_share</th>\n",
       "      <th>attack_score</th>\n",
       "    </tr>\n",
       "  </thead>\n",
       "  <tbody>\n",
       "    <tr>\n",
       "      <th>0</th>\n",
       "      <td>1. Bundesliga</td>\n",
       "      <td>14.787582</td>\n",
       "      <td>12.795752</td>\n",
       "      <td>2.464052</td>\n",
       "      <td>22.304641</td>\n",
       "      <td>5127.209330</td>\n",
       "      <td>234.629085</td>\n",
       "      <td>201.044118</td>\n",
       "      <td>7.867876</td>\n",
       "      <td>7.867876</td>\n",
       "      <td>...</td>\n",
       "      <td>9.769608</td>\n",
       "      <td>50.770566</td>\n",
       "      <td>386.433976</td>\n",
       "      <td>7.670558</td>\n",
       "      <td>4.590351</td>\n",
       "      <td>11.402043</td>\n",
       "      <td>0.0</td>\n",
       "      <td>1.277097</td>\n",
       "      <td>0.081768</td>\n",
       "      <td>0.112365</td>\n",
       "    </tr>\n",
       "    <tr>\n",
       "      <th>1</th>\n",
       "      <td>La Liga</td>\n",
       "      <td>19.144737</td>\n",
       "      <td>12.077738</td>\n",
       "      <td>2.453947</td>\n",
       "      <td>21.875724</td>\n",
       "      <td>5032.929066</td>\n",
       "      <td>233.255263</td>\n",
       "      <td>199.500000</td>\n",
       "      <td>8.079319</td>\n",
       "      <td>8.079319</td>\n",
       "      <td>...</td>\n",
       "      <td>16.281579</td>\n",
       "      <td>53.010088</td>\n",
       "      <td>342.257165</td>\n",
       "      <td>6.686365</td>\n",
       "      <td>4.556067</td>\n",
       "      <td>11.722680</td>\n",
       "      <td>0.0</td>\n",
       "      <td>1.277139</td>\n",
       "      <td>0.083582</td>\n",
       "      <td>0.322798</td>\n",
       "    </tr>\n",
       "    <tr>\n",
       "      <th>2</th>\n",
       "      <td>Ligue 1</td>\n",
       "      <td>16.366572</td>\n",
       "      <td>11.691465</td>\n",
       "      <td>2.148542</td>\n",
       "      <td>21.487044</td>\n",
       "      <td>5134.092195</td>\n",
       "      <td>242.553663</td>\n",
       "      <td>212.935562</td>\n",
       "      <td>8.107111</td>\n",
       "      <td>8.107111</td>\n",
       "      <td>...</td>\n",
       "      <td>11.318706</td>\n",
       "      <td>51.797174</td>\n",
       "      <td>325.163723</td>\n",
       "      <td>6.710862</td>\n",
       "      <td>4.587346</td>\n",
       "      <td>12.147248</td>\n",
       "      <td>0.0</td>\n",
       "      <td>1.267498</td>\n",
       "      <td>0.088481</td>\n",
       "      <td>0.059896</td>\n",
       "    </tr>\n",
       "    <tr>\n",
       "      <th>3</th>\n",
       "      <td>Premier League</td>\n",
       "      <td>18.053947</td>\n",
       "      <td>13.036842</td>\n",
       "      <td>1.960526</td>\n",
       "      <td>21.767250</td>\n",
       "      <td>5058.721421</td>\n",
       "      <td>235.488158</td>\n",
       "      <td>199.605263</td>\n",
       "      <td>8.322711</td>\n",
       "      <td>8.322711</td>\n",
       "      <td>...</td>\n",
       "      <td>11.736842</td>\n",
       "      <td>57.480839</td>\n",
       "      <td>478.881929</td>\n",
       "      <td>8.495306</td>\n",
       "      <td>4.744494</td>\n",
       "      <td>12.291338</td>\n",
       "      <td>0.0</td>\n",
       "      <td>1.216975</td>\n",
       "      <td>0.093948</td>\n",
       "      <td>-0.615843</td>\n",
       "    </tr>\n",
       "    <tr>\n",
       "      <th>4</th>\n",
       "      <td>Serie A</td>\n",
       "      <td>15.388158</td>\n",
       "      <td>13.155263</td>\n",
       "      <td>2.372368</td>\n",
       "      <td>21.321895</td>\n",
       "      <td>5041.031566</td>\n",
       "      <td>240.246053</td>\n",
       "      <td>207.785526</td>\n",
       "      <td>8.223009</td>\n",
       "      <td>8.223009</td>\n",
       "      <td>...</td>\n",
       "      <td>10.198684</td>\n",
       "      <td>46.407890</td>\n",
       "      <td>254.303492</td>\n",
       "      <td>5.806467</td>\n",
       "      <td>4.536053</td>\n",
       "      <td>13.862368</td>\n",
       "      <td>0.0</td>\n",
       "      <td>1.322815</td>\n",
       "      <td>0.084044</td>\n",
       "      <td>0.120783</td>\n",
       "    </tr>\n",
       "  </tbody>\n",
       "</table>\n",
       "<p>5 rows × 36 columns</p>\n",
       "</div>"
      ],
      "text/plain": [
       "  competition_competition_name  avg_dribble_count  avg_shot_count  \\\n",
       "0                1. Bundesliga          14.787582       12.795752   \n",
       "1                      La Liga          19.144737       12.077738   \n",
       "2                      Ligue 1          16.366572       11.691465   \n",
       "3               Premier League          18.053947       13.036842   \n",
       "4                      Serie A          15.388158       13.155263   \n",
       "\n",
       "   avg_total_offside_count  avg_Attacking_avg_pass_distance  \\\n",
       "0                 2.464052                        22.304641   \n",
       "1                 2.453947                        21.875724   \n",
       "2                 2.148542                        21.487044   \n",
       "3                 1.960526                        21.767250   \n",
       "4                 2.372368                        21.321895   \n",
       "\n",
       "   avg_Attacking_sum_pass_distance  avg_Attacking_pass_count  \\\n",
       "0                      5127.209330                234.629085   \n",
       "1                      5032.929066                233.255263   \n",
       "2                      5134.092195                242.553663   \n",
       "3                      5058.721421                235.488158   \n",
       "4                      5041.031566                240.246053   \n",
       "\n",
       "   avg_Forward_carry_count  avg_Forward_avg_carry_distance  \\\n",
       "0               201.044118                        7.867876   \n",
       "1               199.500000                        8.079319   \n",
       "2               212.935562                        8.107111   \n",
       "3               199.605263                        8.322711   \n",
       "4               207.785526                        8.223009   \n",
       "\n",
       "   avg_Forward_avg_attacking_carry_distance  ...  avg_interception_count  \\\n",
       "0                                  7.867876  ...                9.769608   \n",
       "1                                  8.079319  ...               16.281579   \n",
       "2                                  8.107111  ...               11.318706   \n",
       "3                                  8.322711  ...               11.736842   \n",
       "4                                  8.223009  ...               10.198684   \n",
       "\n",
       "   avg_Transition_avg_pass_distance  avg_Transition_sum_pass_distance  \\\n",
       "0                         50.770566                        386.433976   \n",
       "1                         53.010088                        342.257165   \n",
       "2                         51.797174                        325.163723   \n",
       "3                         57.480839                        478.881929   \n",
       "4                         46.407890                        254.303492   \n",
       "\n",
       "   avg_Transition_pass_count  avg_Transition_carry_count  \\\n",
       "0                   7.670558                    4.590351   \n",
       "1                   6.686365                    4.556067   \n",
       "2                   6.710862                    4.587346   \n",
       "3                   8.495306                    4.744494   \n",
       "4                   5.806467                    4.536053   \n",
       "\n",
       "   avg_Transition_avg_carry_distance  \\\n",
       "0                          11.402043   \n",
       "1                          11.722680   \n",
       "2                          12.147248   \n",
       "3                          12.291338   \n",
       "4                          13.862368   \n",
       "\n",
       "   avg_Transition_avg_attacking_carry_distance  avg_Transition_foul_count  \\\n",
       "0                                          0.0                   1.277097   \n",
       "1                                          0.0                   1.277139   \n",
       "2                                          0.0                   1.267498   \n",
       "3                                          0.0                   1.216975   \n",
       "4                                          0.0                   1.322815   \n",
       "\n",
       "   avg_Transition_foul_share  attack_score  \n",
       "0                   0.081768      0.112365  \n",
       "1                   0.083582      0.322798  \n",
       "2                   0.088481      0.059896  \n",
       "3                   0.093948     -0.615843  \n",
       "4                   0.084044      0.120783  \n",
       "\n",
       "[5 rows x 36 columns]"
      ]
     },
     "execution_count": 25,
     "metadata": {},
     "output_type": "execute_result"
    }
   ],
   "source": [
    "pd_comp_agg['attack_score'] = attack_score\n",
    "pd_comp_agg.head()"
   ]
  },
  {
   "cell_type": "markdown",
   "id": "cb662171",
   "metadata": {},
   "source": [
    "### Defense score"
   ]
  },
  {
   "cell_type": "code",
   "execution_count": 27,
   "id": "53caac48",
   "metadata": {},
   "outputs": [],
   "source": [
    "defense_cols_ = ['avg_duel_count',\n",
    " 'avg_block_count',\n",
    " 'avg_clearance_count',\n",
    " 'avg_shield_count',\n",
    " 'avg_Defensive_pass_count',\n",
    " 'avg_Backward_carry_count',\n",
    " 'avg_Defensive_foul_count']"
   ]
  },
  {
   "cell_type": "code",
   "execution_count": 28,
   "id": "4fa60844",
   "metadata": {},
   "outputs": [
    {
     "data": {
      "text/html": [
       "<div>\n",
       "<style scoped>\n",
       "    .dataframe tbody tr th:only-of-type {\n",
       "        vertical-align: middle;\n",
       "    }\n",
       "\n",
       "    .dataframe tbody tr th {\n",
       "        vertical-align: top;\n",
       "    }\n",
       "\n",
       "    .dataframe thead th {\n",
       "        text-align: right;\n",
       "    }\n",
       "</style>\n",
       "<table border=\"1\" class=\"dataframe\">\n",
       "  <thead>\n",
       "    <tr style=\"text-align: right;\">\n",
       "      <th></th>\n",
       "      <th>avg_duel_count</th>\n",
       "      <th>avg_block_count</th>\n",
       "      <th>avg_clearance_count</th>\n",
       "      <th>avg_shield_count</th>\n",
       "      <th>avg_Defensive_pass_count</th>\n",
       "      <th>avg_Backward_carry_count</th>\n",
       "      <th>avg_Defensive_foul_count</th>\n",
       "    </tr>\n",
       "  </thead>\n",
       "  <tbody>\n",
       "    <tr>\n",
       "      <th>0</th>\n",
       "      <td>42.287582</td>\n",
       "      <td>20.366013</td>\n",
       "      <td>23.616013</td>\n",
       "      <td>1.435649</td>\n",
       "      <td>238.186275</td>\n",
       "      <td>96.189542</td>\n",
       "      <td>5.322084</td>\n",
       "    </tr>\n",
       "    <tr>\n",
       "      <th>1</th>\n",
       "      <td>41.550000</td>\n",
       "      <td>18.310526</td>\n",
       "      <td>21.338158</td>\n",
       "      <td>1.408946</td>\n",
       "      <td>238.280263</td>\n",
       "      <td>98.644737</td>\n",
       "      <td>4.230086</td>\n",
       "    </tr>\n",
       "    <tr>\n",
       "      <th>2</th>\n",
       "      <td>43.004943</td>\n",
       "      <td>19.474075</td>\n",
       "      <td>23.041038</td>\n",
       "      <td>1.441155</td>\n",
       "      <td>244.668243</td>\n",
       "      <td>99.076849</td>\n",
       "      <td>4.335025</td>\n",
       "    </tr>\n",
       "    <tr>\n",
       "      <th>3</th>\n",
       "      <td>42.486842</td>\n",
       "      <td>19.525000</td>\n",
       "      <td>28.480263</td>\n",
       "      <td>1.412585</td>\n",
       "      <td>238.253947</td>\n",
       "      <td>101.589474</td>\n",
       "      <td>3.274577</td>\n",
       "    </tr>\n",
       "    <tr>\n",
       "      <th>4</th>\n",
       "      <td>37.939474</td>\n",
       "      <td>20.693421</td>\n",
       "      <td>23.388158</td>\n",
       "      <td>1.438150</td>\n",
       "      <td>242.938158</td>\n",
       "      <td>99.347368</td>\n",
       "      <td>4.608322</td>\n",
       "    </tr>\n",
       "  </tbody>\n",
       "</table>\n",
       "</div>"
      ],
      "text/plain": [
       "   avg_duel_count  avg_block_count  avg_clearance_count  avg_shield_count  \\\n",
       "0       42.287582        20.366013            23.616013          1.435649   \n",
       "1       41.550000        18.310526            21.338158          1.408946   \n",
       "2       43.004943        19.474075            23.041038          1.441155   \n",
       "3       42.486842        19.525000            28.480263          1.412585   \n",
       "4       37.939474        20.693421            23.388158          1.438150   \n",
       "\n",
       "   avg_Defensive_pass_count  avg_Backward_carry_count  \\\n",
       "0                238.186275                 96.189542   \n",
       "1                238.280263                 98.644737   \n",
       "2                244.668243                 99.076849   \n",
       "3                238.253947                101.589474   \n",
       "4                242.938158                 99.347368   \n",
       "\n",
       "   avg_Defensive_foul_count  \n",
       "0                  5.322084  \n",
       "1                  4.230086  \n",
       "2                  4.335025  \n",
       "3                  3.274577  \n",
       "4                  4.608322  "
      ]
     },
     "execution_count": 28,
     "metadata": {},
     "output_type": "execute_result"
    }
   ],
   "source": [
    "pd_comp_agg_defense = pd_comp_agg[defense_cols_]\n",
    "pd_comp_agg_defense.head()"
   ]
  },
  {
   "cell_type": "code",
   "execution_count": 33,
   "id": "13745574",
   "metadata": {
    "scrolled": true
   },
   "outputs": [
    {
     "data": {
      "text/plain": [
       "array([[ 0.45860814,  0.8346093 , -0.14916004,  0.61148688, -0.81986163,\n",
       "        -1.61302981,  1.46517344],\n",
       "       [ 0.05292877, -1.64374049, -1.10164831, -1.34355664, -0.78605109,\n",
       "        -0.18848732, -0.18757343],\n",
       "       [ 0.85316608, -0.2408214 , -0.38958648,  1.01458021,  1.511897  ,\n",
       "         0.06223109, -0.02874682],\n",
       "       [ 0.56820391, -0.17942038,  1.88483281, -1.07711319, -0.79551767,\n",
       "         1.52009544, -1.63374307],\n",
       "       [-1.9329069 ,  1.22937297, -0.24443799,  0.79460275,  0.8895334 ,\n",
       "         0.2191906 ,  0.38488987]])"
      ]
     },
     "execution_count": 33,
     "metadata": {},
     "output_type": "execute_result"
    }
   ],
   "source": [
    "# pd_comp_agg_defense_sc = softmax(pd_comp_agg_defense)\n",
    "\n",
    "scaler_minmax = StandardScaler()\n",
    "pd_comp_agg_defense_sc = scaler_minmax.fit_transform(pd_comp_agg_defense)\n",
    "pd_comp_agg_defense_sc"
   ]
  },
  {
   "cell_type": "code",
   "execution_count": 34,
   "id": "75fa3bb0",
   "metadata": {},
   "outputs": [
    {
     "data": {
      "text/plain": [
       "array([ 0.11254661, -0.74258979,  0.39753138,  0.04104826,  0.19146353])"
      ]
     },
     "execution_count": 34,
     "metadata": {},
     "output_type": "execute_result"
    }
   ],
   "source": [
    "defense_score = pd_comp_agg_defense_sc.mean(axis = 1)\n",
    "defense_score"
   ]
  },
  {
   "cell_type": "code",
   "execution_count": 35,
   "id": "2756b35d",
   "metadata": {},
   "outputs": [
    {
     "data": {
      "text/html": [
       "<div>\n",
       "<style scoped>\n",
       "    .dataframe tbody tr th:only-of-type {\n",
       "        vertical-align: middle;\n",
       "    }\n",
       "\n",
       "    .dataframe tbody tr th {\n",
       "        vertical-align: top;\n",
       "    }\n",
       "\n",
       "    .dataframe thead th {\n",
       "        text-align: right;\n",
       "    }\n",
       "</style>\n",
       "<table border=\"1\" class=\"dataframe\">\n",
       "  <thead>\n",
       "    <tr style=\"text-align: right;\">\n",
       "      <th></th>\n",
       "      <th>competition_competition_name</th>\n",
       "      <th>avg_dribble_count</th>\n",
       "      <th>avg_shot_count</th>\n",
       "      <th>avg_total_offside_count</th>\n",
       "      <th>avg_Attacking_avg_pass_distance</th>\n",
       "      <th>avg_Attacking_sum_pass_distance</th>\n",
       "      <th>avg_Attacking_pass_count</th>\n",
       "      <th>avg_Forward_carry_count</th>\n",
       "      <th>avg_Forward_avg_carry_distance</th>\n",
       "      <th>avg_Forward_avg_attacking_carry_distance</th>\n",
       "      <th>...</th>\n",
       "      <th>avg_Transition_avg_pass_distance</th>\n",
       "      <th>avg_Transition_sum_pass_distance</th>\n",
       "      <th>avg_Transition_pass_count</th>\n",
       "      <th>avg_Transition_carry_count</th>\n",
       "      <th>avg_Transition_avg_carry_distance</th>\n",
       "      <th>avg_Transition_avg_attacking_carry_distance</th>\n",
       "      <th>avg_Transition_foul_count</th>\n",
       "      <th>avg_Transition_foul_share</th>\n",
       "      <th>attack_score</th>\n",
       "      <th>defense_score</th>\n",
       "    </tr>\n",
       "  </thead>\n",
       "  <tbody>\n",
       "    <tr>\n",
       "      <th>0</th>\n",
       "      <td>1. Bundesliga</td>\n",
       "      <td>14.787582</td>\n",
       "      <td>12.795752</td>\n",
       "      <td>2.464052</td>\n",
       "      <td>22.304641</td>\n",
       "      <td>5127.209330</td>\n",
       "      <td>234.629085</td>\n",
       "      <td>201.044118</td>\n",
       "      <td>7.867876</td>\n",
       "      <td>7.867876</td>\n",
       "      <td>...</td>\n",
       "      <td>50.770566</td>\n",
       "      <td>386.433976</td>\n",
       "      <td>7.670558</td>\n",
       "      <td>4.590351</td>\n",
       "      <td>11.402043</td>\n",
       "      <td>0.0</td>\n",
       "      <td>1.277097</td>\n",
       "      <td>0.081768</td>\n",
       "      <td>0.112365</td>\n",
       "      <td>0.112547</td>\n",
       "    </tr>\n",
       "    <tr>\n",
       "      <th>1</th>\n",
       "      <td>La Liga</td>\n",
       "      <td>19.144737</td>\n",
       "      <td>12.077738</td>\n",
       "      <td>2.453947</td>\n",
       "      <td>21.875724</td>\n",
       "      <td>5032.929066</td>\n",
       "      <td>233.255263</td>\n",
       "      <td>199.500000</td>\n",
       "      <td>8.079319</td>\n",
       "      <td>8.079319</td>\n",
       "      <td>...</td>\n",
       "      <td>53.010088</td>\n",
       "      <td>342.257165</td>\n",
       "      <td>6.686365</td>\n",
       "      <td>4.556067</td>\n",
       "      <td>11.722680</td>\n",
       "      <td>0.0</td>\n",
       "      <td>1.277139</td>\n",
       "      <td>0.083582</td>\n",
       "      <td>0.322798</td>\n",
       "      <td>-0.742590</td>\n",
       "    </tr>\n",
       "    <tr>\n",
       "      <th>2</th>\n",
       "      <td>Ligue 1</td>\n",
       "      <td>16.366572</td>\n",
       "      <td>11.691465</td>\n",
       "      <td>2.148542</td>\n",
       "      <td>21.487044</td>\n",
       "      <td>5134.092195</td>\n",
       "      <td>242.553663</td>\n",
       "      <td>212.935562</td>\n",
       "      <td>8.107111</td>\n",
       "      <td>8.107111</td>\n",
       "      <td>...</td>\n",
       "      <td>51.797174</td>\n",
       "      <td>325.163723</td>\n",
       "      <td>6.710862</td>\n",
       "      <td>4.587346</td>\n",
       "      <td>12.147248</td>\n",
       "      <td>0.0</td>\n",
       "      <td>1.267498</td>\n",
       "      <td>0.088481</td>\n",
       "      <td>0.059896</td>\n",
       "      <td>0.397531</td>\n",
       "    </tr>\n",
       "    <tr>\n",
       "      <th>3</th>\n",
       "      <td>Premier League</td>\n",
       "      <td>18.053947</td>\n",
       "      <td>13.036842</td>\n",
       "      <td>1.960526</td>\n",
       "      <td>21.767250</td>\n",
       "      <td>5058.721421</td>\n",
       "      <td>235.488158</td>\n",
       "      <td>199.605263</td>\n",
       "      <td>8.322711</td>\n",
       "      <td>8.322711</td>\n",
       "      <td>...</td>\n",
       "      <td>57.480839</td>\n",
       "      <td>478.881929</td>\n",
       "      <td>8.495306</td>\n",
       "      <td>4.744494</td>\n",
       "      <td>12.291338</td>\n",
       "      <td>0.0</td>\n",
       "      <td>1.216975</td>\n",
       "      <td>0.093948</td>\n",
       "      <td>-0.615843</td>\n",
       "      <td>0.041048</td>\n",
       "    </tr>\n",
       "    <tr>\n",
       "      <th>4</th>\n",
       "      <td>Serie A</td>\n",
       "      <td>15.388158</td>\n",
       "      <td>13.155263</td>\n",
       "      <td>2.372368</td>\n",
       "      <td>21.321895</td>\n",
       "      <td>5041.031566</td>\n",
       "      <td>240.246053</td>\n",
       "      <td>207.785526</td>\n",
       "      <td>8.223009</td>\n",
       "      <td>8.223009</td>\n",
       "      <td>...</td>\n",
       "      <td>46.407890</td>\n",
       "      <td>254.303492</td>\n",
       "      <td>5.806467</td>\n",
       "      <td>4.536053</td>\n",
       "      <td>13.862368</td>\n",
       "      <td>0.0</td>\n",
       "      <td>1.322815</td>\n",
       "      <td>0.084044</td>\n",
       "      <td>0.120783</td>\n",
       "      <td>0.191464</td>\n",
       "    </tr>\n",
       "  </tbody>\n",
       "</table>\n",
       "<p>5 rows × 37 columns</p>\n",
       "</div>"
      ],
      "text/plain": [
       "  competition_competition_name  avg_dribble_count  avg_shot_count  \\\n",
       "0                1. Bundesliga          14.787582       12.795752   \n",
       "1                      La Liga          19.144737       12.077738   \n",
       "2                      Ligue 1          16.366572       11.691465   \n",
       "3               Premier League          18.053947       13.036842   \n",
       "4                      Serie A          15.388158       13.155263   \n",
       "\n",
       "   avg_total_offside_count  avg_Attacking_avg_pass_distance  \\\n",
       "0                 2.464052                        22.304641   \n",
       "1                 2.453947                        21.875724   \n",
       "2                 2.148542                        21.487044   \n",
       "3                 1.960526                        21.767250   \n",
       "4                 2.372368                        21.321895   \n",
       "\n",
       "   avg_Attacking_sum_pass_distance  avg_Attacking_pass_count  \\\n",
       "0                      5127.209330                234.629085   \n",
       "1                      5032.929066                233.255263   \n",
       "2                      5134.092195                242.553663   \n",
       "3                      5058.721421                235.488158   \n",
       "4                      5041.031566                240.246053   \n",
       "\n",
       "   avg_Forward_carry_count  avg_Forward_avg_carry_distance  \\\n",
       "0               201.044118                        7.867876   \n",
       "1               199.500000                        8.079319   \n",
       "2               212.935562                        8.107111   \n",
       "3               199.605263                        8.322711   \n",
       "4               207.785526                        8.223009   \n",
       "\n",
       "   avg_Forward_avg_attacking_carry_distance  ...  \\\n",
       "0                                  7.867876  ...   \n",
       "1                                  8.079319  ...   \n",
       "2                                  8.107111  ...   \n",
       "3                                  8.322711  ...   \n",
       "4                                  8.223009  ...   \n",
       "\n",
       "   avg_Transition_avg_pass_distance  avg_Transition_sum_pass_distance  \\\n",
       "0                         50.770566                        386.433976   \n",
       "1                         53.010088                        342.257165   \n",
       "2                         51.797174                        325.163723   \n",
       "3                         57.480839                        478.881929   \n",
       "4                         46.407890                        254.303492   \n",
       "\n",
       "   avg_Transition_pass_count  avg_Transition_carry_count  \\\n",
       "0                   7.670558                    4.590351   \n",
       "1                   6.686365                    4.556067   \n",
       "2                   6.710862                    4.587346   \n",
       "3                   8.495306                    4.744494   \n",
       "4                   5.806467                    4.536053   \n",
       "\n",
       "   avg_Transition_avg_carry_distance  \\\n",
       "0                          11.402043   \n",
       "1                          11.722680   \n",
       "2                          12.147248   \n",
       "3                          12.291338   \n",
       "4                          13.862368   \n",
       "\n",
       "   avg_Transition_avg_attacking_carry_distance  avg_Transition_foul_count  \\\n",
       "0                                          0.0                   1.277097   \n",
       "1                                          0.0                   1.277139   \n",
       "2                                          0.0                   1.267498   \n",
       "3                                          0.0                   1.216975   \n",
       "4                                          0.0                   1.322815   \n",
       "\n",
       "   avg_Transition_foul_share  attack_score  defense_score  \n",
       "0                   0.081768      0.112365       0.112547  \n",
       "1                   0.083582      0.322798      -0.742590  \n",
       "2                   0.088481      0.059896       0.397531  \n",
       "3                   0.093948     -0.615843       0.041048  \n",
       "4                   0.084044      0.120783       0.191464  \n",
       "\n",
       "[5 rows x 37 columns]"
      ]
     },
     "execution_count": 35,
     "metadata": {},
     "output_type": "execute_result"
    }
   ],
   "source": [
    "pd_comp_agg['defense_score'] = defense_score\n",
    "pd_comp_agg.head()"
   ]
  },
  {
   "cell_type": "markdown",
   "id": "b1b18b60",
   "metadata": {},
   "source": [
    "### Transition score"
   ]
  },
  {
   "cell_type": "code",
   "execution_count": 37,
   "id": "18d2fdcd",
   "metadata": {},
   "outputs": [
    {
     "data": {
      "text/html": [
       "<div>\n",
       "<style scoped>\n",
       "    .dataframe tbody tr th:only-of-type {\n",
       "        vertical-align: middle;\n",
       "    }\n",
       "\n",
       "    .dataframe tbody tr th {\n",
       "        vertical-align: top;\n",
       "    }\n",
       "\n",
       "    .dataframe thead th {\n",
       "        text-align: right;\n",
       "    }\n",
       "</style>\n",
       "<table border=\"1\" class=\"dataframe\">\n",
       "  <thead>\n",
       "    <tr style=\"text-align: right;\">\n",
       "      <th></th>\n",
       "      <th>avg_ball_recovery_count</th>\n",
       "      <th>avg_interception_count</th>\n",
       "      <th>avg_Transition_pass_count</th>\n",
       "      <th>avg_Transition_carry_count</th>\n",
       "      <th>avg_Transition_foul_count</th>\n",
       "    </tr>\n",
       "  </thead>\n",
       "  <tbody>\n",
       "    <tr>\n",
       "      <th>0</th>\n",
       "      <td>51.895425</td>\n",
       "      <td>9.769608</td>\n",
       "      <td>7.670558</td>\n",
       "      <td>4.590351</td>\n",
       "      <td>1.277097</td>\n",
       "    </tr>\n",
       "    <tr>\n",
       "      <th>1</th>\n",
       "      <td>50.676316</td>\n",
       "      <td>16.281579</td>\n",
       "      <td>6.686365</td>\n",
       "      <td>4.556067</td>\n",
       "      <td>1.277139</td>\n",
       "    </tr>\n",
       "    <tr>\n",
       "      <th>2</th>\n",
       "      <td>55.543314</td>\n",
       "      <td>11.318706</td>\n",
       "      <td>6.710862</td>\n",
       "      <td>4.587346</td>\n",
       "      <td>1.267498</td>\n",
       "    </tr>\n",
       "    <tr>\n",
       "      <th>3</th>\n",
       "      <td>53.872368</td>\n",
       "      <td>11.736842</td>\n",
       "      <td>8.495306</td>\n",
       "      <td>4.744494</td>\n",
       "      <td>1.216975</td>\n",
       "    </tr>\n",
       "    <tr>\n",
       "      <th>4</th>\n",
       "      <td>54.384211</td>\n",
       "      <td>10.198684</td>\n",
       "      <td>5.806467</td>\n",
       "      <td>4.536053</td>\n",
       "      <td>1.322815</td>\n",
       "    </tr>\n",
       "  </tbody>\n",
       "</table>\n",
       "</div>"
      ],
      "text/plain": [
       "   avg_ball_recovery_count  avg_interception_count  avg_Transition_pass_count  \\\n",
       "0                51.895425                9.769608                   7.670558   \n",
       "1                50.676316               16.281579                   6.686365   \n",
       "2                55.543314               11.318706                   6.710862   \n",
       "3                53.872368               11.736842                   8.495306   \n",
       "4                54.384211               10.198684                   5.806467   \n",
       "\n",
       "   avg_Transition_carry_count  avg_Transition_foul_count  \n",
       "0                    4.590351                   1.277097  \n",
       "1                    4.556067                   1.277139  \n",
       "2                    4.587346                   1.267498  \n",
       "3                    4.744494                   1.216975  \n",
       "4                    4.536053                   1.322815  "
      ]
     },
     "execution_count": 37,
     "metadata": {},
     "output_type": "execute_result"
    }
   ],
   "source": [
    "pd_comp_agg_transition = pd_comp_agg[transition_cols]\n",
    "pd_comp_agg_transition.head()"
   ]
  },
  {
   "cell_type": "code",
   "execution_count": 38,
   "id": "60b90088",
   "metadata": {
    "scrolled": true
   },
   "outputs": [
    {
     "data": {
      "text/plain": [
       "array([[-0.78598735, -0.90022413,  0.64603323, -0.16991074,  0.14215718],\n",
       "       [-1.48089122,  1.90269297, -0.41962545, -0.6355081 ,  0.14339442],\n",
       "       [ 1.29334471, -0.23345329, -0.39310055, -0.21072085, -0.14259877],\n",
       "       [ 0.34088947, -0.05347674,  1.53904798,  1.92344728, -1.64129761],\n",
       "       [ 0.63264439, -0.71553881, -1.37235521, -0.90730759,  1.49834479]])"
      ]
     },
     "execution_count": 38,
     "metadata": {},
     "output_type": "execute_result"
    }
   ],
   "source": [
    "# pd_comp_agg_transition_sc = softmax(pd_comp_agg_transition)\n",
    "\n",
    "\n",
    "scaler_minmax = StandardScaler()\n",
    "pd_comp_agg_transition_sc = scaler_minmax.fit_transform(pd_comp_agg_transition)\n",
    "pd_comp_agg_transition_sc"
   ]
  },
  {
   "cell_type": "code",
   "execution_count": 39,
   "id": "a6c0c4e4",
   "metadata": {},
   "outputs": [
    {
     "data": {
      "text/plain": [
       "array([-0.21358636, -0.09798748,  0.06269425,  0.42172208, -0.17284249])"
      ]
     },
     "execution_count": 39,
     "metadata": {},
     "output_type": "execute_result"
    }
   ],
   "source": [
    "transition_score = pd_comp_agg_transition_sc.mean(axis = 1)\n",
    "transition_score"
   ]
  },
  {
   "cell_type": "code",
   "execution_count": 40,
   "id": "ab53ecef",
   "metadata": {},
   "outputs": [
    {
     "data": {
      "text/html": [
       "<div>\n",
       "<style scoped>\n",
       "    .dataframe tbody tr th:only-of-type {\n",
       "        vertical-align: middle;\n",
       "    }\n",
       "\n",
       "    .dataframe tbody tr th {\n",
       "        vertical-align: top;\n",
       "    }\n",
       "\n",
       "    .dataframe thead th {\n",
       "        text-align: right;\n",
       "    }\n",
       "</style>\n",
       "<table border=\"1\" class=\"dataframe\">\n",
       "  <thead>\n",
       "    <tr style=\"text-align: right;\">\n",
       "      <th></th>\n",
       "      <th>competition_competition_name</th>\n",
       "      <th>avg_dribble_count</th>\n",
       "      <th>avg_shot_count</th>\n",
       "      <th>avg_total_offside_count</th>\n",
       "      <th>avg_Attacking_avg_pass_distance</th>\n",
       "      <th>avg_Attacking_sum_pass_distance</th>\n",
       "      <th>avg_Attacking_pass_count</th>\n",
       "      <th>avg_Forward_carry_count</th>\n",
       "      <th>avg_Forward_avg_carry_distance</th>\n",
       "      <th>avg_Forward_avg_attacking_carry_distance</th>\n",
       "      <th>...</th>\n",
       "      <th>avg_Transition_sum_pass_distance</th>\n",
       "      <th>avg_Transition_pass_count</th>\n",
       "      <th>avg_Transition_carry_count</th>\n",
       "      <th>avg_Transition_avg_carry_distance</th>\n",
       "      <th>avg_Transition_avg_attacking_carry_distance</th>\n",
       "      <th>avg_Transition_foul_count</th>\n",
       "      <th>avg_Transition_foul_share</th>\n",
       "      <th>attack_score</th>\n",
       "      <th>defense_score</th>\n",
       "      <th>transition_score</th>\n",
       "    </tr>\n",
       "  </thead>\n",
       "  <tbody>\n",
       "    <tr>\n",
       "      <th>0</th>\n",
       "      <td>1. Bundesliga</td>\n",
       "      <td>14.787582</td>\n",
       "      <td>12.795752</td>\n",
       "      <td>2.464052</td>\n",
       "      <td>22.304641</td>\n",
       "      <td>5127.209330</td>\n",
       "      <td>234.629085</td>\n",
       "      <td>201.044118</td>\n",
       "      <td>7.867876</td>\n",
       "      <td>7.867876</td>\n",
       "      <td>...</td>\n",
       "      <td>386.433976</td>\n",
       "      <td>7.670558</td>\n",
       "      <td>4.590351</td>\n",
       "      <td>11.402043</td>\n",
       "      <td>0.0</td>\n",
       "      <td>1.277097</td>\n",
       "      <td>0.081768</td>\n",
       "      <td>0.112365</td>\n",
       "      <td>0.112547</td>\n",
       "      <td>-0.213586</td>\n",
       "    </tr>\n",
       "    <tr>\n",
       "      <th>1</th>\n",
       "      <td>La Liga</td>\n",
       "      <td>19.144737</td>\n",
       "      <td>12.077738</td>\n",
       "      <td>2.453947</td>\n",
       "      <td>21.875724</td>\n",
       "      <td>5032.929066</td>\n",
       "      <td>233.255263</td>\n",
       "      <td>199.500000</td>\n",
       "      <td>8.079319</td>\n",
       "      <td>8.079319</td>\n",
       "      <td>...</td>\n",
       "      <td>342.257165</td>\n",
       "      <td>6.686365</td>\n",
       "      <td>4.556067</td>\n",
       "      <td>11.722680</td>\n",
       "      <td>0.0</td>\n",
       "      <td>1.277139</td>\n",
       "      <td>0.083582</td>\n",
       "      <td>0.322798</td>\n",
       "      <td>-0.742590</td>\n",
       "      <td>-0.097987</td>\n",
       "    </tr>\n",
       "    <tr>\n",
       "      <th>2</th>\n",
       "      <td>Ligue 1</td>\n",
       "      <td>16.366572</td>\n",
       "      <td>11.691465</td>\n",
       "      <td>2.148542</td>\n",
       "      <td>21.487044</td>\n",
       "      <td>5134.092195</td>\n",
       "      <td>242.553663</td>\n",
       "      <td>212.935562</td>\n",
       "      <td>8.107111</td>\n",
       "      <td>8.107111</td>\n",
       "      <td>...</td>\n",
       "      <td>325.163723</td>\n",
       "      <td>6.710862</td>\n",
       "      <td>4.587346</td>\n",
       "      <td>12.147248</td>\n",
       "      <td>0.0</td>\n",
       "      <td>1.267498</td>\n",
       "      <td>0.088481</td>\n",
       "      <td>0.059896</td>\n",
       "      <td>0.397531</td>\n",
       "      <td>0.062694</td>\n",
       "    </tr>\n",
       "    <tr>\n",
       "      <th>3</th>\n",
       "      <td>Premier League</td>\n",
       "      <td>18.053947</td>\n",
       "      <td>13.036842</td>\n",
       "      <td>1.960526</td>\n",
       "      <td>21.767250</td>\n",
       "      <td>5058.721421</td>\n",
       "      <td>235.488158</td>\n",
       "      <td>199.605263</td>\n",
       "      <td>8.322711</td>\n",
       "      <td>8.322711</td>\n",
       "      <td>...</td>\n",
       "      <td>478.881929</td>\n",
       "      <td>8.495306</td>\n",
       "      <td>4.744494</td>\n",
       "      <td>12.291338</td>\n",
       "      <td>0.0</td>\n",
       "      <td>1.216975</td>\n",
       "      <td>0.093948</td>\n",
       "      <td>-0.615843</td>\n",
       "      <td>0.041048</td>\n",
       "      <td>0.421722</td>\n",
       "    </tr>\n",
       "    <tr>\n",
       "      <th>4</th>\n",
       "      <td>Serie A</td>\n",
       "      <td>15.388158</td>\n",
       "      <td>13.155263</td>\n",
       "      <td>2.372368</td>\n",
       "      <td>21.321895</td>\n",
       "      <td>5041.031566</td>\n",
       "      <td>240.246053</td>\n",
       "      <td>207.785526</td>\n",
       "      <td>8.223009</td>\n",
       "      <td>8.223009</td>\n",
       "      <td>...</td>\n",
       "      <td>254.303492</td>\n",
       "      <td>5.806467</td>\n",
       "      <td>4.536053</td>\n",
       "      <td>13.862368</td>\n",
       "      <td>0.0</td>\n",
       "      <td>1.322815</td>\n",
       "      <td>0.084044</td>\n",
       "      <td>0.120783</td>\n",
       "      <td>0.191464</td>\n",
       "      <td>-0.172842</td>\n",
       "    </tr>\n",
       "  </tbody>\n",
       "</table>\n",
       "<p>5 rows × 38 columns</p>\n",
       "</div>"
      ],
      "text/plain": [
       "  competition_competition_name  avg_dribble_count  avg_shot_count  \\\n",
       "0                1. Bundesliga          14.787582       12.795752   \n",
       "1                      La Liga          19.144737       12.077738   \n",
       "2                      Ligue 1          16.366572       11.691465   \n",
       "3               Premier League          18.053947       13.036842   \n",
       "4                      Serie A          15.388158       13.155263   \n",
       "\n",
       "   avg_total_offside_count  avg_Attacking_avg_pass_distance  \\\n",
       "0                 2.464052                        22.304641   \n",
       "1                 2.453947                        21.875724   \n",
       "2                 2.148542                        21.487044   \n",
       "3                 1.960526                        21.767250   \n",
       "4                 2.372368                        21.321895   \n",
       "\n",
       "   avg_Attacking_sum_pass_distance  avg_Attacking_pass_count  \\\n",
       "0                      5127.209330                234.629085   \n",
       "1                      5032.929066                233.255263   \n",
       "2                      5134.092195                242.553663   \n",
       "3                      5058.721421                235.488158   \n",
       "4                      5041.031566                240.246053   \n",
       "\n",
       "   avg_Forward_carry_count  avg_Forward_avg_carry_distance  \\\n",
       "0               201.044118                        7.867876   \n",
       "1               199.500000                        8.079319   \n",
       "2               212.935562                        8.107111   \n",
       "3               199.605263                        8.322711   \n",
       "4               207.785526                        8.223009   \n",
       "\n",
       "   avg_Forward_avg_attacking_carry_distance  ...  \\\n",
       "0                                  7.867876  ...   \n",
       "1                                  8.079319  ...   \n",
       "2                                  8.107111  ...   \n",
       "3                                  8.322711  ...   \n",
       "4                                  8.223009  ...   \n",
       "\n",
       "   avg_Transition_sum_pass_distance  avg_Transition_pass_count  \\\n",
       "0                        386.433976                   7.670558   \n",
       "1                        342.257165                   6.686365   \n",
       "2                        325.163723                   6.710862   \n",
       "3                        478.881929                   8.495306   \n",
       "4                        254.303492                   5.806467   \n",
       "\n",
       "   avg_Transition_carry_count  avg_Transition_avg_carry_distance  \\\n",
       "0                    4.590351                          11.402043   \n",
       "1                    4.556067                          11.722680   \n",
       "2                    4.587346                          12.147248   \n",
       "3                    4.744494                          12.291338   \n",
       "4                    4.536053                          13.862368   \n",
       "\n",
       "   avg_Transition_avg_attacking_carry_distance  avg_Transition_foul_count  \\\n",
       "0                                          0.0                   1.277097   \n",
       "1                                          0.0                   1.277139   \n",
       "2                                          0.0                   1.267498   \n",
       "3                                          0.0                   1.216975   \n",
       "4                                          0.0                   1.322815   \n",
       "\n",
       "   avg_Transition_foul_share  attack_score  defense_score  transition_score  \n",
       "0                   0.081768      0.112365       0.112547         -0.213586  \n",
       "1                   0.083582      0.322798      -0.742590         -0.097987  \n",
       "2                   0.088481      0.059896       0.397531          0.062694  \n",
       "3                   0.093948     -0.615843       0.041048          0.421722  \n",
       "4                   0.084044      0.120783       0.191464         -0.172842  \n",
       "\n",
       "[5 rows x 38 columns]"
      ]
     },
     "execution_count": 40,
     "metadata": {},
     "output_type": "execute_result"
    }
   ],
   "source": [
    "pd_comp_agg['transition_score'] = transition_score\n",
    "pd_comp_agg.head()"
   ]
  },
  {
   "cell_type": "markdown",
   "id": "ba2a9458",
   "metadata": {},
   "source": [
    "# Plotting"
   ]
  },
  {
   "cell_type": "markdown",
   "id": "8f1a1f82",
   "metadata": {},
   "source": [
    "## Overall Comparison"
   ]
  },
  {
   "cell_type": "code",
   "execution_count": 65,
   "id": "24548615",
   "metadata": {},
   "outputs": [],
   "source": [
    "def format_categories(arr):\n",
    "    return [ ' '.join([__.capitalize() for __ in _.split('_') if __ != 'avg']) for _ in arr]"
   ]
  },
  {
   "cell_type": "code",
   "execution_count": 58,
   "id": "60816783",
   "metadata": {},
   "outputs": [],
   "source": [
    "def radar_chart(ax, categories, values, title):\n",
    "    num_categories = len(categories)\n",
    "\n",
    "    angles = np.linspace(0, 2 * np.pi, num_categories, endpoint=False).tolist()\n",
    "    values += values[:1]\n",
    "    angles += angles[:1]\n",
    "\n",
    "    ax.plot(angles, values, linewidth=2, linestyle='solid', label=title)\n",
    "    ax.fill(angles, values, alpha=0.4)\n",
    "\n",
    "    ax.set_thetagrids(np.degrees(angles[:-1]), labels=format_categories(categories))"
   ]
  },
  {
   "cell_type": "code",
   "execution_count": 54,
   "id": "ea1952e2",
   "metadata": {},
   "outputs": [],
   "source": [
    "categories = ['attack_score','defense_score','transition_score']"
   ]
  },
  {
   "cell_type": "code",
   "execution_count": 55,
   "id": "17c352ad",
   "metadata": {},
   "outputs": [
    {
     "data": {
      "text/html": [
       "<div>\n",
       "<style scoped>\n",
       "    .dataframe tbody tr th:only-of-type {\n",
       "        vertical-align: middle;\n",
       "    }\n",
       "\n",
       "    .dataframe tbody tr th {\n",
       "        vertical-align: top;\n",
       "    }\n",
       "\n",
       "    .dataframe thead th {\n",
       "        text-align: right;\n",
       "    }\n",
       "</style>\n",
       "<table border=\"1\" class=\"dataframe\">\n",
       "  <thead>\n",
       "    <tr style=\"text-align: right;\">\n",
       "      <th></th>\n",
       "      <th>attack_score</th>\n",
       "      <th>defense_score</th>\n",
       "      <th>transition_score</th>\n",
       "    </tr>\n",
       "    <tr>\n",
       "      <th>competition_competition_name</th>\n",
       "      <th></th>\n",
       "      <th></th>\n",
       "      <th></th>\n",
       "    </tr>\n",
       "  </thead>\n",
       "  <tbody>\n",
       "    <tr>\n",
       "      <th>1. Bundesliga</th>\n",
       "      <td>0.112365</td>\n",
       "      <td>0.112547</td>\n",
       "      <td>-0.213586</td>\n",
       "    </tr>\n",
       "    <tr>\n",
       "      <th>La Liga</th>\n",
       "      <td>0.322798</td>\n",
       "      <td>-0.742590</td>\n",
       "      <td>-0.097987</td>\n",
       "    </tr>\n",
       "    <tr>\n",
       "      <th>Ligue 1</th>\n",
       "      <td>0.059896</td>\n",
       "      <td>0.397531</td>\n",
       "      <td>0.062694</td>\n",
       "    </tr>\n",
       "    <tr>\n",
       "      <th>Premier League</th>\n",
       "      <td>-0.615843</td>\n",
       "      <td>0.041048</td>\n",
       "      <td>0.421722</td>\n",
       "    </tr>\n",
       "    <tr>\n",
       "      <th>Serie A</th>\n",
       "      <td>0.120783</td>\n",
       "      <td>0.191464</td>\n",
       "      <td>-0.172842</td>\n",
       "    </tr>\n",
       "  </tbody>\n",
       "</table>\n",
       "</div>"
      ],
      "text/plain": [
       "                              attack_score  defense_score  transition_score\n",
       "competition_competition_name                                               \n",
       "1. Bundesliga                     0.112365       0.112547         -0.213586\n",
       "La Liga                           0.322798      -0.742590         -0.097987\n",
       "Ligue 1                           0.059896       0.397531          0.062694\n",
       "Premier League                   -0.615843       0.041048          0.421722\n",
       "Serie A                           0.120783       0.191464         -0.172842"
      ]
     },
     "execution_count": 55,
     "metadata": {},
     "output_type": "execute_result"
    }
   ],
   "source": [
    "plot_comp_agg = pd_comp_agg.set_index('competition_competition_name')[categories]\n",
    "plot_comp_agg.head()"
   ]
  },
  {
   "cell_type": "code",
   "execution_count": 59,
   "id": "3264e099",
   "metadata": {
    "scrolled": false
   },
   "outputs": [
    {
     "data": {
      "text/plain": [
       "<matplotlib.legend.Legend at 0x7fd775703400>"
      ]
     },
     "execution_count": 59,
     "metadata": {},
     "output_type": "execute_result"
    },
    {
     "data": {
      "image/png": "[encoded data removed]",
      "text/plain": [
       "<Figure size 576x576 with 1 Axes>"
      ]
     },
     "metadata": {
      "needs_background": "light"
     },
     "output_type": "display_data"
    }
   ],
   "source": [
    "fig, ax = plt.subplots(figsize=(8, 8), subplot_kw=dict(polar=True))\n",
    "\n",
    "for idx,row in plot_comp_agg.iterrows():\n",
    "    radar_chart(ax, categories, list(row.values), idx)\n",
    "\n",
    "ax.legend(loc='upper right', bbox_to_anchor=(1.3, 1.1))\n",
    "# ax.set_title('League Comparison', va='bottom')"
   ]
  },
  {
   "cell_type": "markdown",
   "id": "05c2e8ff",
   "metadata": {},
   "source": [
    "## Individual attribute comparison"
   ]
  },
  {
   "cell_type": "markdown",
   "id": "e8718261",
   "metadata": {},
   "source": [
    "### Attack"
   ]
  },
  {
   "cell_type": "code",
   "execution_count": 61,
   "id": "e6b926ca",
   "metadata": {},
   "outputs": [],
   "source": [
    "categories = ['avg_Attacking_pass_count','avg_Forward_carry_count','avg_Attacking_foul_count','avg_goal_count',\n",
    "             'avg_total_offside_count']"
   ]
  },
  {
   "cell_type": "code",
   "execution_count": 62,
   "id": "a4dc2c40",
   "metadata": {},
   "outputs": [
    {
     "data": {
      "text/html": [
       "<div>\n",
       "<style scoped>\n",
       "    .dataframe tbody tr th:only-of-type {\n",
       "        vertical-align: middle;\n",
       "    }\n",
       "\n",
       "    .dataframe tbody tr th {\n",
       "        vertical-align: top;\n",
       "    }\n",
       "\n",
       "    .dataframe thead th {\n",
       "        text-align: right;\n",
       "    }\n",
       "</style>\n",
       "<table border=\"1\" class=\"dataframe\">\n",
       "  <thead>\n",
       "    <tr style=\"text-align: right;\">\n",
       "      <th></th>\n",
       "      <th>avg_Attacking_avg_pass_distance</th>\n",
       "      <th>avg_Attacking_pass_count</th>\n",
       "      <th>avg_Forward_carry_count</th>\n",
       "      <th>avg_Forward_avg_carry_distance</th>\n",
       "      <th>avg_Forward_avg_attacking_carry_distance</th>\n",
       "      <th>avg_Attacking_foul_count</th>\n",
       "      <th>avg_Attacking_foul_share</th>\n",
       "      <th>avg_goal_count</th>\n",
       "      <th>avg_total_offside_count</th>\n",
       "    </tr>\n",
       "    <tr>\n",
       "      <th>competition_competition_name</th>\n",
       "      <th></th>\n",
       "      <th></th>\n",
       "      <th></th>\n",
       "      <th></th>\n",
       "      <th></th>\n",
       "      <th></th>\n",
       "      <th></th>\n",
       "      <th></th>\n",
       "      <th></th>\n",
       "    </tr>\n",
       "  </thead>\n",
       "  <tbody>\n",
       "    <tr>\n",
       "      <th>1. Bundesliga</th>\n",
       "      <td>22.304641</td>\n",
       "      <td>234.629085</td>\n",
       "      <td>201.044118</td>\n",
       "      <td>7.867876</td>\n",
       "      <td>7.867876</td>\n",
       "      <td>1.978517</td>\n",
       "      <td>0.126326</td>\n",
       "      <td>1.367647</td>\n",
       "      <td>2.464052</td>\n",
       "    </tr>\n",
       "    <tr>\n",
       "      <th>La Liga</th>\n",
       "      <td>21.875724</td>\n",
       "      <td>233.255263</td>\n",
       "      <td>199.500000</td>\n",
       "      <td>8.079319</td>\n",
       "      <td>8.079319</td>\n",
       "      <td>2.564715</td>\n",
       "      <td>0.150049</td>\n",
       "      <td>1.335740</td>\n",
       "      <td>2.453947</td>\n",
       "    </tr>\n",
       "    <tr>\n",
       "      <th>Ligue 1</th>\n",
       "      <td>21.487044</td>\n",
       "      <td>242.553663</td>\n",
       "      <td>212.935562</td>\n",
       "      <td>8.107111</td>\n",
       "      <td>8.107111</td>\n",
       "      <td>1.891390</td>\n",
       "      <td>0.118301</td>\n",
       "      <td>1.215007</td>\n",
       "      <td>2.148542</td>\n",
       "    </tr>\n",
       "    <tr>\n",
       "      <th>Premier League</th>\n",
       "      <td>21.767250</td>\n",
       "      <td>235.488158</td>\n",
       "      <td>199.605263</td>\n",
       "      <td>8.322711</td>\n",
       "      <td>8.322711</td>\n",
       "      <td>2.023403</td>\n",
       "      <td>0.158215</td>\n",
       "      <td>1.300000</td>\n",
       "      <td>1.960526</td>\n",
       "    </tr>\n",
       "    <tr>\n",
       "      <th>Serie A</th>\n",
       "      <td>21.321895</td>\n",
       "      <td>240.246053</td>\n",
       "      <td>207.785526</td>\n",
       "      <td>8.223009</td>\n",
       "      <td>8.223009</td>\n",
       "      <td>1.921304</td>\n",
       "      <td>0.113535</td>\n",
       "      <td>1.251316</td>\n",
       "      <td>2.372368</td>\n",
       "    </tr>\n",
       "  </tbody>\n",
       "</table>\n",
       "</div>"
      ],
      "text/plain": [
       "                              avg_Attacking_avg_pass_distance  \\\n",
       "competition_competition_name                                    \n",
       "1. Bundesliga                                       22.304641   \n",
       "La Liga                                             21.875724   \n",
       "Ligue 1                                             21.487044   \n",
       "Premier League                                      21.767250   \n",
       "Serie A                                             21.321895   \n",
       "\n",
       "                              avg_Attacking_pass_count  \\\n",
       "competition_competition_name                             \n",
       "1. Bundesliga                               234.629085   \n",
       "La Liga                                     233.255263   \n",
       "Ligue 1                                     242.553663   \n",
       "Premier League                              235.488158   \n",
       "Serie A                                     240.246053   \n",
       "\n",
       "                              avg_Forward_carry_count  \\\n",
       "competition_competition_name                            \n",
       "1. Bundesliga                              201.044118   \n",
       "La Liga                                    199.500000   \n",
       "Ligue 1                                    212.935562   \n",
       "Premier League                             199.605263   \n",
       "Serie A                                    207.785526   \n",
       "\n",
       "                              avg_Forward_avg_carry_distance  \\\n",
       "competition_competition_name                                   \n",
       "1. Bundesliga                                       7.867876   \n",
       "La Liga                                             8.079319   \n",
       "Ligue 1                                             8.107111   \n",
       "Premier League                                      8.322711   \n",
       "Serie A                                             8.223009   \n",
       "\n",
       "                              avg_Forward_avg_attacking_carry_distance  \\\n",
       "competition_competition_name                                             \n",
       "1. Bundesliga                                                 7.867876   \n",
       "La Liga                                                       8.079319   \n",
       "Ligue 1                                                       8.107111   \n",
       "Premier League                                                8.322711   \n",
       "Serie A                                                       8.223009   \n",
       "\n",
       "                              avg_Attacking_foul_count  \\\n",
       "competition_competition_name                             \n",
       "1. Bundesliga                                 1.978517   \n",
       "La Liga                                       2.564715   \n",
       "Ligue 1                                       1.891390   \n",
       "Premier League                                2.023403   \n",
       "Serie A                                       1.921304   \n",
       "\n",
       "                              avg_Attacking_foul_share  avg_goal_count  \\\n",
       "competition_competition_name                                             \n",
       "1. Bundesliga                                 0.126326        1.367647   \n",
       "La Liga                                       0.150049        1.335740   \n",
       "Ligue 1                                       0.118301        1.215007   \n",
       "Premier League                                0.158215        1.300000   \n",
       "Serie A                                       0.113535        1.251316   \n",
       "\n",
       "                              avg_total_offside_count  \n",
       "competition_competition_name                           \n",
       "1. Bundesliga                                2.464052  \n",
       "La Liga                                      2.453947  \n",
       "Ligue 1                                      2.148542  \n",
       "Premier League                               1.960526  \n",
       "Serie A                                      2.372368  "
      ]
     },
     "execution_count": 62,
     "metadata": {},
     "output_type": "execute_result"
    }
   ],
   "source": [
    "plot_at_comp_agg = pd_comp_agg.set_index('competition_competition_name')[attack_cols]\n",
    "plot_at_comp_agg.head()"
   ]
  },
  {
   "cell_type": "code",
   "execution_count": 63,
   "id": "cec83a0e",
   "metadata": {},
   "outputs": [],
   "source": [
    "scaler_minmax = StandardScaler()\n",
    "comp_agg_at_sc = scaler_minmax.fit_transform(plot_at_comp_agg)\n",
    "pd_comp_agg_at_sc = pd.DataFrame(comp_agg_at_sc, index = plot_at_comp_agg.index,\n",
    "                                        columns = plot_at_comp_agg.columns)"
   ]
  },
  {
   "cell_type": "code",
   "execution_count": 67,
   "id": "86f792c5",
   "metadata": {
    "scrolled": false
   },
   "outputs": [
    {
     "data": {
      "text/plain": [
       "<matplotlib.legend.Legend at 0x7fd7778f2280>"
      ]
     },
     "execution_count": 67,
     "metadata": {},
     "output_type": "execute_result"
    },
    {
     "data": {
      "image/png": "[encoded data removed]",
      "text/plain": [
       "<Figure size 576x576 with 1 Axes>"
      ]
     },
     "metadata": {
      "needs_background": "light"
     },
     "output_type": "display_data"
    }
   ],
   "source": [
    "fig, ax = plt.subplots(figsize=(8, 8), subplot_kw=dict(polar=True))\n",
    "\n",
    "for idx,row in pd_comp_agg_at_sc[categories].iterrows():\n",
    "    radar_chart(ax, categories, list(row.values), idx)\n",
    "\n",
    "ax.legend(loc='upper right', bbox_to_anchor=(1.3, 1.1))"
   ]
  },
  {
   "cell_type": "markdown",
   "id": "d8bb47a6",
   "metadata": {},
   "source": [
    "### Defense"
   ]
  },
  {
   "cell_type": "code",
   "execution_count": 81,
   "id": "5d025908",
   "metadata": {},
   "outputs": [],
   "source": [
    "categories = ['avg_duel_count', 'avg_block_count', 'avg_clearance_count', 'avg_shield_count',\n",
    "              'avg_Defensive_pass_count', 'avg_Backward_carry_count',\n",
    "              'avg_Defensive_foul_count']"
   ]
  },
  {
   "cell_type": "code",
   "execution_count": 82,
   "id": "50e94e3b",
   "metadata": {},
   "outputs": [
    {
     "data": {
      "text/html": [
       "<div>\n",
       "<style scoped>\n",
       "    .dataframe tbody tr th:only-of-type {\n",
       "        vertical-align: middle;\n",
       "    }\n",
       "\n",
       "    .dataframe tbody tr th {\n",
       "        vertical-align: top;\n",
       "    }\n",
       "\n",
       "    .dataframe thead th {\n",
       "        text-align: right;\n",
       "    }\n",
       "</style>\n",
       "<table border=\"1\" class=\"dataframe\">\n",
       "  <thead>\n",
       "    <tr style=\"text-align: right;\">\n",
       "      <th></th>\n",
       "      <th>avg_duel_count</th>\n",
       "      <th>avg_block_count</th>\n",
       "      <th>avg_clearance_count</th>\n",
       "      <th>avg_shield_count</th>\n",
       "      <th>avg_Defensive_avg_pass_distance</th>\n",
       "      <th>avg_Defensive_pass_count</th>\n",
       "      <th>avg_Backward_carry_count</th>\n",
       "      <th>avg_Backward_avg_carry_distance</th>\n",
       "      <th>avg_Backward_avg_attacking_carry_distance</th>\n",
       "      <th>avg_Defensive_foul_count</th>\n",
       "      <th>avg_Defensive_foul_share</th>\n",
       "    </tr>\n",
       "    <tr>\n",
       "      <th>competition_competition_name</th>\n",
       "      <th></th>\n",
       "      <th></th>\n",
       "      <th></th>\n",
       "      <th></th>\n",
       "      <th></th>\n",
       "      <th></th>\n",
       "      <th></th>\n",
       "      <th></th>\n",
       "      <th></th>\n",
       "      <th></th>\n",
       "      <th></th>\n",
       "    </tr>\n",
       "  </thead>\n",
       "  <tbody>\n",
       "    <tr>\n",
       "      <th>1. Bundesliga</th>\n",
       "      <td>42.287582</td>\n",
       "      <td>20.366013</td>\n",
       "      <td>23.616013</td>\n",
       "      <td>1.435649</td>\n",
       "      <td>22.355980</td>\n",
       "      <td>238.186275</td>\n",
       "      <td>96.189542</td>\n",
       "      <td>4.701006</td>\n",
       "      <td>-4.701006</td>\n",
       "      <td>5.322084</td>\n",
       "      <td>0.307097</td>\n",
       "    </tr>\n",
       "    <tr>\n",
       "      <th>La Liga</th>\n",
       "      <td>41.550000</td>\n",
       "      <td>18.310526</td>\n",
       "      <td>21.338158</td>\n",
       "      <td>1.408946</td>\n",
       "      <td>21.812816</td>\n",
       "      <td>238.280263</td>\n",
       "      <td>98.644737</td>\n",
       "      <td>4.697663</td>\n",
       "      <td>-4.697663</td>\n",
       "      <td>4.230086</td>\n",
       "      <td>0.262558</td>\n",
       "    </tr>\n",
       "    <tr>\n",
       "      <th>Ligue 1</th>\n",
       "      <td>43.004943</td>\n",
       "      <td>19.474075</td>\n",
       "      <td>23.041038</td>\n",
       "      <td>1.441155</td>\n",
       "      <td>21.553105</td>\n",
       "      <td>244.668243</td>\n",
       "      <td>99.076849</td>\n",
       "      <td>4.717430</td>\n",
       "      <td>-4.717430</td>\n",
       "      <td>4.335025</td>\n",
       "      <td>0.287013</td>\n",
       "    </tr>\n",
       "    <tr>\n",
       "      <th>Premier League</th>\n",
       "      <td>42.486842</td>\n",
       "      <td>19.525000</td>\n",
       "      <td>28.480263</td>\n",
       "      <td>1.412585</td>\n",
       "      <td>21.544908</td>\n",
       "      <td>238.253947</td>\n",
       "      <td>101.589474</td>\n",
       "      <td>4.882549</td>\n",
       "      <td>-4.882549</td>\n",
       "      <td>3.274577</td>\n",
       "      <td>0.245458</td>\n",
       "    </tr>\n",
       "    <tr>\n",
       "      <th>Serie A</th>\n",
       "      <td>37.939474</td>\n",
       "      <td>20.693421</td>\n",
       "      <td>23.388158</td>\n",
       "      <td>1.438150</td>\n",
       "      <td>21.605145</td>\n",
       "      <td>242.938158</td>\n",
       "      <td>99.347368</td>\n",
       "      <td>4.671912</td>\n",
       "      <td>-4.671912</td>\n",
       "      <td>4.608322</td>\n",
       "      <td>0.266713</td>\n",
       "    </tr>\n",
       "  </tbody>\n",
       "</table>\n",
       "</div>"
      ],
      "text/plain": [
       "                              avg_duel_count  avg_block_count  \\\n",
       "competition_competition_name                                    \n",
       "1. Bundesliga                      42.287582        20.366013   \n",
       "La Liga                            41.550000        18.310526   \n",
       "Ligue 1                            43.004943        19.474075   \n",
       "Premier League                     42.486842        19.525000   \n",
       "Serie A                            37.939474        20.693421   \n",
       "\n",
       "                              avg_clearance_count  avg_shield_count  \\\n",
       "competition_competition_name                                          \n",
       "1. Bundesliga                           23.616013          1.435649   \n",
       "La Liga                                 21.338158          1.408946   \n",
       "Ligue 1                                 23.041038          1.441155   \n",
       "Premier League                          28.480263          1.412585   \n",
       "Serie A                                 23.388158          1.438150   \n",
       "\n",
       "                              avg_Defensive_avg_pass_distance  \\\n",
       "competition_competition_name                                    \n",
       "1. Bundesliga                                       22.355980   \n",
       "La Liga                                             21.812816   \n",
       "Ligue 1                                             21.553105   \n",
       "Premier League                                      21.544908   \n",
       "Serie A                                             21.605145   \n",
       "\n",
       "                              avg_Defensive_pass_count  \\\n",
       "competition_competition_name                             \n",
       "1. Bundesliga                               238.186275   \n",
       "La Liga                                     238.280263   \n",
       "Ligue 1                                     244.668243   \n",
       "Premier League                              238.253947   \n",
       "Serie A                                     242.938158   \n",
       "\n",
       "                              avg_Backward_carry_count  \\\n",
       "competition_competition_name                             \n",
       "1. Bundesliga                                96.189542   \n",
       "La Liga                                      98.644737   \n",
       "Ligue 1                                      99.076849   \n",
       "Premier League                              101.589474   \n",
       "Serie A                                      99.347368   \n",
       "\n",
       "                              avg_Backward_avg_carry_distance  \\\n",
       "competition_competition_name                                    \n",
       "1. Bundesliga                                        4.701006   \n",
       "La Liga                                              4.697663   \n",
       "Ligue 1                                              4.717430   \n",
       "Premier League                                       4.882549   \n",
       "Serie A                                              4.671912   \n",
       "\n",
       "                              avg_Backward_avg_attacking_carry_distance  \\\n",
       "competition_competition_name                                              \n",
       "1. Bundesliga                                                 -4.701006   \n",
       "La Liga                                                       -4.697663   \n",
       "Ligue 1                                                       -4.717430   \n",
       "Premier League                                                -4.882549   \n",
       "Serie A                                                       -4.671912   \n",
       "\n",
       "                              avg_Defensive_foul_count  \\\n",
       "competition_competition_name                             \n",
       "1. Bundesliga                                 5.322084   \n",
       "La Liga                                       4.230086   \n",
       "Ligue 1                                       4.335025   \n",
       "Premier League                                3.274577   \n",
       "Serie A                                       4.608322   \n",
       "\n",
       "                              avg_Defensive_foul_share  \n",
       "competition_competition_name                            \n",
       "1. Bundesliga                                 0.307097  \n",
       "La Liga                                       0.262558  \n",
       "Ligue 1                                       0.287013  \n",
       "Premier League                                0.245458  \n",
       "Serie A                                       0.266713  "
      ]
     },
     "execution_count": 82,
     "metadata": {},
     "output_type": "execute_result"
    }
   ],
   "source": [
    "plot_de_comp_agg = pd_comp_agg.set_index('competition_competition_name')[defense_cols]\n",
    "plot_de_comp_agg.head()"
   ]
  },
  {
   "cell_type": "code",
   "execution_count": 83,
   "id": "a49411b9",
   "metadata": {},
   "outputs": [],
   "source": [
    "scaler_minmax = StandardScaler()\n",
    "comp_agg_de_sc = scaler_minmax.fit_transform(plot_de_comp_agg)\n",
    "pd_comp_agg_de_sc = pd.DataFrame(comp_agg_de_sc, index = plot_de_comp_agg.index,\n",
    "                                        columns = plot_de_comp_agg.columns)"
   ]
  },
  {
   "cell_type": "code",
   "execution_count": 84,
   "id": "4bd59f69",
   "metadata": {},
   "outputs": [
    {
     "data": {
      "text/html": [
       "<div>\n",
       "<style scoped>\n",
       "    .dataframe tbody tr th:only-of-type {\n",
       "        vertical-align: middle;\n",
       "    }\n",
       "\n",
       "    .dataframe tbody tr th {\n",
       "        vertical-align: top;\n",
       "    }\n",
       "\n",
       "    .dataframe thead th {\n",
       "        text-align: right;\n",
       "    }\n",
       "</style>\n",
       "<table border=\"1\" class=\"dataframe\">\n",
       "  <thead>\n",
       "    <tr style=\"text-align: right;\">\n",
       "      <th></th>\n",
       "      <th>avg_duel_count</th>\n",
       "      <th>avg_block_count</th>\n",
       "      <th>avg_clearance_count</th>\n",
       "      <th>avg_shield_count</th>\n",
       "      <th>avg_Defensive_avg_pass_distance</th>\n",
       "      <th>avg_Defensive_pass_count</th>\n",
       "      <th>avg_Backward_carry_count</th>\n",
       "      <th>avg_Backward_avg_carry_distance</th>\n",
       "      <th>avg_Backward_avg_attacking_carry_distance</th>\n",
       "      <th>avg_Defensive_foul_count</th>\n",
       "      <th>avg_Defensive_foul_share</th>\n",
       "    </tr>\n",
       "    <tr>\n",
       "      <th>competition_competition_name</th>\n",
       "      <th></th>\n",
       "      <th></th>\n",
       "      <th></th>\n",
       "      <th></th>\n",
       "      <th></th>\n",
       "      <th></th>\n",
       "      <th></th>\n",
       "      <th></th>\n",
       "      <th></th>\n",
       "      <th></th>\n",
       "      <th></th>\n",
       "    </tr>\n",
       "  </thead>\n",
       "  <tbody>\n",
       "    <tr>\n",
       "      <th>1. Bundesliga</th>\n",
       "      <td>0.458608</td>\n",
       "      <td>0.834609</td>\n",
       "      <td>-0.149160</td>\n",
       "      <td>0.611487</td>\n",
       "      <td>1.896942</td>\n",
       "      <td>-0.819862</td>\n",
       "      <td>-1.613030</td>\n",
       "      <td>-0.437688</td>\n",
       "      <td>0.437688</td>\n",
       "      <td>1.465173</td>\n",
       "      <td>1.566576</td>\n",
       "    </tr>\n",
       "    <tr>\n",
       "      <th>La Liga</th>\n",
       "      <td>0.052929</td>\n",
       "      <td>-1.643740</td>\n",
       "      <td>-1.101648</td>\n",
       "      <td>-1.343557</td>\n",
       "      <td>0.125329</td>\n",
       "      <td>-0.786051</td>\n",
       "      <td>-0.188487</td>\n",
       "      <td>-0.481890</td>\n",
       "      <td>0.481890</td>\n",
       "      <td>-0.187573</td>\n",
       "      <td>-0.526891</td>\n",
       "    </tr>\n",
       "    <tr>\n",
       "      <th>Ligue 1</th>\n",
       "      <td>0.853166</td>\n",
       "      <td>-0.240821</td>\n",
       "      <td>-0.389586</td>\n",
       "      <td>1.014580</td>\n",
       "      <td>-0.721758</td>\n",
       "      <td>1.511897</td>\n",
       "      <td>0.062231</td>\n",
       "      <td>-0.220555</td>\n",
       "      <td>0.220555</td>\n",
       "      <td>-0.028747</td>\n",
       "      <td>0.622582</td>\n",
       "    </tr>\n",
       "    <tr>\n",
       "      <th>Premier League</th>\n",
       "      <td>0.568204</td>\n",
       "      <td>-0.179420</td>\n",
       "      <td>1.884833</td>\n",
       "      <td>-1.077113</td>\n",
       "      <td>-0.748493</td>\n",
       "      <td>-0.795518</td>\n",
       "      <td>1.520095</td>\n",
       "      <td>1.962477</td>\n",
       "      <td>-1.962477</td>\n",
       "      <td>-1.633743</td>\n",
       "      <td>-1.330659</td>\n",
       "    </tr>\n",
       "    <tr>\n",
       "      <th>Serie A</th>\n",
       "      <td>-1.932907</td>\n",
       "      <td>1.229373</td>\n",
       "      <td>-0.244438</td>\n",
       "      <td>0.794603</td>\n",
       "      <td>-0.552021</td>\n",
       "      <td>0.889533</td>\n",
       "      <td>0.219191</td>\n",
       "      <td>-0.822344</td>\n",
       "      <td>0.822344</td>\n",
       "      <td>0.384890</td>\n",
       "      <td>-0.331608</td>\n",
       "    </tr>\n",
       "  </tbody>\n",
       "</table>\n",
       "</div>"
      ],
      "text/plain": [
       "                              avg_duel_count  avg_block_count  \\\n",
       "competition_competition_name                                    \n",
       "1. Bundesliga                       0.458608         0.834609   \n",
       "La Liga                             0.052929        -1.643740   \n",
       "Ligue 1                             0.853166        -0.240821   \n",
       "Premier League                      0.568204        -0.179420   \n",
       "Serie A                            -1.932907         1.229373   \n",
       "\n",
       "                              avg_clearance_count  avg_shield_count  \\\n",
       "competition_competition_name                                          \n",
       "1. Bundesliga                           -0.149160          0.611487   \n",
       "La Liga                                 -1.101648         -1.343557   \n",
       "Ligue 1                                 -0.389586          1.014580   \n",
       "Premier League                           1.884833         -1.077113   \n",
       "Serie A                                 -0.244438          0.794603   \n",
       "\n",
       "                              avg_Defensive_avg_pass_distance  \\\n",
       "competition_competition_name                                    \n",
       "1. Bundesliga                                        1.896942   \n",
       "La Liga                                              0.125329   \n",
       "Ligue 1                                             -0.721758   \n",
       "Premier League                                      -0.748493   \n",
       "Serie A                                             -0.552021   \n",
       "\n",
       "                              avg_Defensive_pass_count  \\\n",
       "competition_competition_name                             \n",
       "1. Bundesliga                                -0.819862   \n",
       "La Liga                                      -0.786051   \n",
       "Ligue 1                                       1.511897   \n",
       "Premier League                               -0.795518   \n",
       "Serie A                                       0.889533   \n",
       "\n",
       "                              avg_Backward_carry_count  \\\n",
       "competition_competition_name                             \n",
       "1. Bundesliga                                -1.613030   \n",
       "La Liga                                      -0.188487   \n",
       "Ligue 1                                       0.062231   \n",
       "Premier League                                1.520095   \n",
       "Serie A                                       0.219191   \n",
       "\n",
       "                              avg_Backward_avg_carry_distance  \\\n",
       "competition_competition_name                                    \n",
       "1. Bundesliga                                       -0.437688   \n",
       "La Liga                                             -0.481890   \n",
       "Ligue 1                                             -0.220555   \n",
       "Premier League                                       1.962477   \n",
       "Serie A                                             -0.822344   \n",
       "\n",
       "                              avg_Backward_avg_attacking_carry_distance  \\\n",
       "competition_competition_name                                              \n",
       "1. Bundesliga                                                  0.437688   \n",
       "La Liga                                                        0.481890   \n",
       "Ligue 1                                                        0.220555   \n",
       "Premier League                                                -1.962477   \n",
       "Serie A                                                        0.822344   \n",
       "\n",
       "                              avg_Defensive_foul_count  \\\n",
       "competition_competition_name                             \n",
       "1. Bundesliga                                 1.465173   \n",
       "La Liga                                      -0.187573   \n",
       "Ligue 1                                      -0.028747   \n",
       "Premier League                               -1.633743   \n",
       "Serie A                                       0.384890   \n",
       "\n",
       "                              avg_Defensive_foul_share  \n",
       "competition_competition_name                            \n",
       "1. Bundesliga                                 1.566576  \n",
       "La Liga                                      -0.526891  \n",
       "Ligue 1                                       0.622582  \n",
       "Premier League                               -1.330659  \n",
       "Serie A                                      -0.331608  "
      ]
     },
     "execution_count": 84,
     "metadata": {},
     "output_type": "execute_result"
    }
   ],
   "source": [
    "pd_comp_agg_transition_sc"
   ]
  },
  {
   "cell_type": "code",
   "execution_count": 85,
   "id": "aa8b3ece",
   "metadata": {
    "scrolled": false
   },
   "outputs": [
    {
     "data": {
      "text/plain": [
       "<matplotlib.legend.Legend at 0x7fd6d580fbe0>"
      ]
     },
     "execution_count": 85,
     "metadata": {},
     "output_type": "execute_result"
    },
    {
     "data": {
      "image/png": "[encoded data removed]",
      "text/plain": [
       "<Figure size 576x576 with 1 Axes>"
      ]
     },
     "metadata": {
      "needs_background": "light"
     },
     "output_type": "display_data"
    }
   ],
   "source": [
    "fig, ax = plt.subplots(figsize=(8, 8), subplot_kw=dict(polar=True))\n",
    "\n",
    "for idx,row in pd_comp_agg_de_sc[categories].iterrows():\n",
    "    radar_chart(ax, categories, list(row.values), idx)\n",
    "\n",
    "ax.legend(loc='upper right', bbox_to_anchor=(1.3, 1.1))\n",
    "# ax.set_title('League Comparison', va='bottom')"
   ]
  },
  {
   "cell_type": "markdown",
   "id": "16aa2e75",
   "metadata": {},
   "source": [
    "### Transition"
   ]
  },
  {
   "cell_type": "code",
   "execution_count": 90,
   "id": "327b6585",
   "metadata": {},
   "outputs": [],
   "source": [
    "categories = ['avg_ball_recovery_count', 'avg_interception_count',  \n",
    "               'avg_Transition_pass_count', 'avg_Transition_carry_count', \n",
    "               'avg_Transition_foul_count']"
   ]
  },
  {
   "cell_type": "code",
   "execution_count": 91,
   "id": "0d996db0",
   "metadata": {},
   "outputs": [
    {
     "data": {
      "text/html": [
       "<div>\n",
       "<style scoped>\n",
       "    .dataframe tbody tr th:only-of-type {\n",
       "        vertical-align: middle;\n",
       "    }\n",
       "\n",
       "    .dataframe tbody tr th {\n",
       "        vertical-align: top;\n",
       "    }\n",
       "\n",
       "    .dataframe thead th {\n",
       "        text-align: right;\n",
       "    }\n",
       "</style>\n",
       "<table border=\"1\" class=\"dataframe\">\n",
       "  <thead>\n",
       "    <tr style=\"text-align: right;\">\n",
       "      <th></th>\n",
       "      <th>avg_ball_recovery_count</th>\n",
       "      <th>avg_interception_count</th>\n",
       "      <th>avg_Transition_pass_count</th>\n",
       "      <th>avg_Transition_carry_count</th>\n",
       "      <th>avg_Transition_foul_count</th>\n",
       "    </tr>\n",
       "    <tr>\n",
       "      <th>competition_competition_name</th>\n",
       "      <th></th>\n",
       "      <th></th>\n",
       "      <th></th>\n",
       "      <th></th>\n",
       "      <th></th>\n",
       "    </tr>\n",
       "  </thead>\n",
       "  <tbody>\n",
       "    <tr>\n",
       "      <th>1. Bundesliga</th>\n",
       "      <td>51.895425</td>\n",
       "      <td>9.769608</td>\n",
       "      <td>7.670558</td>\n",
       "      <td>4.590351</td>\n",
       "      <td>1.277097</td>\n",
       "    </tr>\n",
       "    <tr>\n",
       "      <th>La Liga</th>\n",
       "      <td>50.676316</td>\n",
       "      <td>16.281579</td>\n",
       "      <td>6.686365</td>\n",
       "      <td>4.556067</td>\n",
       "      <td>1.277139</td>\n",
       "    </tr>\n",
       "    <tr>\n",
       "      <th>Ligue 1</th>\n",
       "      <td>55.543314</td>\n",
       "      <td>11.318706</td>\n",
       "      <td>6.710862</td>\n",
       "      <td>4.587346</td>\n",
       "      <td>1.267498</td>\n",
       "    </tr>\n",
       "    <tr>\n",
       "      <th>Premier League</th>\n",
       "      <td>53.872368</td>\n",
       "      <td>11.736842</td>\n",
       "      <td>8.495306</td>\n",
       "      <td>4.744494</td>\n",
       "      <td>1.216975</td>\n",
       "    </tr>\n",
       "    <tr>\n",
       "      <th>Serie A</th>\n",
       "      <td>54.384211</td>\n",
       "      <td>10.198684</td>\n",
       "      <td>5.806467</td>\n",
       "      <td>4.536053</td>\n",
       "      <td>1.322815</td>\n",
       "    </tr>\n",
       "  </tbody>\n",
       "</table>\n",
       "</div>"
      ],
      "text/plain": [
       "                              avg_ball_recovery_count  avg_interception_count  \\\n",
       "competition_competition_name                                                    \n",
       "1. Bundesliga                               51.895425                9.769608   \n",
       "La Liga                                     50.676316               16.281579   \n",
       "Ligue 1                                     55.543314               11.318706   \n",
       "Premier League                              53.872368               11.736842   \n",
       "Serie A                                     54.384211               10.198684   \n",
       "\n",
       "                              avg_Transition_pass_count  \\\n",
       "competition_competition_name                              \n",
       "1. Bundesliga                                  7.670558   \n",
       "La Liga                                        6.686365   \n",
       "Ligue 1                                        6.710862   \n",
       "Premier League                                 8.495306   \n",
       "Serie A                                        5.806467   \n",
       "\n",
       "                              avg_Transition_carry_count  \\\n",
       "competition_competition_name                               \n",
       "1. Bundesliga                                   4.590351   \n",
       "La Liga                                         4.556067   \n",
       "Ligue 1                                         4.587346   \n",
       "Premier League                                  4.744494   \n",
       "Serie A                                         4.536053   \n",
       "\n",
       "                              avg_Transition_foul_count  \n",
       "competition_competition_name                             \n",
       "1. Bundesliga                                  1.277097  \n",
       "La Liga                                        1.277139  \n",
       "Ligue 1                                        1.267498  \n",
       "Premier League                                 1.216975  \n",
       "Serie A                                        1.322815  "
      ]
     },
     "execution_count": 91,
     "metadata": {},
     "output_type": "execute_result"
    }
   ],
   "source": [
    "plot_tr_comp_agg = pd_comp_agg[['competition_competition_name']+transition_cols]\n",
    "plot_tr_comp_agg = plot_tr_comp_agg.set_index('competition_competition_name')\n",
    "plot_tr_comp_agg.head()"
   ]
  },
  {
   "cell_type": "code",
   "execution_count": 93,
   "id": "3d3c0f3b",
   "metadata": {},
   "outputs": [],
   "source": [
    "scaler_minmax = StandardScaler()\n",
    "comp_agg_tr_sc = scaler_minmax.fit_transform(plot_tr_comp_agg[categories])\n",
    "pd_comp_agg_tr_sc = pd.DataFrame(comp_agg_tr_sc,index = plot_tr_comp_agg.index,\n",
    "                                        columns = categories)"
   ]
  },
  {
   "cell_type": "code",
   "execution_count": 79,
   "id": "2acbdbde",
   "metadata": {
    "scrolled": false
   },
   "outputs": [
    {
     "data": {
      "text/plain": [
       "<matplotlib.legend.Legend at 0x7fd6d5903850>"
      ]
     },
     "execution_count": 79,
     "metadata": {},
     "output_type": "execute_result"
    },
    {
     "data": {
      "image/png": "[encoded data removed]",
      "text/plain": [
       "<Figure size 576x576 with 1 Axes>"
      ]
     },
     "metadata": {
      "needs_background": "light"
     },
     "output_type": "display_data"
    }
   ],
   "source": [
    "fig, ax = plt.subplots(figsize=(8, 8), subplot_kw=dict(polar=True))\n",
    "\n",
    "for idx,row in pd_comp_agg_tr_sc[categories].iterrows():\n",
    "    radar_chart(ax, categories, list(row.values), idx)\n",
    "\n",
    "ax.legend(loc='upper right', bbox_to_anchor=(1.3, 1.1))\n",
    "# ax.set_title('League Comparison', va='bottom')"
   ]
  },
  {
   "cell_type": "code",
   "execution_count": null,
   "id": "24468458",
   "metadata": {},
   "outputs": [],
   "source": []
  }
 ],
 "metadata": {
  "kernelspec": {
   "display_name": "Python 3 (ipykernel)",
   "language": "python",
   "name": "python3"
  },
  "language_info": {
   "codemirror_mode": {
    "name": "ipython",
    "version": 3
   },
   "file_extension": ".py",
   "mimetype": "text/x-python",
   "name": "python",
   "nbconvert_exporter": "python",
   "pygments_lexer": "ipython3",
   "version": "3.8.13"
  },
  "toc": {
   "base_numbering": 1,
   "nav_menu": {},
   "number_sections": true,
   "sideBar": true,
   "skip_h1_title": false,
   "title_cell": "Table of Contents",
   "title_sidebar": "Contents",
   "toc_cell": false,
   "toc_position": {
    "height": "calc(100% - 180px)",
    "left": "10px",
    "top": "150px",
    "width": "326.667px"
   },
   "toc_section_display": true,
   "toc_window_display": true
  }
 },
 "nbformat": 4,
 "nbformat_minor": 5
}
